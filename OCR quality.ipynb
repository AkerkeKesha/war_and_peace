{
 "cells": [
  {
   "cell_type": "code",
   "execution_count": 78,
   "metadata": {},
   "outputs": [
    {
     "name": "stdout",
     "output_type": "stream",
     "text": [
      "The autoreload extension is already loaded. To reload it, use:\n",
      "  %reload_ext autoreload\n"
     ]
    }
   ],
   "source": [
    "%load_ext autoreload\n",
    "%autoreload 2"
   ]
  },
  {
   "cell_type": "code",
   "execution_count": 3,
   "metadata": {},
   "outputs": [],
   "source": [
    "import fastwer\n",
    "import re\n",
    "import spacy\n",
    "from utils import get_raw_file, find_required_paragraph\n",
    "import epub_reader \n",
    "import pandas as pd"
   ]
  },
  {
   "cell_type": "code",
   "execution_count": 200,
   "metadata": {},
   "outputs": [],
   "source": [
    "\n",
    "# Create empty dataframe to store results\n",
    "df = pd.DataFrame(columns = ['author', 'volume','ground_truth', 'ocr_output','cer'])"
   ]
  },
  {
   "cell_type": "code",
   "execution_count": 199,
   "metadata": {},
   "outputs": [
    {
     "data": {
      "text/html": [
       "<div>\n",
       "<style scoped>\n",
       "    .dataframe tbody tr th:only-of-type {\n",
       "        vertical-align: middle;\n",
       "    }\n",
       "\n",
       "    .dataframe tbody tr th {\n",
       "        vertical-align: top;\n",
       "    }\n",
       "\n",
       "    .dataframe thead th {\n",
       "        text-align: right;\n",
       "    }\n",
       "</style>\n",
       "<table border=\"1\" class=\"dataframe\">\n",
       "  <thead>\n",
       "    <tr style=\"text-align: right;\">\n",
       "      <th></th>\n",
       "      <th>author</th>\n",
       "      <th>volume</th>\n",
       "      <th>ground_truth</th>\n",
       "      <th>ocr_output</th>\n",
       "      <th>cer</th>\n",
       "    </tr>\n",
       "  </thead>\n",
       "  <tbody>\n",
       "  </tbody>\n",
       "</table>\n",
       "</div>"
      ],
      "text/plain": [
       "Empty DataFrame\n",
       "Columns: [author, volume, ground_truth, ocr_output, cer]\n",
       "Index: []"
      ]
     },
     "execution_count": 199,
     "metadata": {},
     "output_type": "execute_result"
    }
   ],
   "source": [
    "bell':[1,2,3,4,5,6]"
   ]
  },
  {
   "cell_type": "markdown",
   "metadata": {},
   "source": [
    "## 1. clara bell  Tilsit vol1"
   ]
  },
  {
   "cell_type": "markdown",
   "metadata": {},
   "source": [
    "<img src=\"./imgs/bell_tilsit_page2.png\" width=\"400\" height=\"200\">"
   ]
  },
  {
   "cell_type": "code",
   "execution_count": 53,
   "metadata": {},
   "outputs": [],
   "source": [
    "gt = \"A footman in red livery - the court livery - had been round the town that morning, carrying a number of notes each saying in the same terms, and in French:\\\"If you have nothing better to do this evening M. le Comte, or M. le Prince, and are not too much alarmed at the prospect of spending it with a hapless invalid, I shall be delighted to see you between seven and eight. ANNA SCHÉRER.\\\" \\\"Mercy on us what a terrible attack! \\\"said the prince, not in the least upset by this reception. He wore a court uniform embroidered with gold and sparkling with orders, silk stockings, and buckled shoes; his flat face wore an affable smile; he spoke French — that elaborate French which to the Russians of a generation or two back was the language even of their thoughtsand his voice had the deliberate and patronizing tones of a man influential at court and grown old in its atmosphere.He came up to Anna Paulovna, and kissed her hand, bending his bald and perfumed head over it; then he seated himself comfortably on the sofa.\\\" \\\"First of all let me entreat you to give me good news of your health,\\\"he said in a gallant tone which nevertheless betrayed a shade of irony, not to say of indifference, under the formalities of politeness\""
   ]
  },
  {
   "cell_type": "code",
   "execution_count": 80,
   "metadata": {},
   "outputs": [
    {
     "name": "stdout",
     "output_type": "stream",
     "text": [
      "A footman in red livery - the court livery - had been round the town that morning, carrying a number of notes each saying in the same terms, and in French:\"If you have nothing better to do this evening M. le Comte, or M. le Prince, and are not too much alarmed at the prospect of spending it with a hapless invalid, I shall be delighted to see you between seven and eight. ANNA SCHÉRER.\" \"Mercy on us what a terrible attack! \"said the prince, not in the least upset by this reception. He wore a court uniform embroidered with gold and sparkling with orders, silk stockings, and buckled shoes; his flat face wore an affable smile; he spoke French — that elaborate French which to the Russians of a generation or two back was the language even of their thoughtsand his voice had the deliberate and patronizing tones of a man influential at court and grown old in its atmosphere.He came up to Anna Paulovna, and kissed her hand, bending his bald and perfumed head over it; then he seated himself comfortably on the sofa.\" \"First of all let me entreat you to give me good news of your health,\"he said in a gallant tone which nevertheless betrayed a shade of irony, not to say of indifference, under the formalities of politeness\n"
     ]
    }
   ],
   "source": [
    "print(gt)"
   ]
  },
  {
   "cell_type": "code",
   "execution_count": 81,
   "metadata": {},
   "outputs": [],
   "source": [
    "chapters = epub_reader.epub2text(get_raw_file('1.bell','wrpnc_bell_Before_Tilsit_vol1_aRy1OBI4BSQC.epub'))"
   ]
  },
  {
   "cell_type": "code",
   "execution_count": 82,
   "metadata": {},
   "outputs": [],
   "source": [
    "# I know chapters[1] contains the reference text against chosen ground truth"
   ]
  },
  {
   "cell_type": "code",
   "execution_count": 84,
   "metadata": {},
   "outputs": [],
   "source": [
    "ref = find_required_paragraph(chapter=chapters[1], start_text='A footman in red livery', end_text='under the formalities of politeness')"
   ]
  },
  {
   "cell_type": "code",
   "execution_count": 86,
   "metadata": {},
   "outputs": [
    {
     "name": "stdout",
     "output_type": "stream",
     "text": [
      "A footman in red livery - the court livery - had been round the town that morning, carrying a number of notes each saying in the same terms, and in French: \n",
      " \" * If you have nothing better to do this evening M. le Comte, or M. le Prince, and are not too much alarmed at the prospect of spending it with a hapless invalid, I shall be delighted to see you between seven and eight. \n",
      " ANNA SCHÉRER.” \n",
      " \n",
      " \n",
      " “Mercy on \n",
      " us what a terrible attack !\" said the prince, not in the least upset by this reception. He wore a court uniform embroidered with gold and sparkling with orders, silk stockings, and buckled shoes; his flat face wore an affable smile; he spoke French — that elaborate French which to the Russians of a generation or two back was the language even of their thoughtsand his voice had the deliberate and patronizing tones of a man influential at court and grown old in its atmosphere. \n",
      " He came up to Anna Paulovna, and kissed her hand, bending his bald and perfumed head over it; then he seated himself comfortably on the sofa. \n",
      " “ First of all let me entreat you to give me good news of your health,” he said in a gallant tone which nevertheless betrayed a shade of irony, not to say of indifference, under the formalities of politeness\n"
     ]
    }
   ],
   "source": [
    "print(ref)"
   ]
  },
  {
   "cell_type": "code",
   "execution_count": 87,
   "metadata": {},
   "outputs": [
    {
     "data": {
      "text/plain": [
       "3.0207"
      ]
     },
     "execution_count": 87,
     "metadata": {},
     "output_type": "execute_result"
    }
   ],
   "source": [
    "fastwer.score_sent(gt, ref, char_level=True)"
   ]
  },
  {
   "cell_type": "markdown",
   "metadata": {},
   "source": [
    "## 1. clara bell  Tilsit vol2"
   ]
  },
  {
   "cell_type": "markdown",
   "metadata": {},
   "source": [
    "<img src=\"./imgs/bell_tilsit_vol2_p6.png\" width=\"400\" height=\"200\">"
   ]
  },
  {
   "cell_type": "code",
   "execution_count": 88,
   "metadata": {},
   "outputs": [],
   "source": [
    "gt_bell_tilsit2 = \"Notwithstanding his authoritative tone, Pierre, who had thought a great deal about the life he meant to follow, tried to protest; but in vain, he was stopped at once by Prince Basil. In such a crisis the prince had a way of talking on, in a low, hollow voice which made it impossible to interrupt him.\\\"My dear fellow, I did it for my own sake – to satisfy my own conscience - you have nothing to thank me for. No one ever yet complained of being too much beloved. And you are quite free, you can go out of residence whenever you please. You will see for yourself at St. Petersburg. It is high time to turn our backs on all these painful memories. ...\\' And he sighed. \\“Your man can follow us in your carriage. By the way, I forgot to tell you, my dear boy, we had some accounts to settle with the late lamented. - I have therefore kept the sum paid in from the Riazan property, you are not in the need of it, and we will make it all square by-and-bye.\\\" Prince Basil had in fact received and kept several thousands of roubles from the estates in question.\""
   ]
  },
  {
   "cell_type": "code",
   "execution_count": 89,
   "metadata": {},
   "outputs": [
    {
     "data": {
      "text/plain": [
       "'Notwithstanding his authoritative tone, Pierre, who had thought a great deal about the life he meant to follow, tried to protest; but in vain, he was stopped at once by Prince Basil. In such a crisis the prince had a way of talking on, in a low, hollow voice which made it impossible to interrupt him.\"My dear fellow, I did it for my own sake – to satisfy my own conscience - you have nothing to thank me for. No one ever yet complained of being too much beloved. And you are quite free, you can go out of residence whenever you please. You will see for yourself at St. Petersburg. It is high time to turn our backs on all these painful memories. ...\\' And he sighed. \\\\“Your man can follow us in your carriage. By the way, I forgot to tell you, my dear boy, we had some accounts to settle with the late lamented. - I have therefore kept the sum paid in from the Riazan property, you are not in the need of it, and we will make it all square by-and-bye.\" Prince Basil had in fact received and kept several thousands of roubles from the estates in question.'"
      ]
     },
     "execution_count": 89,
     "metadata": {},
     "output_type": "execute_result"
    }
   ],
   "source": [
    "gt_bell_tilsit2"
   ]
  },
  {
   "cell_type": "code",
   "execution_count": 61,
   "metadata": {},
   "outputs": [],
   "source": [
    "tilsit2_chapters = epub_reader.epub2text(get_raw_file('1.bell','wrpnc_bell_Before_Tilsit_vol2_olQ4XzqFfsoC.epub'))"
   ]
  },
  {
   "cell_type": "code",
   "execution_count": 90,
   "metadata": {},
   "outputs": [],
   "source": [
    "# here chapter1 known to contain the reference"
   ]
  },
  {
   "cell_type": "code",
   "execution_count": 92,
   "metadata": {},
   "outputs": [],
   "source": [
    "ref = find_required_paragraph(tilsit2_chapters[1], 'Notwithstanding his authoritative tone', 'roubles from the estates in question.')"
   ]
  },
  {
   "cell_type": "code",
   "execution_count": 93,
   "metadata": {},
   "outputs": [
    {
     "name": "stdout",
     "output_type": "stream",
     "text": [
      "Notwithstanding his authoritative tone, Pierre, who had thought a great deal about the life he meant to follow, tried to protest; but in vain, he was stopped at once by Prince Basil. In such a crisis the prince had a way of talking on, in a low, hollow voice which made it impossible to interrupt him. \n",
      " “My dear fellow, I did it for my own sake – to satisfy my own conscience - you have nothing to thank me for. No one ever yet complained of being too much beloved. And you are quite free, you can go out of residence whenever you please. You will see for yourself at St. Petersburg. It is high time to \n",
      " \n",
      " \n",
      " \n",
      " \n",
      " \n",
      " \n",
      " \" And \n",
      " \n",
      " \n",
      " turn our backs on all these painful memories. ... '  he sighed. “Your man can follow us in your carriage. By the way, I forgot to tell you, my dear boy, we had some accounts to settle with the late lamented. I have therefore kept the sum paid in from the Riazan property, you are not in the need of it, and we will make it all square by-and-bye.\" \n",
      " Prince Basil had in fact received and kept several thousands of roubles from the estates in question.\n"
     ]
    }
   ],
   "source": [
    "print(ref)"
   ]
  },
  {
   "cell_type": "code",
   "execution_count": 94,
   "metadata": {},
   "outputs": [
    {
     "data": {
      "text/plain": [
       "3.7753"
      ]
     },
     "execution_count": 94,
     "metadata": {},
     "output_type": "execute_result"
    }
   ],
   "source": [
    "fastwer.score_sent(gt_bell_tilsit2, ref , char_level=True)"
   ]
  },
  {
   "cell_type": "code",
   "execution_count": 95,
   "metadata": {},
   "outputs": [
    {
     "data": {
      "text/plain": [
       "3.8752"
      ]
     },
     "execution_count": 95,
     "metadata": {},
     "output_type": "execute_result"
    }
   ],
   "source": [
    "fastwer.score_sent(ref, gt_bell_tilsit2 , char_level=True)"
   ]
  },
  {
   "cell_type": "markdown",
   "metadata": {},
   "source": [
    "## 1. clara bell invasion vol1"
   ]
  },
  {
   "cell_type": "code",
   "execution_count": null,
   "metadata": {},
   "outputs": [],
   "source": []
  },
  {
   "cell_type": "markdown",
   "metadata": {},
   "source": [
    "## 1. clara bell invasion vol2"
   ]
  },
  {
   "cell_type": "code",
   "execution_count": null,
   "metadata": {},
   "outputs": [],
   "source": []
  },
  {
   "cell_type": "markdown",
   "metadata": {},
   "source": [
    "## 1. clara bell epilogue vol1"
   ]
  },
  {
   "cell_type": "code",
   "execution_count": null,
   "metadata": {},
   "outputs": [],
   "source": []
  },
  {
   "cell_type": "markdown",
   "metadata": {},
   "source": [
    "## 1. clara bell epilogue vol1"
   ]
  },
  {
   "cell_type": "code",
   "execution_count": null,
   "metadata": {},
   "outputs": [],
   "source": []
  },
  {
   "cell_type": "markdown",
   "metadata": {},
   "source": [
    "## 2. Nathan Dole Vol1 from Google Books"
   ]
  },
  {
   "cell_type": "code",
   "execution_count": 98,
   "metadata": {},
   "outputs": [],
   "source": [
    "dole_vol1 = epub_reader.epub2text(get_raw_file('2.dole','wrnpc_dole_vol1_2_jVMEAAAAYAAJ.epub'))"
   ]
  },
  {
   "cell_type": "code",
   "execution_count": 99,
   "metadata": {},
   "outputs": [
    {
     "data": {
      "text/plain": [
       "166"
      ]
     },
     "execution_count": 99,
     "metadata": {},
     "output_type": "execute_result"
    }
   ],
   "source": [
    "len(dole_vol1)"
   ]
  },
  {
   "cell_type": "code",
   "execution_count": 103,
   "metadata": {},
   "outputs": [],
   "source": [
    "# chapter 4\n",
    "# print(dole_vol1[4])"
   ]
  },
  {
   "cell_type": "code",
   "execution_count": 101,
   "metadata": {},
   "outputs": [],
   "source": [
    "gt_dole_vol1=\"\""
   ]
  },
  {
   "cell_type": "markdown",
   "metadata": {},
   "source": [
    "## 2. Nathan Dole Vol 2, 3, 4: from archive.org"
   ]
  },
  {
   "cell_type": "code",
   "execution_count": 188,
   "metadata": {},
   "outputs": [],
   "source": [
    "with open('./raw_data/2.dole/wrnpc_dole_vol2_4_djvu.txt', 'r') as fh:\n",
    "    vol2_4 = fh.read()"
   ]
  },
  {
   "cell_type": "code",
   "execution_count": 189,
   "metadata": {},
   "outputs": [],
   "source": [
    "ref = find_required_paragraph(vol2_4, \n",
    "                              start_text='Towakd the end. of the year 1811',\n",
    "                              end_text='memorandum \\nNo. 178. ')"
   ]
  },
  {
   "cell_type": "code",
   "execution_count": 190,
   "metadata": {},
   "outputs": [
    {
     "data": {
      "text/plain": [
       "\"Towakd the end. of the year 1811, a tremendous armament \\nand concentration of forces took place in Western Europe ; \\nand in 1812, these forces — millions of men, counting those \\nwho were concerned in the transport and victualling of tl: \\narmies — were moved from west to east toward the herders of \\nRussia, where the Russian forces were drawn vip just as they \\nhad been the year before. \\n\\nOn the 24th of June, the forces of Western Eiurpnc crossed:^ \\nthe Russian ^fontier, and war began; in other wot®, an event \\ntook place closed to human reason and humaai ;^ture. , \\n\\nMillions or^ien committed against one anoti(ifr an infinite \\nnumber of crimes : deception, treachery, robfewy, I’ovgery, \\nissues of false assignats, depredations, nice mii ary lires, mur- \\nders, such as the annals of all the courts in all the world could \\nnot equal in the aggregate of centuries; and yet which, at \\nthat period, the perpetrators did not even regard as crimes. \\n\\nWhat brought about this extraordinary event ? \\n\\nWhat were its causes ? \\n\\nThe historians, with ndim credulity, assure us that the \\ncauses of this event are to be found in the affront offered to \\nthe Duke of Oldenbourg, in the disregard of the Continental \\nS^rstem,’^ in Napoleon’s ambition, Alexander’s firmness, the \\nmistakes of diplomatists, and what not. \\n\\nOf course, in that case, to put a stop to the war, it would \\nhave merely required Metternich, Rumyantsef, or Talleyrand, \\nbetween a levee and a rout, to have made a little effort and \\nskilfully composed a state paper; or, Napoleon to have \\nwritten to Alexander: Monsieur^ mon Fr^re, je consens a \\nrendre le duche an Due d^ Oldenbourg. \\n\\nIt is easily understood that the matter presented itself in \\nthat light to the^eu of that day. It is easily understood \\nV0I.3.--1. 1 \\n\\n\\n\\n9 \\n\\n\\nWAP. AND PEACE. \\n\\n\\nthat Kapoleon attributed the cause of the war to England's \\nintrigues (indeed, he said so on the island of St. Helena) ; it \\nis easily understood that the members of the British Parlia- \\nment attributed the cause of the war to Napoleon’s ambition ; \\nthat Prince Oldenbourg considered the war to have been \\ncaused by the insult which he had received ; that the mer- \\nchants regarded the Continental System,” which was ruining \\nEuropean trade, as responsible for it ; that old veterans and \\ngenerals saw the chief cause for it in the necessity to find \\nthem something to do; the legitimists of that day, in the \\nnecessity of upholding les bon princlpes ; and the diplomatists \\nin the fact that they had not been skilful enough to hoodwink \\nNapoleon in regard to the Kussian alliance with Austria in \\n1809, or that it had been awkward to draw up memorandum \\nNo. 178. \""
      ]
     },
     "execution_count": 190,
     "metadata": {},
     "output_type": "execute_result"
    }
   ],
   "source": [
    "ref"
   ]
  },
  {
   "cell_type": "code",
   "execution_count": 108,
   "metadata": {},
   "outputs": [],
   "source": [
    "gt_dole_2_4 = \"Toward the end of the year 1811, a tremendous armament and concentration of forces took place in Western Europe;  and in 1812, these forces — millions of men, counting those who were concerned in the transport and victualling of the armies — were moved from west to east toward the borders of Russia, where the Russian forces were drawn up just as they had been the year before. \\n On the 24th of June, the forces of Western Europe crossed the Russian frontier, and war began: in other words, an event took place opposed to human reason and human nature.\\nMillions of men committed against one another an infinite number of crimes: deception, treachery, robbery, forgery, issues of false assignats, depredations, incendiary fires, murders, such as the annals of all the courts in all the world could not equal in the aggregate of centuries; and yet which, at that period, the perpetrators did not even regard as crimes. \\nWhat brought about this extraordinary event?\\nWhat were its causes? \\nThe historians, with naive credulity, assure us that the causes of this event are to be found in the affront offered to the Duke of Oldenbourg, in the disregard of the \\\"Continental System\\\", in Napoleon’s ambition, Alexander’s firmness, the mistakes of diplomatists, and what not. \\nOf course, in that case, to put a stop to the war, it would have merely required Metternich, Rumyantsef, or Talleyrand, between a levee and a rout, to have made a little effort and skilfully composed a state paper; or, Napoleon to have written to Alexander: mon Frère, je consens à rendre le duche au Duc d'Oldenbourg.\\nIt is easily understood that the matter presented itself in that light to the men of that day. It is easily understood that Napoleon attributed the cause of the war to England\\'s intrigues (indeed, he said so on the island of St. Helena); it is easily understood that the members of the British Parliament attributed the cause of the war to Napoleon’s ambition; that Prince Oldenbourg considered the war to have been caused by the insult which he had received; that the merchants regarded the \\\"Continental System\\\", which was ruining European trade, as responsible for it; that old veterans and generals saw the chief cause for it in the necessity to find them something to do; the legitimists of that day, in the necessity of upholding les bon principles; and the diplomatists in the fact that they had not been skilful enough to hoodwink Napoleon in regard to the Russian alliance with Austria in 1809, or that it had been awkward to draw up memorandum No.178.\""
   ]
  },
  {
   "cell_type": "code",
   "execution_count": 191,
   "metadata": {},
   "outputs": [
    {
     "name": "stdout",
     "output_type": "stream",
     "text": [
      "Toward the end of the year 1811, a tremendous armament and concentration of forces took place in Western Europe;  and in 1812, these forces — millions of men, counting those who were concerned in the transport and victualling of the armies — were moved from west to east toward the borders of Russia, where the Russian forces were drawn up just as they had been the year before. \n",
      " On the 24th of June, the forces of Western Europe crossed the Russian frontier, and war began: in other words, an event took place opposed to human reason and human nature.\n",
      "Millions of men committed against one another an infinite number of crimes: deception, treachery, robbery, forgery, issues of false assignats, depredations, incendiary fires, murders, such as the annals of all the courts in all the world could not equal in the aggregate of centuries; and yet which, at that period, the perpetrators did not even regard as crimes. \n",
      "What brought about this extraordinary event?\n",
      "What were its causes? \n",
      "The historians, with naive credulity, assure us that the causes of this event are to be found in the affront offered to the Duke of Oldenbourg, in the disregard of the \"Continental System\", in Napoleon’s ambition, Alexander’s firmness, the mistakes of diplomatists, and what not. \n",
      "Of course, in that case, to put a stop to the war, it would have merely required Metternich, Rumyantsef, or Talleyrand, between a levee and a rout, to have made a little effort and skilfully composed a state paper; or, Napoleon to have written to Alexander: mon Frère, je consens à rendre le duche au Duc d'Oldenbourg.\n",
      "It is easily understood that the matter presented itself in that light to the men of that day. It is easily understood that Napoleon attributed the cause of the war to England's intrigues (indeed, he said so on the island of St. Helena); it is easily understood that the members of the British Parliament attributed the cause of the war to Napoleon’s ambition; that Prince Oldenbourg considered the war to have been caused by the insult which he had received; that the merchants regarded the \"Continental System\", which was ruining European trade, as responsible for it; that old veterans and generals saw the chief cause for it in the necessity to find them something to do; the legitimists of that day, in the necessity of upholding les bon principles; and the diplomatists in the fact that they had not been skilful enough to hoodwink Napoleon in regard to the Russian alliance with Austria in 1809, or that it had been awkward to draw up memorandum No.178.\n"
     ]
    }
   ],
   "source": [
    "print(gt_dole_2_4)"
   ]
  },
  {
   "cell_type": "code",
   "execution_count": 195,
   "metadata": {},
   "outputs": [
    {
     "data": {
      "text/plain": [
       "7.5811"
      ]
     },
     "execution_count": 195,
     "metadata": {},
     "output_type": "execute_result"
    }
   ],
   "source": [
    "fastwer.score_sent(ref.replace('\\n',' '), gt_dole_2_4.replace('\\n',' '), char_level=True)"
   ]
  },
  {
   "cell_type": "code",
   "execution_count": 113,
   "metadata": {},
   "outputs": [
    {
     "data": {
      "text/plain": [
       "7.3316"
      ]
     },
     "execution_count": 113,
     "metadata": {},
     "output_type": "execute_result"
    }
   ],
   "source": [
    "fastwer.score_sent(gt_dole_2_4, ref, char_level=True)"
   ]
  },
  {
   "cell_type": "code",
   "execution_count": 114,
   "metadata": {},
   "outputs": [],
   "source": [
    "import fastwer\n",
    "hypo = ['This is an example .', 'This is another example .']\n",
    "ref = ['This is the example :)', 'That is the example .']"
   ]
  },
  {
   "cell_type": "code",
   "execution_count": 115,
   "metadata": {},
   "outputs": [
    {
     "data": {
      "text/plain": [
       "40.0"
      ]
     },
     "execution_count": 115,
     "metadata": {},
     "output_type": "execute_result"
    }
   ],
   "source": [
    "# Corpus-Level WER: 40.0\n",
    "fastwer.score(hypo, ref)\n",
    "# Corpus-Level CER: 25.5814\n",
    "fastwer.score(hypo, ref, char_level=True)\n",
    "\n",
    "# Sentence-Level WER: 40.0\n",
    "fastwer.score_sent(hypo[0], ref[0])"
   ]
  },
  {
   "cell_type": "code",
   "execution_count": 1,
   "metadata": {},
   "outputs": [
    {
     "data": {
      "text/plain": [
       "0.36363636363636365"
      ]
     },
     "execution_count": 1,
     "metadata": {},
     "output_type": "execute_result"
    }
   ],
   "source": [
    "(3+2+1+2)/len('This is the example :)')"
   ]
  },
  {
   "cell_type": "code",
   "execution_count": 116,
   "metadata": {},
   "outputs": [
    {
     "data": {
      "text/plain": [
       "22.7273"
      ]
     },
     "execution_count": 116,
     "metadata": {},
     "output_type": "execute_result"
    }
   ],
   "source": [
    "# Sentence-Level CER: 22.7273\n",
    "fastwer.score_sent(hypo[0], ref[0], char_level=True)"
   ]
  },
  {
   "cell_type": "code",
   "execution_count": 201,
   "metadata": {},
   "outputs": [
    {
     "data": {
      "text/plain": [
       "16.6667"
      ]
     },
     "execution_count": 201,
     "metadata": {},
     "output_type": "execute_result"
    }
   ],
   "source": [
    "# Define reference text and output text\n",
    "ref = 'my name is kenneth'\n",
    "output = 'myy nime iz kenneth'\n",
    "\n",
    "# Obtain Sentence-Level Character Error Rate (CER)\n",
    "fastwer.score_sent(output, ref, char_level=True)"
   ]
  },
  {
   "cell_type": "code",
   "execution_count": 206,
   "metadata": {},
   "outputs": [
    {
     "data": {
      "text/plain": [
       "16.666666666666664"
      ]
     },
     "execution_count": 206,
     "metadata": {},
     "output_type": "execute_result"
    }
   ],
   "source": [
    "(1+1+1)/len(ref)*100.00"
   ]
  },
  {
   "cell_type": "code",
   "execution_count": 202,
   "metadata": {},
   "outputs": [
    {
     "data": {
      "text/plain": [
       "75.0"
      ]
     },
     "execution_count": 202,
     "metadata": {},
     "output_type": "execute_result"
    }
   ],
   "source": [
    "# Obtain Sentence-Level Word Error Rate (WER)\n",
    "fastwer.score_sent(output, ref)"
   ]
  },
  {
   "cell_type": "markdown",
   "metadata": {},
   "source": [
    "## 3. Leo Wiener"
   ]
  },
  {
   "cell_type": "code",
   "execution_count": 117,
   "metadata": {},
   "outputs": [],
   "source": [
    "with open('./raw_data/3.wiener/completeworksofc05tols_djvu.txt', 'r') as fhl:\n",
    "    wiener1 = fhl.read()"
   ]
  },
  {
   "cell_type": "code",
   "execution_count": 119,
   "metadata": {},
   "outputs": [
    {
     "data": {
      "text/plain": [
       "'bending the truth, \\nto subordinate all the actions of the historical person to \\nthe one idea which he has put into this person. The \\nartist, on the contrary, in the very singleness of this idea \\nfinds an incompatibility with his problem and only tries \\nto comprehend and show, not a certain actor, but a man. \\n\\nIn the description of the events themselves the dis- \\ntinction is stHl more sharp and essential. \\n\\nThe historian has to deal with the results of the event, the \\nartist with the fact of the '"
      ]
     },
     "execution_count": 119,
     "metadata": {},
     "output_type": "execute_result"
    }
   ],
   "source": [
    "wiener1[10000:10500]"
   ]
  },
  {
   "cell_type": "code",
   "execution_count": 120,
   "metadata": {},
   "outputs": [],
   "source": [
    "gt_wiener1=\"\""
   ]
  },
  {
   "cell_type": "markdown",
   "metadata": {},
   "source": [
    "## 4. Garnett: compare popular versus vol2,3 and calculate CER"
   ]
  },
  {
   "cell_type": "code",
   "execution_count": 125,
   "metadata": {},
   "outputs": [],
   "source": [
    "garnett_vol2 = epub_reader.epub2text(get_raw_file('4.garnett','wrnpc_garnett_vol2_qdRFAAAAMAAJ.epub'))"
   ]
  },
  {
   "cell_type": "code",
   "execution_count": 126,
   "metadata": {},
   "outputs": [],
   "source": [
    "garnett_vol3 = epub_reader.epub2text(get_raw_file('4.garnett','wrpnc_garnett_vol3_l9JFAAAAMAAJ.epub'))"
   ]
  },
  {
   "cell_type": "code",
   "execution_count": 127,
   "metadata": {},
   "outputs": [],
   "source": [
    "garnett_popular = epub_reader.epub2text(get_raw_file('4.garnett','wrpnc_garnett_popular_ooI-AQAAMAAJ.epub'))"
   ]
  },
  {
   "cell_type": "code",
   "execution_count": 128,
   "metadata": {},
   "outputs": [
    {
     "data": {
      "text/plain": [
       "True"
      ]
     },
     "execution_count": 128,
     "metadata": {},
     "output_type": "execute_result"
    }
   ],
   "source": [
    "# check if no.chapters(popular edition) > no.chapters(garnett vol2) + no.chapters(garnett vol3)\n",
    "len(garnett_popular) > (len(garnett_vol2)+ len(garnett_vol3))"
   ]
  },
  {
   "cell_type": "code",
   "execution_count": 129,
   "metadata": {},
   "outputs": [
    {
     "data": {
      "text/plain": [
       "17"
      ]
     },
     "execution_count": 129,
     "metadata": {},
     "output_type": "execute_result"
    }
   ],
   "source": [
    "# by how many chapters is it more?\n",
    "len(garnett_popular[1:len(garnett_popular)-1]) - (len(garnett_vol2)+ len(garnett_vol3))"
   ]
  },
  {
   "cell_type": "code",
   "execution_count": 132,
   "metadata": {},
   "outputs": [],
   "source": [
    "# Why vol2 begins as PART VI, six, with chapter 35...However, the difference is 17 chapters"
   ]
  },
  {
   "cell_type": "code",
   "execution_count": 130,
   "metadata": {},
   "outputs": [],
   "source": [
    "garnett_vol2_beginning = \"In the year 1808 the Emperor Alexander visited Erfurt for another interview with the Emperor Napoleon; and in the highest Petersburg society a great deal was said of the great significance of this meeting.\""
   ]
  },
  {
   "cell_type": "code",
   "execution_count": 134,
   "metadata": {},
   "outputs": [
    {
     "name": "stdout",
     "output_type": "stream",
     "text": [
      "35\n"
     ]
    }
   ],
   "source": [
    "# find vol2 beginning in popular edition\n",
    "for chap_no, chap_text in enumerate(garnett_popular):\n",
    "    if chap_text.find(garnett_vol2_beginning) > 0:\n",
    "        print(chap_no)"
   ]
  },
  {
   "cell_type": "code",
   "execution_count": 174,
   "metadata": {},
   "outputs": [
    {
     "data": {
      "text/plain": [
       "98"
      ]
     },
     "execution_count": 174,
     "metadata": {},
     "output_type": "execute_result"
    }
   ],
   "source": [
    "# assume from chapter 35 upto 133(exclude last) we have merged vol2 and vol4, i.e. last 98 chapters\n",
    "garnett_popular_vol2_3 = garnett_popular[35: len(garnett_popular)-1]\n",
    "len(garnett_popular_vol2_3)"
   ]
  },
  {
   "cell_type": "markdown",
   "metadata": {},
   "source": [
    "Assumption:\n",
    "- Google Books reserves 0-th and last chapter for explanation of license and digital copies, etc."
   ]
  },
  {
   "cell_type": "code",
   "execution_count": 137,
   "metadata": {},
   "outputs": [],
   "source": [
    "# Add other metrics, such as token counts, chapter counts, page counts"
   ]
  },
  {
   "cell_type": "code",
   "execution_count": 138,
   "metadata": {},
   "outputs": [],
   "source": [
    "from utils import chapter_sentencizer"
   ]
  },
  {
   "cell_type": "code",
   "execution_count": 18,
   "metadata": {},
   "outputs": [],
   "source": [
    "SENTENCE_PATTERN = r\"[A-Z].*?[\\.!?] \""
   ]
  },
  {
   "cell_type": "code",
   "execution_count": 162,
   "metadata": {},
   "outputs": [],
   "source": [
    "def get_all_sentences(chapters):\n",
    "    all_sentences = []\n",
    "    for chap in chapters:\n",
    "        sentences_in_a_chapter = re.findall(SENTENCE_PATTERN, chap)\n",
    "        all_sentences.extend(sentences_in_a_chapter)\n",
    "    return all_sentences"
   ]
  },
  {
   "cell_type": "code",
   "execution_count": 164,
   "metadata": {},
   "outputs": [],
   "source": [
    "sentences = []\n",
    "for chap in garnett_popular_vol2_3:\n",
    "    sentences.extend(chapter_sentencizer(chap).split('\\n'))"
   ]
  },
  {
   "cell_type": "code",
   "execution_count": 165,
   "metadata": {},
   "outputs": [
    {
     "data": {
      "text/plain": [
       "26783"
      ]
     },
     "execution_count": 165,
     "metadata": {},
     "output_type": "execute_result"
    }
   ],
   "source": [
    "len(sentences)"
   ]
  },
  {
   "cell_type": "code",
   "execution_count": 175,
   "metadata": {},
   "outputs": [
    {
     "data": {
      "text/plain": [
       "17232"
      ]
     },
     "execution_count": 175,
     "metadata": {},
     "output_type": "execute_result"
    }
   ],
   "source": [
    "# There are 17K sentences in vol2 and 3 in popular edition\n",
    "pop_edit_vol2_3_sentences = get_all_sentences(garnett_popular_vol2_3)\n",
    "len(pop_edit_vol2_3_sentences)"
   ]
  },
  {
   "cell_type": "code",
   "execution_count": 179,
   "metadata": {},
   "outputs": [
    {
     "data": {
      "text/plain": [
       "18021"
      ]
     },
     "execution_count": 179,
     "metadata": {},
     "output_type": "execute_result"
    }
   ],
   "source": [
    "garnett_vol2_sentences = get_all_sentences(garnett_vol2[1:len(garnett_vol2)-1])\n",
    "garnett_vol3_sentences = get_all_sentences(garnett_vol3[1:len(garnett_vol3)-1])\n",
    "len(garnett_vol3_sentences) + len(garnett_vol2_sentences)"
   ]
  },
  {
   "cell_type": "code",
   "execution_count": 180,
   "metadata": {},
   "outputs": [
    {
     "data": {
      "text/plain": [
       "-4.378225403695691"
      ]
     },
     "execution_count": 180,
     "metadata": {},
     "output_type": "execute_result"
    }
   ],
   "source": [
    "(len(pop_edit_vol2_3_sentences)/(len(garnett_vol2_sentences) + len(garnett_vol3_sentences)) - 1) * 100.0"
   ]
  },
  {
   "cell_type": "code",
   "execution_count": 181,
   "metadata": {},
   "outputs": [
    {
     "data": {
      "text/plain": [
       "-789"
      ]
     },
     "execution_count": 181,
     "metadata": {},
     "output_type": "execute_result"
    }
   ],
   "source": [
    "# 4% difference is OK, but why is this difference?\n",
    "len(pop_edit_vol2_3_sentences) - (len(garnett_vol3_sentences) + len(garnett_vol2_sentences))"
   ]
  },
  {
   "cell_type": "code",
   "execution_count": 264,
   "metadata": {},
   "outputs": [],
   "source": []
  },
  {
   "cell_type": "markdown",
   "metadata": {},
   "source": [
    "## 5. Maude"
   ]
  },
  {
   "cell_type": "code",
   "execution_count": 5,
   "metadata": {},
   "outputs": [],
   "source": [
    "with open('./raw_data/5.maude/wrnpc10maude.txt') as fh:\n",
    "    maude = fh.read()"
   ]
  },
  {
   "cell_type": "code",
   "execution_count": 14,
   "metadata": {},
   "outputs": [],
   "source": [
    "full_maude = find_required_paragraph(maude, \n",
    "                              start_text='Well, Prince, so Genoa and Lucca are now just family estates of the',\n",
    "#                               end_text='End of The Project Gutenberg Etext of War and Peace, by by Leo Tolstoy')\n",
    "                                     end_text='freedom that does not exist, and to recognize a dependence of\\nwhich we are not conscious.')"
   ]
  },
  {
   "cell_type": "code",
   "execution_count": 16,
   "metadata": {},
   "outputs": [
    {
     "data": {
      "text/plain": [
       "'y and of the motion of the planets, so in history the\\ndifficulty of recognizing the subjection of personality to the laws of\\nspace, time, and cause lies in renouncing the direct feeling of the\\nindependence of one\\'s own personality. But as in astronomy the new\\nview said: \"It is true that we do not feel the movement of the\\nearth, but by admitting its immobility we arrive at absurdity, while\\nby admitting its motion (which we do not feel) we arrive at laws,\"\\nso also in history the new view says: \"It is true that we are not\\nconscious of our dependence, but by admitting our free will we\\narrive at absurdity, while by admitting our dependence on the external\\nworld, on time, and on cause, we arrive at laws.\"\\n\\nIn the first case it was necessary to renounce the consciousness\\nof an unreal immobility in space and to recognize a motion we did\\nnot feel; in the present case it is similarly necessary to renounce\\na freedom that does not exist, and to recognize a dependence of\\nwhich we are not conscious.'"
      ]
     },
     "execution_count": 16,
     "metadata": {},
     "output_type": "execute_result"
    }
   ],
   "source": [
    "full_maude[-1000:]"
   ]
  },
  {
   "cell_type": "code",
   "execution_count": 19,
   "metadata": {},
   "outputs": [],
   "source": [
    "maude_sentences = re.findall(SENTENCE_PATTERN, full_maude.replace(\"\\n\", \" \"))"
   ]
  },
  {
   "cell_type": "code",
   "execution_count": 21,
   "metadata": {},
   "outputs": [],
   "source": [
    "my_maude = \"In passing Prince Vasili seized Pierre's hand and said to Anna\\nPavlovna: \\\"Educate this bear for me! He has been staying with me a \\nwhole month and this is the first time I have seen him in society.Nothing is so necessary for a young man as the society of clever\\nwomen.\\\"\""
   ]
  },
  {
   "cell_type": "code",
   "execution_count": 23,
   "metadata": {},
   "outputs": [],
   "source": [
    "my_maude = find_required_paragraph(maude, \n",
    "                              start_text='Well, Prince, so Genoa and Lucca are now just family estates of the',\n",
    "                              end_text='Nothing is so necessary for a young man as the society of clever\\nwomen.')"
   ]
  },
  {
   "cell_type": "code",
   "execution_count": 26,
   "metadata": {},
   "outputs": [],
   "source": [
    "from utils import chapter_sentencizer"
   ]
  },
  {
   "cell_type": "code",
   "execution_count": 28,
   "metadata": {},
   "outputs": [],
   "source": [
    "with open('./data/5.maude.txt', 'w') as fh:\n",
    "    my_maude = my_maude.replace('\\n', ' ')\n",
    "    fh.write(chapter_sentencizer(my_maude))"
   ]
  },
  {
   "cell_type": "markdown",
   "metadata": {},
   "source": [
    "## 0. Tolstoy"
   ]
  },
  {
   "cell_type": "code",
   "execution_count": 121,
   "metadata": {},
   "outputs": [],
   "source": [
    "tolstoy = epub_reader.epub2text(get_raw_file('0.tolstoy','voina-i-mir.epub'))"
   ]
  },
  {
   "cell_type": "code",
   "execution_count": 122,
   "metadata": {},
   "outputs": [
    {
     "data": {
      "text/plain": [
       "402"
      ]
     },
     "execution_count": 122,
     "metadata": {},
     "output_type": "execute_result"
    }
   ],
   "source": [
    "# chapter[3] is the actual text start, 367 is the text end. 402 chapters here\n",
    "len(tolstoy)"
   ]
  },
  {
   "cell_type": "code",
   "execution_count": 210,
   "metadata": {},
   "outputs": [
    {
     "data": {
      "text/plain": [
       "'\\n \\n Наступило молчание. Графиня глядела на гостью, приятно улыбаясь, впрочем, не скрывая того, что не огорчится теперь нисколько, если гостья поднимется и уедет. Дочь гостьи уже оправляла платье, вопросительно глядя на мать, как вдруг из соседней комнаты послышался бег к двери нескольких мужских и женских ног, грохот зацепленного и поваленного стула, и в комнату вбежала тринадцатилетняя девочка, запахнув что-то короткою кисейною юбкою, и остановилась по середине комнаты. Очевидно было, она нечаянно, с нерассчитанного бега, заскочила так далеко. В дверях в ту же минуту показались студент с малиновым воротником, гвардейский офицер, пятнадцатилетняя девочка и толстый румяный мальчик в детской курточке. \\n Граф вскочил и, раскачиваясь, широко расставил руки вокруг вбежавшей девочки. \\n — А, вот она! — смеясь закричал он. — Именинница! Ma chère, именинница! \\n — Ma chère, il у a un temps pour tout,  — сказала графиня, притворяясь строгою. — Ты ее все балуешь, Еlіе, — прибавила она мужу. \\n — Bonjour, ma chère, je vous félicite,  — сказала гостья. — Quelle délicieuse enfant!  — прибавила она, обращаясь к матери. \\n Черноглазая, с большим ртом, некрасивая, но живая девочка, с своими детскими открытыми плечиками, выскочившими из корсажа от быстрого бега, с своими сбившимися назад черными кудрями, тоненькими оголенными руками и маленькими ножками в кружевных панталончиках и открытых башмачках, была в том милом возрасте, когда девочка уже не ребенок, а ребенок еще не девушка. Вывернувшись от отца, она подбежала к матери и, не обращая никакого внимания на ее строгое замечание, спрятала свое раскрасневшееся лицо в кружевах материной мантильи и засмеялась. Она смеялась чему-то, толкуя отрывисто про куклу, которую вынула из-под юбочки. \\n — Видите?.. Кукла... Мими... Видите. \\n И Наташа не могла больше говорить (ей всё смешно казалось). Она упала на мать и расхохоталась так громко и звонко, что все, даже чопорная гостья, против воли засмеялись. \\n — Ну, поди, поди с своим уродом! — сказала мать, притворно сердито отталкивая дочь. — Это моя меньшая, — обратилась она к гостье. \\n Наташа, оторвав на минуту лицо от кружевной косынки матери, взглянула на нее снизу сквозь слезы смеха и опять спрятала лицо. \\n Гостья, принужденная любоваться семейною сценой, сочла нужным принять в ней какое-нибудь участие. \\n — Скажите, моя милая, — сказала она, обращаясь к Наташе, — как же вам приходится эта Мими? Дочь, верно? \\n Наташе не понравился тон снисхождения до детского разговора, с которым гостья обратилась к ней. Она ничего не ответила и серьезно посмотрела на гостью. \\n Между тем всё это молодое поколение: Борис — офицер, сын княгини Анны Михайловны, Николай — студент, старший сын графа, Соня — пятнадцатилетняя племянница графа, и маленький Петруша — меньшой сын, все разместились в гостиной и, видимо, старались удержать в границах приличия оживление и веселость, которыми еще дышала каждая их черта. Видно было, что там, в задних комнатах, откуда они все так стремительно прибежали, у них были разговоры веселее, чем здесь о городских сплетнях, погоде и comtesse Apraksine.  Изредка они взглядывали друг на друга и едва удерживались от смеха. \\n Два молодые человека, студент и офицер, друзья с детства, были одних лет и оба красивы, но не похожи друг на друга. Борис был высокий белокурый юноша с правильными тонкими чертами спокойного и красивого лица — Николай был невысокий курчавый молодой человек с открытым выражением лица. На верхней губе его уже показывались черные волосики, и во всем лице выражались стремительность и восторженность. Николай покраснел, как только вошел в гостиную. Видно было, что он искал и не находил, чтò сказать; Борис, напротив, тотчас же нашелся и рассказал спокойно, шутливо, как эту Мими куклу он знал еще молодою девицей с неиспорченным еще носом, как она в пять лет на его памяти состарелась и как у ней по всему черепу треснула голова. Сказав это, он взглянул на Наташу. Наташа отвернулась от него, взглянула на младшего брата, который, зажмурившись, трясся от беззвучного смеха, и, не в силах более удерживаться, прыгнула и побежала из комнаты так скоро, как только могли нести ее быстрые ножки. Борис не рассмеялся. \\n — Вы, кажется, тоже хотели ехать, maman? Карета нужна? — сказал он, с улыбкой обращаясь к матери. \\n — Да, поди, поди, вели приготовить, — сказала она, улыбаясь. \\n Борис вышел тихо в двери и пошел за Наташей, толстый мальчик сердито побежал за ними, как будто досадуя на расстройство, происшедшее в его занятиях. \\n \\n '"
      ]
     },
     "execution_count": 210,
     "metadata": {},
     "output_type": "execute_result"
    }
   ],
   "source": [
    "tolstoy[10]"
   ]
  },
  {
   "cell_type": "code",
   "execution_count": null,
   "metadata": {},
   "outputs": [],
   "source": []
  }
 ],
 "metadata": {
  "kernelspec": {
   "display_name": "wrpc",
   "language": "python",
   "name": "wrpc"
  },
  "language_info": {
   "codemirror_mode": {
    "name": "ipython",
    "version": 3
   },
   "file_extension": ".py",
   "mimetype": "text/x-python",
   "name": "python",
   "nbconvert_exporter": "python",
   "pygments_lexer": "ipython3",
   "version": "3.7.12"
  }
 },
 "nbformat": 4,
 "nbformat_minor": 5
}
