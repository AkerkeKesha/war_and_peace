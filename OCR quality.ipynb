{
 "cells": [
  {
   "cell_type": "code",
   "execution_count": 129,
   "metadata": {},
   "outputs": [],
   "source": [
    "import fastwer\n",
    "import ebooklib\n",
    "from ebooklib import epub\n",
    "from bs4 import BeautifulSoup\n",
    "import re"
   ]
  },
  {
   "cell_type": "markdown",
   "metadata": {},
   "source": [
    "## 1. clara bell  Tilsit vol1"
   ]
  },
  {
   "cell_type": "markdown",
   "metadata": {},
   "source": [
    "<img src=\"./imgs/bell_tilsit_page2.png\" width=\"400\" height=\"200\">"
   ]
  },
  {
   "cell_type": "code",
   "execution_count": 8,
   "metadata": {},
   "outputs": [],
   "source": [
    "gt = \"A footman in red livery - the court livery - had been round the town that morning, carrying a number of notes each saying in the same terms, and in French:\\\"If you have nothing better to do this evening M. le Comte, or M. le Prince, and are not too much alarmed at the prospect of spending it with a hapless invalid, I shall be delighted to see you between seven and eight. ANNA SCHÉRER.\\\" \\\"Mercy on us what a terrible attack! \\\"said the prince, not in the least upset by this reception. He wore a court uniform embroidered with gold and sparkling with orders, silk stockings, and buckled shoes; his flat face wore an affable smile; he spoke French — that elaborate French which to the Russians of a generation or two back was the language even of their thoughtsand his voice had the deliberate and patronizing tones of a man influential at court and grown old in its atmosphere.He came up to Anna Paulovna, and kissed her hand, bending his bald and perfumed head over it; then he seated himself comfortably on the sofa.\\\" \\\"First of all let me entreat you to give me good news of your health,\\\"he said in a gallant tone which nevertheless betrayed a shade of irony, not to say of indifference, under the formalities of politeness\""
   ]
  },
  {
   "cell_type": "code",
   "execution_count": 9,
   "metadata": {},
   "outputs": [
    {
     "name": "stdout",
     "output_type": "stream",
     "text": [
      "A footman in red livery - the court livery - had been round the town that morning, carrying a number of notes each saying in the same terms, and in French:\"If you have nothing better to do this evening M. le Comte, or M. le Prince, and are not too much alarmed at the prospect of spending it with a hapless invalid, I shall be delighted to see you between seven and eight. ANNA SCHÉRER.\" \"Mercy on us what a terrible attack! \"said the prince, not in the least upset by this reception. He wore a court uniform embroidered with gold and sparkling with orders, silk stockings, and buckled shoes; his flat face wore an affable smile; he spoke French — that elaborate French which to the Russians of a generation or two back was the language even of their thoughtsand his voice had the deliberate and patronizing tones of a man influential at court and grown old in its atmosphere.He came up to Anna Paulovna, and kissed her hand, bending his bald and perfumed head over it; then he seated himself comfortably on the sofa.\" \"First of all let me entreat you to give me good news of your health,\"he said in a gallant tone which nevertheless betrayed a shade of irony, not to say of indifference, under the formalities of politeness\n"
     ]
    }
   ],
   "source": [
    "print(gt)"
   ]
  },
  {
   "cell_type": "code",
   "execution_count": 11,
   "metadata": {},
   "outputs": [],
   "source": [
    "# bell_tilsit_vol1 = epub.read_epub('./raw_data/1.bell/wrpnc_bell_Before_Tilsit_vol1_aRy1OBI4BSQC.epub')"
   ]
  },
  {
   "cell_type": "code",
   "execution_count": 44,
   "metadata": {},
   "outputs": [],
   "source": [
    "def get_epub_chapters(epub_path):\n",
    "    book = epub.read_epub(epub_path)\n",
    "    chapters = []\n",
    "    for item in book.get_items():\n",
    "        if item.get_type() == ebooklib.ITEM_DOCUMENT:\n",
    "            chapters.append(item.get_content())\n",
    "    return chapters"
   ]
  },
  {
   "cell_type": "code",
   "execution_count": 45,
   "metadata": {},
   "outputs": [],
   "source": [
    "blacklist = ['[document]',   'noscript', 'header', 'html', 'meta', 'head','input', 'script',   ]\n",
    "# there may be more elements you don't want, such as \"style\", etc."
   ]
  },
  {
   "cell_type": "code",
   "execution_count": 46,
   "metadata": {},
   "outputs": [],
   "source": [
    "def chap2text(chap):\n",
    "    output = ''\n",
    "    soup = BeautifulSoup(chap, 'html.parser')\n",
    "    text = soup.find_all(text=True)\n",
    "    for t in text:\n",
    "        if t.parent.name not in blacklist:\n",
    "            output += '{} '.format(t)\n",
    "    return output"
   ]
  },
  {
   "cell_type": "code",
   "execution_count": 47,
   "metadata": {},
   "outputs": [],
   "source": [
    "def html2ttext(thtml):\n",
    "    output = []\n",
    "    for html in thtml:\n",
    "        text = chap2text(html)\n",
    "        output.append(text)\n",
    "    return output"
   ]
  },
  {
   "cell_type": "code",
   "execution_count": 48,
   "metadata": {},
   "outputs": [],
   "source": [
    "def epub2text(epub_path):\n",
    "    chapters = get_epub_chapters(epub_path)\n",
    "    ttext = html2ttext(chapters)\n",
    "    return ttext"
   ]
  },
  {
   "cell_type": "code",
   "execution_count": 49,
   "metadata": {},
   "outputs": [],
   "source": [
    "text = epub2text('./raw_data/1.bell/wrpnc_bell_Before_Tilsit_vol1_aRy1OBI4BSQC.epub')"
   ]
  },
  {
   "cell_type": "code",
   "execution_count": 53,
   "metadata": {},
   "outputs": [],
   "source": [
    "chapter_1 = text[1]"
   ]
  },
  {
   "cell_type": "code",
   "execution_count": 54,
   "metadata": {},
   "outputs": [
    {
     "data": {
      "text/plain": [
       "1167"
      ]
     },
     "execution_count": 54,
     "metadata": {},
     "output_type": "execute_result"
    }
   ],
   "source": [
    "chapter_1.find('A footman in red livery')"
   ]
  },
  {
   "cell_type": "code",
   "execution_count": 59,
   "metadata": {},
   "outputs": [
    {
     "data": {
      "text/plain": [
       "2379"
      ]
     },
     "execution_count": 59,
     "metadata": {},
     "output_type": "execute_result"
    }
   ],
   "source": [
    "chapter_1.find('under the formalities of politeness')"
   ]
  },
  {
   "cell_type": "code",
   "execution_count": 62,
   "metadata": {},
   "outputs": [
    {
     "data": {
      "text/plain": [
       "35"
      ]
     },
     "execution_count": 62,
     "metadata": {},
     "output_type": "execute_result"
    }
   ],
   "source": [
    "len('under the formalities of politeness')"
   ]
  },
  {
   "cell_type": "code",
   "execution_count": 64,
   "metadata": {},
   "outputs": [
    {
     "data": {
      "text/plain": [
       "'A footman in red livery - the court livery - had been round the town that morning, carrying a number of notes each saying in the same terms, and in French: \\n \" * If you have nothing better to do this evening M. le Comte, or M. le Prince, and are not too much alarmed at the prospect of spending it with a hapless invalid, I shall be delighted to see you between seven and eight. \\n ANNA SCHÉRER.” \\n \\n \\n “Mercy on \\n us what a terrible attack !\" said the prince, not in the least upset by this reception. He wore a court uniform embroidered with gold and sparkling with orders, silk stockings, and buckled shoes; his flat face wore an affable smile; he spoke French — that elaborate French which to the Russians of a generation or two back was the language even of their thoughtsand his voice had the deliberate and patronizing tones of a man influential at court and grown old in its atmosphere. \\n He came up to Anna Paulovna, and kissed her hand, bending his bald and perfumed head over it; then he seated himself comfortably on the sofa. \\n “ First of all let me entreat you to give me good news of your health,” he said in a gallant tone which nevertheless betrayed a shade of irony, not to say of indifference, under the formalities of politeness.'"
      ]
     },
     "execution_count": 64,
     "metadata": {},
     "output_type": "execute_result"
    }
   ],
   "source": [
    "chapter_1[1167:2379+36]"
   ]
  },
  {
   "cell_type": "code",
   "execution_count": 65,
   "metadata": {},
   "outputs": [],
   "source": [
    "bell_tilsit_vol1_p2_epub = chapter_1[1167:2379+36]"
   ]
  },
  {
   "cell_type": "code",
   "execution_count": 66,
   "metadata": {},
   "outputs": [
    {
     "data": {
      "text/plain": [
       "3.1785"
      ]
     },
     "execution_count": 66,
     "metadata": {},
     "output_type": "execute_result"
    }
   ],
   "source": [
    "fastwer.score_sent(bell_tilsit_vol1_p2_epub, gt, char_level=True)"
   ]
  },
  {
   "cell_type": "markdown",
   "metadata": {},
   "source": [
    "## 1. clara bell  Tilsit vol2"
   ]
  },
  {
   "cell_type": "markdown",
   "metadata": {},
   "source": [
    "<img src=\"./imgs/bell_tilsit_vol2_p6.png\" width=\"400\" height=\"200\">"
   ]
  },
  {
   "cell_type": "code",
   "execution_count": 6,
   "metadata": {},
   "outputs": [],
   "source": [
    "gt_bell_tilsit_vol2 = \"Notwithstanding his authoritative tone, Pierre, who had thought a great deal about the life he meant to follow, tried to protest; but in vain, he was stopped at once by Prince Basil. In such a crisis the prince had a way of talking on, in a low, hollow voice which made it impossible to interrupt him.\\\"My dear fellow, I did it for my own sake – to satisfy my own conscience - you have nothing to thank me for. No one ever yet complained of being too much beloved. And you are quite free, you can go out of residence whenever you please. You will see for yourself at St. Petersburg. It is high time to turn our backs on all these painful memories. ...\\' And he sighed. \\“Your man can follow us in your carriage. By the way, I forgot to tell you, my dear boy, we had some accounts to settle with the late lamented. - I have therefore kept the sum paid in from the Riazan property, you are not in the need of it, and we will make it all square by-and-bye.\\\" Prince Basil had in fact received and kept several thousands of roubles from the estates in question.\""
   ]
  },
  {
   "cell_type": "code",
   "execution_count": 7,
   "metadata": {},
   "outputs": [
    {
     "data": {
      "text/plain": [
       "'Notwithstanding his authoritative tone, Pierre, who had thought a great deal about the life he meant to follow, tried to protest; but in vain, he was stopped at once by Prince Basil. In such a crisis the prince had a way of talking on, in a low, hollow voice which made it impossible to interrupt him.\"My dear fellow, I did it for my own sake – to satisfy my own conscience - you have nothing to thank me for. No one ever yet complained of being too much beloved. And you are quite free, you can go out of residence whenever you please. You will see for yourself at St. Petersburg. It is high time to turn our backs on all these painful memories. ...\\' And he sighed. \\\\“Your man can follow us in your carriage. By the way, I forgot to tell you, my dear boy, we had some accounts to settle with the late lamented. - I have therefore kept the sum paid in from the Riazan property, you are not in the need of it, and we will make it all square by-and-bye.\" Prince Basil had in fact received and kept several thousands of roubles from the estates in question.'"
      ]
     },
     "execution_count": 7,
     "metadata": {},
     "output_type": "execute_result"
    }
   ],
   "source": [
    "gt_bell_tilsit_vol2 "
   ]
  },
  {
   "cell_type": "code",
   "execution_count": 21,
   "metadata": {},
   "outputs": [],
   "source": [
    "tilsit2 = epub2text('./raw_data/1.bell/wrpnc_bell_Before_Tilsit_vol2_olQ4XzqFfsoC.epub')"
   ]
  },
  {
   "cell_type": "code",
   "execution_count": 27,
   "metadata": {},
   "outputs": [],
   "source": [
    "chapter1 = str(tilsit2[1])"
   ]
  },
  {
   "cell_type": "code",
   "execution_count": 28,
   "metadata": {},
   "outputs": [
    {
     "data": {
      "text/plain": [
       "6765"
      ]
     },
     "execution_count": 28,
     "metadata": {},
     "output_type": "execute_result"
    }
   ],
   "source": [
    "chapter1.find('Notwithstanding his authoritative tone')"
   ]
  },
  {
   "cell_type": "code",
   "execution_count": 29,
   "metadata": {},
   "outputs": [
    {
     "data": {
      "text/plain": [
       "7873"
      ]
     },
     "execution_count": 29,
     "metadata": {},
     "output_type": "execute_result"
    }
   ],
   "source": [
    "chapter1.find('roubles from the estates in question.')"
   ]
  },
  {
   "cell_type": "code",
   "execution_count": 30,
   "metadata": {},
   "outputs": [
    {
     "data": {
      "text/plain": [
       "37"
      ]
     },
     "execution_count": 30,
     "metadata": {},
     "output_type": "execute_result"
    }
   ],
   "source": [
    "len(('roubles from the estates in question.'))"
   ]
  },
  {
   "cell_type": "code",
   "execution_count": 34,
   "metadata": {},
   "outputs": [
    {
     "data": {
      "text/plain": [
       "'Notwithstanding his authoritative tone, Pierre, who had thought a great deal about the life he meant to follow, tried to protest; but in vain, he was stopped at once by Prince Basil. In such a crisis the prince had a way of talking on, in a low, hollow voice which made it impossible to interrupt him. \\n “My dear fellow, I did it for my own sake – to satisfy my own conscience - you have nothing to thank me for. No one ever yet complained of being too much beloved. And you are quite free, you can go out of residence whenever you please. You will see for yourself at St. Petersburg. It is high time to \\n \\n \\n  Content from Google Book Search, generated at 1604607736052769  \\n \\n \\n \\n \" And \\n \\n \\n turn our backs on all these painful memories. ... \\'  he sighed. “Your man can follow us in your carriage. By the way, I forgot to tell you, my dear boy, we had some accounts to settle with the late lamented. I have therefore kept the sum paid in from the Riazan property, you are not in the need of it, and we will make it all square by-and-bye.\" \\n Prince Basil had in fact received and kept several thousands of roubles from the estates in question.'"
      ]
     },
     "execution_count": 34,
     "metadata": {},
     "output_type": "execute_result"
    }
   ],
   "source": [
    "chapter1[6765:7873+37]"
   ]
  },
  {
   "cell_type": "code",
   "execution_count": 35,
   "metadata": {},
   "outputs": [],
   "source": [
    "bell_tilsit_vol2_output = chapter1[6765:7873+37]"
   ]
  },
  {
   "cell_type": "code",
   "execution_count": 36,
   "metadata": {},
   "outputs": [
    {
     "data": {
      "text/plain": [
       "10.0189"
      ]
     },
     "execution_count": 36,
     "metadata": {},
     "output_type": "execute_result"
    }
   ],
   "source": [
    "fastwer.score_sent(bell_tilsit_vol2_output, gt_bell_tilsit_vol2 , char_level=True)"
   ]
  },
  {
   "cell_type": "code",
   "execution_count": 40,
   "metadata": {},
   "outputs": [],
   "source": [
    "GOOGLE_BOOK_SEARCH = \"Content from Google Book Search, generated at \""
   ]
  },
  {
   "cell_type": "code",
   "execution_count": null,
   "metadata": {},
   "outputs": [],
   "source": [
    "NEWLINE = \"\\n\""
   ]
  },
  {
   "cell_type": "code",
   "execution_count": 39,
   "metadata": {},
   "outputs": [
    {
     "name": "stdout",
     "output_type": "stream",
     "text": [
      "Notwithstanding his authoritative tone, Pierre, who had thought a great deal about the life he meant to follow, tried to protest; but in vain, he was stopped at once by Prince Basil. In such a crisis the prince had a way of talking on, in a low, hollow voice which made it impossible to interrupt him.  “My dear fellow, I did it for my own sake – to satisfy my own conscience - you have nothing to thank me for. No one ever yet complained of being too much beloved. And you are quite free, you can go out of residence whenever you please. You will see for yourself at St. Petersburg. It is high time to     Content from Google Book Search, generated at 1604607736052769      \" And    turn our backs on all these painful memories. ... '  he sighed. “Your man can follow us in your carriage. By the way, I forgot to tell you, my dear boy, we had some accounts to settle with the late lamented. I have therefore kept the sum paid in from the Riazan property, you are not in the need of it, and we will make it all square by-and-bye.\"  Prince Basil had in fact received and kept several thousands of roubles from the estates in question.\n"
     ]
    }
   ],
   "source": [
    "bell_tilsit_vol2_output = bell_tilsit_vol2_output.replace('\\n', '')\n",
    "print(bell_tilsit_vol2_output)"
   ]
  },
  {
   "cell_type": "code",
   "execution_count": 41,
   "metadata": {},
   "outputs": [],
   "source": [
    "bell_tilsit_vol2_output = bell_tilsit_vol2_output.replace(GOOGLE_BOOK_SEARCH, '')"
   ]
  },
  {
   "cell_type": "code",
   "execution_count": 42,
   "metadata": {},
   "outputs": [
    {
     "data": {
      "text/plain": [
       "'Notwithstanding his authoritative tone, Pierre, who had thought a great deal about the life he meant to follow, tried to protest; but in vain, he was stopped at once by Prince Basil. In such a crisis the prince had a way of talking on, in a low, hollow voice which made it impossible to interrupt him.  “My dear fellow, I did it for my own sake – to satisfy my own conscience - you have nothing to thank me for. No one ever yet complained of being too much beloved. And you are quite free, you can go out of residence whenever you please. You will see for yourself at St. Petersburg. It is high time to     1604607736052769      \" And    turn our backs on all these painful memories. ... \\'  he sighed. “Your man can follow us in your carriage. By the way, I forgot to tell you, my dear boy, we had some accounts to settle with the late lamented. I have therefore kept the sum paid in from the Riazan property, you are not in the need of it, and we will make it all square by-and-bye.\"  Prince Basil had in fact received and kept several thousands of roubles from the estates in question.'"
      ]
     },
     "execution_count": 42,
     "metadata": {},
     "output_type": "execute_result"
    }
   ],
   "source": [
    "bell_tilsit_vol2_output"
   ]
  },
  {
   "cell_type": "code",
   "execution_count": 43,
   "metadata": {},
   "outputs": [
    {
     "data": {
      "text/plain": [
       "4.5369"
      ]
     },
     "execution_count": 43,
     "metadata": {},
     "output_type": "execute_result"
    }
   ],
   "source": [
    "fastwer.score_sent(bell_tilsit_vol2_output, gt_bell_tilsit_vol2 , char_level=True)"
   ]
  },
  {
   "cell_type": "markdown",
   "metadata": {},
   "source": [
    "## 2. Nathan Dole"
   ]
  },
  {
   "cell_type": "code",
   "execution_count": 44,
   "metadata": {},
   "outputs": [],
   "source": [
    "dole_vol1 = epub2text('./raw_data/2.dole/wrnpc_dole_vol1_2_jVMEAAAAYAAJ.epub')"
   ]
  },
  {
   "cell_type": "code",
   "execution_count": 45,
   "metadata": {},
   "outputs": [],
   "source": [
    "# chapter 4\n",
    "dole_vol1[4]"
   ]
  },
  {
   "cell_type": "code",
   "execution_count": 47,
   "metadata": {},
   "outputs": [],
   "source": [
    "import pandas as pd"
   ]
  },
  {
   "cell_type": "code",
   "execution_count": 11,
   "metadata": {},
   "outputs": [],
   "source": [
    "with open('./raw_data/2.dole/wrnpc_dole_vol2_4_djvu.txt', 'r') as fh:\n",
    "    vol2_4 = fh.read()"
   ]
  },
  {
   "cell_type": "code",
   "execution_count": 12,
   "metadata": {},
   "outputs": [
    {
     "data": {
      "text/plain": [
       "1244"
      ]
     },
     "execution_count": 12,
     "metadata": {},
     "output_type": "execute_result"
    }
   ],
   "source": [
    "vol2_4.find('Towakd the end. of the year 1811')"
   ]
  },
  {
   "cell_type": "code",
   "execution_count": 13,
   "metadata": {},
   "outputs": [
    {
     "data": {
      "text/plain": [
       "3893"
      ]
     },
     "execution_count": 13,
     "metadata": {},
     "output_type": "execute_result"
    }
   ],
   "source": [
    "vol2_4.find('memorandum \\nNo. 178. ')"
   ]
  },
  {
   "cell_type": "code",
   "execution_count": 14,
   "metadata": {},
   "outputs": [
    {
     "data": {
      "text/plain": [
       "21"
      ]
     },
     "execution_count": 14,
     "metadata": {},
     "output_type": "execute_result"
    }
   ],
   "source": [
    "len('memorandum \\nNo. 178. ')"
   ]
  },
  {
   "cell_type": "code",
   "execution_count": 15,
   "metadata": {},
   "outputs": [
    {
     "data": {
      "text/plain": [
       "\"Towakd the end. of the year 1811, a tremendous armament \\nand concentration of forces took place in Western Europe ; \\nand in 1812, these forces — millions of men, counting those \\nwho were concerned in the transport and victualling of tl: \\narmies — were moved from west to east toward the herders of \\nRussia, where the Russian forces were drawn vip just as they \\nhad been the year before. \\n\\nOn the 24th of June, the forces of Western Eiurpnc crossed:^ \\nthe Russian ^fontier, and war began; in other wot®, an event \\ntook place closed to human reason and humaai ;^ture. , \\n\\nMillions or^ien committed against one anoti(ifr an infinite \\nnumber of crimes : deception, treachery, robfewy, I’ovgery, \\nissues of false assignats, depredations, nice mii ary lires, mur- \\nders, such as the annals of all the courts in all the world could \\nnot equal in the aggregate of centuries; and yet which, at \\nthat period, the perpetrators did not even regard as crimes. \\n\\nWhat brought about this extraordinary event ? \\n\\nWhat were its causes ? \\n\\nThe historians, with ndim credulity, assure us that the \\ncauses of this event are to be found in the affront offered to \\nthe Duke of Oldenbourg, in the disregard of the Continental \\nS^rstem,’^ in Napoleon’s ambition, Alexander’s firmness, the \\nmistakes of diplomatists, and what not. \\n\\nOf course, in that case, to put a stop to the war, it would \\nhave merely required Metternich, Rumyantsef, or Talleyrand, \\nbetween a levee and a rout, to have made a little effort and \\nskilfully composed a state paper; or, Napoleon to have \\nwritten to Alexander: Monsieur^ mon Fr^re, je consens a \\nrendre le duche an Due d^ Oldenbourg. \\n\\nIt is easily understood that the matter presented itself in \\nthat light to the^eu of that day. It is easily understood \\nV0I.3.--1. 1 \\n\\n\\n\\n9 \\n\\n\\nWAP. AND PEACE. \\n\\n\\nthat Kapoleon attributed the cause of the war to England's \\nintrigues (indeed, he said so on the island of St. Helena) ; it \\nis easily understood that the members of the British Parlia- \\nment attributed the cause of the war to Napoleon’s ambition ; \\nthat Prince Oldenbourg considered the war to have been \\ncaused by the insult which he had received ; that the mer- \\nchants regarded the Continental System,” which was ruining \\nEuropean trade, as responsible for it ; that old veterans and \\ngenerals saw the chief cause for it in the necessity to find \\nthem something to do; the legitimists of that day, in the \\nnecessity of upholding les bon princlpes ; and the diplomatists \\nin the fact that they had not been skilful enough to hoodwink \\nNapoleon in regard to the Kussian alliance with Austria in \\n1809, or that it had been awkward to draw up memorandum \\nNo. 178. \""
      ]
     },
     "execution_count": 15,
     "metadata": {},
     "output_type": "execute_result"
    }
   ],
   "source": [
    "vol2_4[1244:3893+21]"
   ]
  },
  {
   "cell_type": "code",
   "execution_count": 9,
   "metadata": {},
   "outputs": [],
   "source": [
    "gt_dole_2_4 = \"Toward the end of the year 1811, a tremendous armament and concentration of forces took place in Western Europe;  and in 1812, these forces — millions of men, counting those who were concerned in the transport and victualling of the armies — were moved from west to east toward the borders of Russia, where the Russian forces were drawn up just as they had been the year before. \\n On the 24th of June, the forces of Western Europe crossed the Russian frontier, and war began: in other words, an event took place opposed to human reason and human nature.\\nMillions of men committed against one another an infinite number of crimes: deception, treachery, robbery, forgery, issues of false assignats, depredations, incendiary fires, murders, such as the annals of all the courts in all the world could not equal in the aggregate of centuries; and yet which, at that period, the perpetrators did not even regard as crimes. \\nWhat brought about this extraordinary event?\\nWhat were its causes? \\nThe historians, with naive credulity, assure us that the causes of this event are to be found in the affront offered to the Duke of Oldenbourg, in the disregard of the \\\"Continental System\\\", in Napoleon’s ambition, Alexander’s firmness, the mistakes of diplomatists, and what not. \\nOf course, in that case, to put a stop to the war, it would have merely required Metternich, Rumyantsef, or Talleyrand, between a levee and a rout, to have made a little effort and skilfully composed a state paper; or, Napoleon to have written to Alexander: mon Frère, je consens à rendre le duche au Duc d'Oldenbourg.\\nIt is easily understood that the matter presented itself in that light to the men of that day. It is easily understood that Napoleon attributed the cause of the war to England\\'s intrigues (indeed, he said so on the island of St. Helena); it is easily understood that the members of the British Parliament attributed the cause of the war to Napoleon’s ambition; that Prince Oldenbourg considered the war to have been caused by the insult which he had received; that the merchants regarded the \\\"Continental System\\\", which was ruining European trade, as responsible for it; that old veterans and generals saw the chief cause for it in the necessity to find them something to do; the legitimists of that day, in the necessity of upholding les bon principles; and the diplomatists in the fact that they had not been skilful enough to hoodwink Napoleon in regard to the Russian alliance with Austria in 1809, or that it had been awkward to draw up memorandum No.178.\""
   ]
  },
  {
   "cell_type": "code",
   "execution_count": 10,
   "metadata": {},
   "outputs": [
    {
     "name": "stdout",
     "output_type": "stream",
     "text": [
      "Toward the end of the year 1811, a tremendous armament and concentration of forces took place in Western Europe;  and in 1812, these forces — millions of men, counting those who were concerned in the transport and victualling of the armies — were moved from west to east toward the borders of Russia, where the Russian forces were drawn up just as they had been the year before. \n",
      " On the 24th of June, the forces of Western Europe crossed the Russian frontier, and war began: in other words, an event took place opposed to human reason and human nature.\n",
      "Millions of men committed against one another an infinite number of crimes: deception, treachery, robbery, forgery, issues of false assignats, depredations, incendiary fires, murders, such as the annals of all the courts in all the world could not equal in the aggregate of centuries; and yet which, at that period, the perpetrators did not even regard as crimes. \n",
      "What brought about this extraordinary event?\n",
      "What were its causes? \n",
      "The historians, with naive credulity, assure us that the causes of this event are to be found in the affront offered to the Duke of Oldenbourg, in the disregard of the \"Continental System\", in Napoleon’s ambition, Alexander’s firmness, the mistakes of diplomatists, and what not. \n",
      "Of course, in that case, to put a stop to the war, it would have merely required Metternich, Rumyantsef, or Talleyrand, between a levee and a rout, to have made a little effort and skilfully composed a state paper; or, Napoleon to have written to Alexander: mon Frère, je consens à rendre le duche au Duc d'Oldenbourg.\n",
      "It is easily understood that the matter presented itself in that light to the men of that day. It is easily understood that Napoleon attributed the cause of the war to England's intrigues (indeed, he said so on the island of St. Helena); it is easily understood that the members of the British Parliament attributed the cause of the war to Napoleon’s ambition; that Prince Oldenbourg considered the war to have been caused by the insult which he had received; that the merchants regarded the \"Continental System\", which was ruining European trade, as responsible for it; that old veterans and generals saw the chief cause for it in the necessity to find them something to do; the legitimists of that day, in the necessity of upholding les bon principles; and the diplomatists in the fact that they had not been skilful enough to hoodwink Napoleon in regard to the Russian alliance with Austria in 1809, or that it had been awkward to draw up memorandum No.178.\n"
     ]
    }
   ],
   "source": [
    "print(gt_dole_2_4)"
   ]
  },
  {
   "cell_type": "code",
   "execution_count": 16,
   "metadata": {},
   "outputs": [],
   "source": [
    "dole_2_4_output = vol2_4[1244:3893+21].replace('\\n', '')"
   ]
  },
  {
   "cell_type": "code",
   "execution_count": 17,
   "metadata": {},
   "outputs": [
    {
     "data": {
      "text/plain": [
       "\"Towakd the end. of the year 1811, a tremendous armament and concentration of forces took place in Western Europe ; and in 1812, these forces — millions of men, counting those who were concerned in the transport and victualling of tl: armies — were moved from west to east toward the herders of Russia, where the Russian forces were drawn vip just as they had been the year before. On the 24th of June, the forces of Western Eiurpnc crossed:^ the Russian ^fontier, and war began; in other wot®, an event took place closed to human reason and humaai ;^ture. , Millions or^ien committed against one anoti(ifr an infinite number of crimes : deception, treachery, robfewy, I’ovgery, issues of false assignats, depredations, nice mii ary lires, mur- ders, such as the annals of all the courts in all the world could not equal in the aggregate of centuries; and yet which, at that period, the perpetrators did not even regard as crimes. What brought about this extraordinary event ? What were its causes ? The historians, with ndim credulity, assure us that the causes of this event are to be found in the affront offered to the Duke of Oldenbourg, in the disregard of the Continental S^rstem,’^ in Napoleon’s ambition, Alexander’s firmness, the mistakes of diplomatists, and what not. Of course, in that case, to put a stop to the war, it would have merely required Metternich, Rumyantsef, or Talleyrand, between a levee and a rout, to have made a little effort and skilfully composed a state paper; or, Napoleon to have written to Alexander: Monsieur^ mon Fr^re, je consens a rendre le duche an Due d^ Oldenbourg. It is easily understood that the matter presented itself in that light to the^eu of that day. It is easily understood V0I.3.--1. 1 9 WAP. AND PEACE. that Kapoleon attributed the cause of the war to England's intrigues (indeed, he said so on the island of St. Helena) ; it is easily understood that the members of the British Parlia- ment attributed the cause of the war to Napoleon’s ambition ; that Prince Oldenbourg considered the war to have been caused by the insult which he had received ; that the mer- chants regarded the Continental System,” which was ruining European trade, as responsible for it ; that old veterans and generals saw the chief cause for it in the necessity to find them something to do; the legitimists of that day, in the necessity of upholding les bon princlpes ; and the diplomatists in the fact that they had not been skilful enough to hoodwink Napoleon in regard to the Kussian alliance with Austria in 1809, or that it had been awkward to draw up memorandum No. 178. \""
      ]
     },
     "execution_count": 17,
     "metadata": {},
     "output_type": "execute_result"
    }
   ],
   "source": [
    "dole_2_4_output "
   ]
  },
  {
   "cell_type": "code",
   "execution_count": 20,
   "metadata": {},
   "outputs": [
    {
     "data": {
      "text/plain": [
       "5.7835"
      ]
     },
     "execution_count": 20,
     "metadata": {},
     "output_type": "execute_result"
    }
   ],
   "source": [
    "fastwer.score_sent(dole_2_4_output, gt_dole_2_4, char_level=True)"
   ]
  },
  {
   "cell_type": "code",
   "execution_count": 27,
   "metadata": {},
   "outputs": [],
   "source": [
    "# fastwer.score(dole_2_4_output, gt_dole_2_4, char_level=True)"
   ]
  },
  {
   "cell_type": "code",
   "execution_count": 22,
   "metadata": {},
   "outputs": [],
   "source": [
    "import fastwer\n",
    "hypo = ['This is an example .', 'This is another example .']\n",
    "ref = ['This is the example :)', 'That is the example .']"
   ]
  },
  {
   "cell_type": "code",
   "execution_count": 23,
   "metadata": {},
   "outputs": [
    {
     "data": {
      "text/plain": [
       "40.0"
      ]
     },
     "execution_count": 23,
     "metadata": {},
     "output_type": "execute_result"
    }
   ],
   "source": [
    "# Corpus-Level WER: 40.0\n",
    "fastwer.score(hypo, ref)\n",
    "# Corpus-Level CER: 25.5814\n",
    "fastwer.score(hypo, ref, char_level=True)\n",
    "\n",
    "# Sentence-Level WER: 40.0\n",
    "fastwer.score_sent(hypo[0], ref[0])"
   ]
  },
  {
   "cell_type": "code",
   "execution_count": 24,
   "metadata": {},
   "outputs": [
    {
     "data": {
      "text/plain": [
       "22.7273"
      ]
     },
     "execution_count": 24,
     "metadata": {},
     "output_type": "execute_result"
    }
   ],
   "source": [
    "# Sentence-Level CER: 22.7273\n",
    "fastwer.score_sent(hypo[0], ref[0], char_level=True)"
   ]
  },
  {
   "cell_type": "code",
   "execution_count": 25,
   "metadata": {},
   "outputs": [
    {
     "data": {
      "text/plain": [
       "('This is an example .', 'This is the example :)')"
      ]
     },
     "execution_count": 25,
     "metadata": {},
     "output_type": "execute_result"
    }
   ],
   "source": [
    "hypo[0], ref[0]"
   ]
  },
  {
   "cell_type": "markdown",
   "metadata": {},
   "source": [
    "## 3. Leo Wiener"
   ]
  },
  {
   "cell_type": "code",
   "execution_count": 74,
   "metadata": {},
   "outputs": [],
   "source": [
    "with open('./raw_data/3.wiener/completeworksofc05tols_djvu.txt', 'r') as fhl:\n",
    "    wiener_vol5 = fhl.read()"
   ]
  },
  {
   "cell_type": "code",
   "execution_count": 76,
   "metadata": {},
   "outputs": [
    {
     "data": {
      "text/plain": [
       "'bending the truth, \\nto subordinate all the actions of the historical person to \\nthe one idea which he has put into this person. The \\nartist, on the contrary, in the very singleness of this idea \\nfinds an incompatibility with his problem and only tries \\nto comprehend and show, not a certain actor, but a man. \\n\\nIn the description of the events themselves the dis- \\ntinction is stHl more sharp and essential. \\n\\nThe historian has to deal with the results of the event, the \\nartist with the fact of the '"
      ]
     },
     "execution_count": 76,
     "metadata": {},
     "output_type": "execute_result"
    }
   ],
   "source": [
    "wiener_vol5[10000:10500]"
   ]
  },
  {
   "cell_type": "markdown",
   "metadata": {},
   "source": [
    "## 4. Garnett"
   ]
  },
  {
   "cell_type": "code",
   "execution_count": 77,
   "metadata": {},
   "outputs": [],
   "source": [
    "garnett_vol2 = epub2text('./raw_data/4.garnett/wrnpc_garnett_vol2_qdRFAAAAMAAJ.epub')"
   ]
  },
  {
   "cell_type": "code",
   "execution_count": 87,
   "metadata": {},
   "outputs": [],
   "source": [
    "garnett_vol3 = epub2text('./raw_data/4.garnett/wrpnc_garnett_vol3_l9JFAAAAMAAJ.epub')"
   ]
  },
  {
   "cell_type": "code",
   "execution_count": 89,
   "metadata": {},
   "outputs": [],
   "source": [
    "garnett_popular = epub2text('./raw_data/4.garnett/wrpnc_garnett_popular_ooI-AQAAMAAJ.epub')"
   ]
  },
  {
   "cell_type": "code",
   "execution_count": 106,
   "metadata": {},
   "outputs": [
    {
     "data": {
      "text/plain": [
       "True"
      ]
     },
     "execution_count": 106,
     "metadata": {},
     "output_type": "execute_result"
    }
   ],
   "source": [
    "# check if no.chapters(popular edition) > no.chapters(garnett vol2) + no.chapters(garnett vol3)\n",
    "len(garnett_popular) > (len(garnett_vol2)+ len(garnett_vol3))"
   ]
  },
  {
   "cell_type": "code",
   "execution_count": 110,
   "metadata": {},
   "outputs": [
    {
     "data": {
      "text/plain": [
       "17"
      ]
     },
     "execution_count": 110,
     "metadata": {},
     "output_type": "execute_result"
    }
   ],
   "source": [
    "# by how many chapters is it more?\n",
    "len(garnett_popular) - (len(garnett_vol2)+ len(garnett_vol3))"
   ]
  },
  {
   "cell_type": "code",
   "execution_count": null,
   "metadata": {},
   "outputs": [],
   "source": [
    "# Why vol2 begins with chapter 35...if the difference 17."
   ]
  },
  {
   "cell_type": "code",
   "execution_count": 112,
   "metadata": {},
   "outputs": [],
   "source": [
    "garnett_vol2_beginning = \"In the year 1808 the Emperor Alexander visited Erfurt for another interview with the Emperor Napoleon; and in the highest Petersburg society a great deal was said of the great significance of this meeting.\""
   ]
  },
  {
   "cell_type": "code",
   "execution_count": 113,
   "metadata": {},
   "outputs": [
    {
     "data": {
      "text/plain": [
       "'In the year 1808 the Emperor Alexander visited Erfurt for another interview with the Emperor Napoleon; and in the highest Petersburg society a great deal was said of the great significance of this meeting.'"
      ]
     },
     "execution_count": 113,
     "metadata": {},
     "output_type": "execute_result"
    }
   ],
   "source": [
    "garnett_vol2_beginning"
   ]
  },
  {
   "cell_type": "code",
   "execution_count": 120,
   "metadata": {},
   "outputs": [
    {
     "name": "stdout",
     "output_type": "stream",
     "text": [
      "35\n"
     ]
    }
   ],
   "source": [
    "# find vol2 beginning in popular edition\n",
    "for chap_no, chap_text in enumerate(garnett_popular):\n",
    "    if chap_text.find(garnett_vol2_beginning) > 0:\n",
    "        print(chap_no)"
   ]
  },
  {
   "cell_type": "code",
   "execution_count": 146,
   "metadata": {},
   "outputs": [
    {
     "data": {
      "text/plain": [
       "99"
      ]
     },
     "execution_count": 146,
     "metadata": {},
     "output_type": "execute_result"
    }
   ],
   "source": [
    "# assume from chapter 35 upto 134 we have merged vol2 and vol4, i.e. 99 chapters\n",
    "len(garnett_popular_vol2_3)"
   ]
  },
  {
   "cell_type": "code",
   "execution_count": 124,
   "metadata": {},
   "outputs": [],
   "source": [
    "garnett_popular_vol2_3 = garnett_popular[35:]"
   ]
  },
  {
   "cell_type": "code",
   "execution_count": 128,
   "metadata": {},
   "outputs": [],
   "source": [
    "SENTENCE_PATTERN = r\"[A-Z].*?[\\.!?] \""
   ]
  },
  {
   "cell_type": "code",
   "execution_count": 253,
   "metadata": {},
   "outputs": [],
   "source": [
    "SENTENCE_NO_SPACE_PATTERN = r\"[A-Z].*?[\\.!?]\""
   ]
  },
  {
   "cell_type": "code",
   "execution_count": 162,
   "metadata": {},
   "outputs": [],
   "source": [
    "def get_all_sentences(chapters):\n",
    "    all_sentences = []\n",
    "    for chap in chapters:\n",
    "        sentences_in_a_chapter = re.findall(SENTENCE_PATTERN, chap)\n",
    "        all_sentences.extend(sentences_in_a_chapter)\n",
    "    return all_sentences"
   ]
  },
  {
   "cell_type": "code",
   "execution_count": 163,
   "metadata": {},
   "outputs": [
    {
     "data": {
      "text/plain": [
       "17234"
      ]
     },
     "execution_count": 163,
     "metadata": {},
     "output_type": "execute_result"
    }
   ],
   "source": [
    "# There are 17K sentences in vol2 and 3 in popular edition\n",
    "pop_edit_vol2_3_sentences = get_all_sentences(garnett_popular_vol2_3)\n",
    "len(pop_edit_vol2_3_sentences)"
   ]
  },
  {
   "cell_type": "code",
   "execution_count": 164,
   "metadata": {},
   "outputs": [
    {
     "data": {
      "text/plain": [
       "9270"
      ]
     },
     "execution_count": 164,
     "metadata": {},
     "output_type": "execute_result"
    }
   ],
   "source": [
    "garnett_vol2_sentences = get_all_sentences(garnett_vol2)\n",
    "len(garnett_vol2_sentences)"
   ]
  },
  {
   "cell_type": "code",
   "execution_count": 165,
   "metadata": {},
   "outputs": [
    {
     "data": {
      "text/plain": [
       "8758"
      ]
     },
     "execution_count": 165,
     "metadata": {},
     "output_type": "execute_result"
    }
   ],
   "source": [
    "garnett_vol3_sentences = get_all_sentences(garnett_vol3)\n",
    "len(garnett_vol3_sentences)"
   ]
  },
  {
   "cell_type": "code",
   "execution_count": 173,
   "metadata": {},
   "outputs": [
    {
     "data": {
      "text/plain": [
       "-4.4042600399378795"
      ]
     },
     "execution_count": 173,
     "metadata": {},
     "output_type": "execute_result"
    }
   ],
   "source": [
    "(len(pop_edit_vol2_3_sentences)/(len(garnett_vol2_sentences) + len(garnett_vol3_sentences)) - 1) * 100.0"
   ]
  },
  {
   "cell_type": "code",
   "execution_count": 264,
   "metadata": {},
   "outputs": [],
   "source": [
    "# 4% difference is OK, but why is this difference?"
   ]
  },
  {
   "cell_type": "code",
   "execution_count": null,
   "metadata": {},
   "outputs": [],
   "source": [
    "# why chapters difference?"
   ]
  },
  {
   "cell_type": "markdown",
   "metadata": {},
   "source": [
    "## 5. Maude"
   ]
  },
  {
   "cell_type": "code",
   "execution_count": 227,
   "metadata": {},
   "outputs": [],
   "source": [
    "with open('./raw_data/5.maude/wrnpc10maude.txt') as fh:\n",
    "    maude = fh.read()"
   ]
  },
  {
   "cell_type": "code",
   "execution_count": 94,
   "metadata": {},
   "outputs": [
    {
     "data": {
      "text/plain": [
       "12027"
      ]
     },
     "execution_count": 94,
     "metadata": {},
     "output_type": "execute_result"
    }
   ],
   "source": [
    "maude.find('*END THE SMALL PRINT! FOR PUBLIC DOMAIN ETEXTS*Ver.04.29.93*END*')"
   ]
  },
  {
   "cell_type": "code",
   "execution_count": 96,
   "metadata": {},
   "outputs": [
    {
     "data": {
      "text/plain": [
       "64"
      ]
     },
     "execution_count": 96,
     "metadata": {},
     "output_type": "execute_result"
    }
   ],
   "source": [
    "len('*END THE SMALL PRINT! FOR PUBLIC DOMAIN ETEXTS*Ver.04.29.93*END*')"
   ]
  },
  {
   "cell_type": "code",
   "execution_count": 228,
   "metadata": {},
   "outputs": [
    {
     "data": {
      "text/plain": [
       "(3215043, 70)"
      ]
     },
     "execution_count": 228,
     "metadata": {},
     "output_type": "execute_result"
    }
   ],
   "source": [
    "maude.find('End of The Project Gutenberg Etext of War and Peace, by by Leo Tolstoy'), len('End of The Project Gutenberg Etext of War and Peace, by by Leo Tolstoy')"
   ]
  },
  {
   "cell_type": "code",
   "execution_count": 251,
   "metadata": {},
   "outputs": [],
   "source": [
    "maude_translation = maude[12027+64:23617-10+3]"
   ]
  },
  {
   "cell_type": "code",
   "execution_count": 233,
   "metadata": {},
   "outputs": [
    {
     "data": {
      "text/plain": [
       "(23617, 10)"
      ]
     },
     "execution_count": 233,
     "metadata": {},
     "output_type": "execute_result"
    }
   ],
   "source": [
    "maude.find('CHAPTER II'), len('CHAPTER II')"
   ]
  },
  {
   "cell_type": "code",
   "execution_count": 254,
   "metadata": {},
   "outputs": [
    {
     "data": {
      "text/plain": [
       "['This is an ordinary sentence.']"
      ]
     },
     "execution_count": 254,
     "metadata": {},
     "output_type": "execute_result"
    }
   ],
   "source": [
    "re.findall(SENTENCE_NO_SPACE_PATTERN, 'This is an ordinary sentence.')"
   ]
  },
  {
   "cell_type": "code",
   "execution_count": 259,
   "metadata": {},
   "outputs": [],
   "source": [
    "maude_sentences = re.findall(SENTENCE_PATTERN, maude_translation.replace(\"\\n\", \" \"))"
   ]
  },
  {
   "cell_type": "code",
   "execution_count": 260,
   "metadata": {},
   "outputs": [
    {
     "data": {
      "text/plain": [
       "108"
      ]
     },
     "execution_count": 260,
     "metadata": {},
     "output_type": "execute_result"
    }
   ],
   "source": [
    "len(maude_sentences)"
   ]
  },
  {
   "cell_type": "code",
   "execution_count": 262,
   "metadata": {},
   "outputs": [],
   "source": [
    "write_maude = \"\\n\".join([\"\".join(sentence) for sentence in maude_sentences])"
   ]
  },
  {
   "cell_type": "code",
   "execution_count": 263,
   "metadata": {},
   "outputs": [],
   "source": [
    "with open('./data/5.maude.txt', 'w') as fh:\n",
    "    fh.write(write_maude)"
   ]
  },
  {
   "cell_type": "markdown",
   "metadata": {},
   "source": [
    "## 0. Tolstoy"
   ]
  },
  {
   "cell_type": "code",
   "execution_count": 174,
   "metadata": {},
   "outputs": [],
   "source": [
    "with open('./raw_data/0.tolstoy/voina-i-mir.txt') as fh:\n",
    "    tolstoy = fh.read()"
   ]
  },
  {
   "cell_type": "code",
   "execution_count": 178,
   "metadata": {},
   "outputs": [
    {
     "data": {
      "text/plain": [
       "3547516"
      ]
     },
     "execution_count": 178,
     "metadata": {},
     "output_type": "execute_result"
    }
   ],
   "source": [
    "len(tolstoy)"
   ]
  },
  {
   "cell_type": "code",
   "execution_count": 203,
   "metadata": {},
   "outputs": [],
   "source": [
    "TOLSTOY_SENTENCE_PATTERN = r'[А-Я].*?[\\.!?] |[A-Z].*?[\\.!?] '\n",
    "#r\"[А-Я]|[A-Z].*?[\\.!?] \""
   ]
  },
  {
   "cell_type": "code",
   "execution_count": 204,
   "metadata": {},
   "outputs": [
    {
     "data": {
      "text/plain": [
       "['Погодину (ныне дом на углу Савинского пер. ',\n",
       " 'Щербатовы — IV 37. ',\n",
       " 'Щербинин— III 248. ',\n",
       " 'Эйхен — Федор Яковлевич (ум. ',\n",
       " 'В 1826—1837 гг. ',\n",
       " 'Ораниенбаума — IV 76. ',\n",
       " 'IV 282, 398. ',\n",
       " 'После революции 1789 г. ',\n",
       " 'Эттенгейме. ',\n",
       " 'IV 242, 391. ',\n",
       " 'Эне — берейтор Александра I — II 145. ',\n",
       " 'Эссен Иван Иванович (1759—1813), генерал русской армии. ',\n",
       " 'В 1805 г. ',\n",
       " 'Аустерлица — I 302. ',\n",
       " 'Юсуповы — II 214. ',\n",
       " 'III 315. ',\n",
       " 'Яковлев Иван Алексеевич (1767—1848) — отец А. ',\n",
       " 'И. ',\n",
       " 'Герцена. ',\n",
       " 'Александру I — IV 85, 89. ',\n",
       " 'ИЛЛЮСТРАЦИИ. ',\n",
       " 'Фототипия с фотографического портрета Л. ',\n",
       " 'Н. ',\n",
       " 'Толстого 1868 г. ',\n",
       " 'I, между XII и 1 стр. ',\n",
       " 'Цинкография с обложки первого издания 1868—1869 гг. ',\n",
       " 'II, между 64 и 65 стр. ',\n",
       " 'Автотипия корректуры двух страниц романа «Война и Мир» (т. ',\n",
       " 'III. ',\n",
       " 'XVII и XVIII) (размер подлинника) — т. ',\n",
       " 'III, между 318 и 319 стр. ',\n",
       " 'ТОМАМ. ',\n",
       " 'Томы 9—12 содержат в себе основной печатный текст «Войны и Мира». ',\n",
       " 'Русский Вестник» за 1865—1866 гг. ',\n",
       " 'Тысяча восемьсот пятый год». ',\n",
       " 'Эта публикация обнимает собою две трети первого тома. ',\n",
       " 'Первое издание «Войны и Мира» появилось в 1868—1869 гг. ',\n",
       " 'Характер этих исправлений полностью отражен в печатных вариантах). ',\n",
       " 'Толстым в более спешном темпе нежели другие части. ',\n",
       " 'Следующее, четвертое издание сочинений Толстого, вышедшее в 1880 г. ',\n",
       " 'В 1886 г. ',\n",
       " 'Сочинений графа Л. ',\n",
       " 'Н. ',\n",
       " 'Это были первые издания, осуществлявшиеся женой писателя, С. ',\n",
       " 'А. ',\n",
       " 'Войны и Мира» 1873 г. ',\n",
       " 'Текст «Войны и Мира» в этом издании был переработан по своеобразному плану. ',\n",
       " 'Толстого» 1887 г., в 8-м 1889 г и в 10-м 1897 г. ',\n",
       " 'Девятое издание, вышедшее в 1893 г. ',\n",
       " 'В этой же редакции, т. ',\n",
       " 'Сочинений гр. ',\n",
       " 'Л. ',\n",
       " 'Н. ',\n",
       " 'Толстого» в 1903 г. ',\n",
       " 'Таким образом перед нами три различных варианта изданий «Войны и Мира». ',\n",
       " 'Как произошел возврат к этому 2-му изданию в 1886 г. ',\n",
       " 'С. ',\n",
       " 'А. ',\n",
       " 'Толстой или Н. ',\n",
       " 'Н. ',\n",
       " 'Страхова. ',\n",
       " 'Санкционировал ли этот возврат Толстой, мы также не знаем. ',\n",
       " 'С. ',\n",
       " 'А. ',\n",
       " 'Толстой к Л. ',\n",
       " 'Н. ',\n",
       " 'Толстому от 20 августа 1885 г. ',\n",
       " 'Т. ',\n",
       " 'А. ',\n",
       " 'Холстомер», «Смерть Ивана Ильича» и др.). ',\n",
       " 'Поскольку пятое издание было первым изданием С. ',\n",
       " 'А. ',\n",
       " 'Войны и Мира». ',\n",
       " 'Толстого, когда С. ',\n",
       " 'А. ',\n",
       " 'Война и Мир» ни разу не была издана по типу 3-го изд. ',\n",
       " 'С. ',\n",
       " 'А. ',\n",
       " 'Но отнюдь не это должно определять отношение к тексту «Войны и Мира». ',\n",
       " 'Войны и Мира» в 1886 г. ',\n",
       " 'Так же обстоит дело и с иностранными текстами в романе. ',\n",
       " 'Употребление французского языка в русском сочинении. ',\n",
       " 'XIX века. ',\n",
       " 'Курагин, Билибин, Наполеон, Кутузов, Александр и др. ',\n",
       " 'Деление романа на 4 тома, произведенное самим Толстым в издании 1873 г. ',\n",
       " 'Сохранение французского языка и других иностранных текстов. ',\n",
       " 'Войны и Мира». ',\n",
       " 'Деление «Войны и Мира» на 4 тома мы берем по изданию 1873 г. ',\n",
       " 'Из русского текста «Войны и Мира» издания 1873 г. ',\n",
       " 'Издания 1880 г., 1886 г. ',\n",
       " 'А. ',\n",
       " 'Е. ',\n",
       " 'Грузинским. ',\n",
       " 'А. ',\n",
       " 'Е. ',\n",
       " 'Г. ',\n",
       " 'А. ',\n",
       " 'М. ',\n",
       " 'А. ',\n",
       " 'К ДЕВЯТОМУ–ЧЕТЫРНАДЦАТОМУ ТОМАМ. ']"
      ]
     },
     "execution_count": 204,
     "metadata": {},
     "output_type": "execute_result"
    }
   ],
   "source": [
    "re.findall(TOLSTOY_SENTENCE_PATTERN, tolstoy)[-100:]"
   ]
  },
  {
   "cell_type": "code",
   "execution_count": 205,
   "metadata": {},
   "outputs": [],
   "source": [
    "tolstoi = epub2text('./raw_data/0.tolstoy/voina-i-mir.epub')"
   ]
  },
  {
   "cell_type": "code",
   "execution_count": 196,
   "metadata": {},
   "outputs": [
    {
     "data": {
      "text/plain": [
       "402"
      ]
     },
     "execution_count": 196,
     "metadata": {},
     "output_type": "execute_result"
    }
   ],
   "source": [
    "# chapter[3] is the actual text start\n",
    "len(tolstoi)"
   ]
  },
  {
   "cell_type": "code",
   "execution_count": null,
   "metadata": {},
   "outputs": [],
   "source": [
    "# from epub I need some parser "
   ]
  },
  {
   "cell_type": "code",
   "execution_count": null,
   "metadata": {},
   "outputs": [],
   "source": []
  },
  {
   "cell_type": "code",
   "execution_count": 197,
   "metadata": {},
   "outputs": [
    {
     "data": {
      "text/plain": [
       "str"
      ]
     },
     "execution_count": 197,
     "metadata": {},
     "output_type": "execute_result"
    }
   ],
   "source": [
    "type(tolstoi[3])"
   ]
  },
  {
   "cell_type": "code",
   "execution_count": 207,
   "metadata": {},
   "outputs": [],
   "source": [
    "tolstoi_chap1_sentences = re.findall(TOLSTOY_SENTENCE_PATTERN, tolstoi[3])"
   ]
  },
  {
   "cell_type": "code",
   "execution_count": 208,
   "metadata": {},
   "outputs": [
    {
     "data": {
      "text/plain": [
       "134"
      ]
     },
     "execution_count": 208,
     "metadata": {},
     "output_type": "execute_result"
    }
   ],
   "source": [
    "len(tolstoi_chap1_sentences)"
   ]
  },
  {
   "cell_type": "code",
   "execution_count": 213,
   "metadata": {},
   "outputs": [
    {
     "name": "stdout",
     "output_type": "stream",
     "text": [
      "ЧАСТЬ ПЕРВАЯ. \n",
      "I. \n",
      "Eh bien, mon prince. \n",
      "Gênes et Lucques ne sont plus que des apanages, des поместья, de la famille Buonaparte. \n",
      "Non, je vous préviens, que si vous ne me dites pas, que nous avons la guerre, si vous vous permettez encore de pallier toutes les infamies, toutes les atrocités de cet Antichrist (ma parole, j’y crois) — je ne vous connais plus, vous n’êtes plus mon ami, vous n’êtes plus мой верный раб, comme vous dites. \n",
      "Ну, здравствуйте, здравствуйте. \n",
      "Je vois que je vous fais peur, 2  садитесь и рассказывайте. \n",
      "Так говорила в июле 1805 года известная Анна Павловна Шерер, фрейлина и приближенная императрицы Марии Феодоровны, встречая важного и чиновного князя Василия, первого приехавшего на ее вечер. \n",
      "Анна Павловна кашляла несколько дней, у нее был  грипп , как она говорила  (грипп  был тогда новое слово, употреблявшееся только редкими). \n",
      "Si vous n’avez rien de mieux à faire, M. \n",
      "Annette Scherer». \n",
      "Dieu, quelle virulente sortie! \n",
      "Он говорил на том изысканном французском языке, на котором не только говорили, но и думали наши деды, и с теми тихими, покровительственными интонациями, которые свойственны состаревшемуcя в свете и при дворе значительному человеку. \n",
      "Он подошел к Анне Павловне, поцеловал ее руку, подставив ей свою надушенную и сияющую лысину, и покойно уселся на диване. \n",
      "Avant tout dites moi, comment vous allez, chère amie? \n",
      "Успокойте меня, — сказал он, не изменяя голоса и тоном, в котором из-за приличия и участия просвечивало равнодушие и даже насмешка. \n",
      "Как можно быть здоровой... \n",
      "Разве можно, имея чувство, оставаться спокойною в наше время? \n",
      "Анна Павловна. \n",
      "Вы весь вечер у меня, надеюсь? \n",
      "А праздник английского посланника? \n",
      "Нынче середа. \n",
      "Мне надо показаться там, — сказал князь. \n",
      "Дочь заедет за мной и повезет меня. \n",
      "Я думала, что нынешний праздник отменен. \n",
      "Je vous avoue que toutes ces fêtes et tous ces feux d’artifice commencent à devenir insipides. \n",
      "Ежели бы знали, что вы этого хотите, праздник бы отменили, — сказал князь, по привычке, как заведенные часы, говоря вещи, которым он и не хотел, чтобы верили. \n",
      "Ne me tourmentez pas. \n",
      "Eh bien, qu’a-t-on décidé par rapport à la dépêche de Novosilzoff? \n",
      "Vous savez tout. \n",
      "Как вам сказать? \n",
      "Qu’a-t-on décidé? \n",
      "On a décidé que Buonaparte a brûlé ses vaisseaux, et je crois que nous sommes en train de brûler les notres. \n",
      "Князь Василий говорил всегда лениво, как актер говорит роль старой пиесы. \n",
      "Анна Павловна Шерер, напротив, несмотря на свои сорок лет, была преисполнена оживления и порывов. \n",
      "Быть энтузиасткой сделалось ее общественным положением, и иногда, когда ей даже того не хотелось, она, чтобы не обмануть ожиданий людей, знавших ее, делалась энтузиасткой. \n",
      "Сдержанная улыбка, игравшая постоянно на лице Анны Павловны, хотя и не шла к ее отжившим чертам, выражала, как у избалованных детей, постоянное сознание своего милого недостатка, от которого она не хочет, не может и не находит нужным исправляться. \n",
      "В середине разговора про политические действия Анна Павловна разгорячилась. \n",
      "Ах, не говорите мне про Австрию! \n",
      "Я ничего не понимаю, может быть, но Австрия никогда не хотела и не хочет войны. \n",
      "Она предает нас. \n",
      "Россия одна должна быть спасительницей Европы. \n",
      "Наш благодетель знает свое высокое призвание и будет верен ему. \n",
      "Вот одно, во чтò я верю. \n",
      "Нашему доброму и чудному государю предстоит величайшая роль в мире, и он так добродетелен и хорош, что Бог не оставит его, и он исполнит свое призвание задавить гидру революции, которая теперь еще ужаснее в лице этого убийцы и злодея. \n",
      "Мы одни должны искупить кровь праведника. \n",
      "На кого нам надеяться, я вас спрашиваю?.. \n",
      "Англия с своим коммерческим духом не поймет и не может понять всю высоту души императора Александра. \n",
      "Она отказалась очистить Мальту. \n",
      "Она хочет видеть, ищет заднюю мысль наших действий. \n",
      "Чтò они сказали Новосильцову?.. \n",
      "Ничего. \n",
      "Они не поняли, они не могут понять самоотвержения нашего императора, который ничего не хочет для себя и всё хочет для блага мира. \n",
      "И чтò они обещали? \n",
      "Ничего. \n",
      "И чтò обещали, и того не будет! \n",
      "Пруссия уже объявила, что Бонапарте непобедим и что вся Европа ничего не может против него... \n",
      "И я не верю ни в одном слове ни Гарденбергу, ни Гаугвицу. \n",
      "Cette fameuse neutralité prussienne, ce n’est qu’un piège. \n",
      "Я верю в одного Бога и в высокую судьбу нашего милого императора. \n",
      "Он спасет Европу!.. \n",
      "Она вдруг остановилась с улыбкой насмешки над своею горячностью. \n",
      "Я думаю, — сказал князь улыбаясь, — что ежели бы вас послали вместо нашего милого Винценгероде, вы бы взяли приступом согласие прусского короля. \n",
      "Вы так красноречивы. \n",
      "Вы дадите мне чаю? \n",
      "Сейчас. \n",
      "A propos, — прибавила она, опять успокоиваясь, — нынче у меня два очень интересные человека, le vicomte de Mortemart, il est allié aux Montmorency par les Rohans, 10  одна из лучших фамилий Франции. \n",
      "Это один из хороших эмигрантов, из настоящих. \n",
      "И потом l’abbé Morіo: 11  вы знаете этот глубокий ум? \n",
      "Он был принят государем. \n",
      "Вы знаете? \n",
      "А! \n",
      "Я очень рад буду, — сказал князь. \n",
      "Скажите, — прибавил он, как будто только что вспомнив чтò-то и особенно-небрежно, тогда как то, о чем он спрашивал, было главною целью его посещения, — правда, что l’impératrice-mère 12  желает назначения барона Функе первым секретарем в Вену? \n",
      "C’est un pauvre sire, ce baron, à ce qu’il paraît. \n",
      "Князь Василий желал определить сына на это место, которое через императрицу Марию Феодоровну старались доставить барону. \n",
      "Анна Павловна почти закрыла глаза в знак того, что ни она, ни кто другой не могут судить про то, чтò угодно или нравится императрице. \n",
      "Monsieur le baron de Funke a été recommandé à l’impératrice-mère par sa soeur, 14  — только сказала она грустным, сухим тоном. \n",
      "В то время, как Анна Павловна назвала императрицу, лицо ее вдруг представило глубокое и искреннее выражение преданности и уважения, соединенное с грустью, чтò с ней бывало каждый раз, когда она в разговоре упоминала о своей высокой покровительнице. \n",
      "Она сказала, что ее вели чество изволила оказать барону Функе beaucoup d’estime, 15  и опять взгляд ее подернулся грустью. \n",
      "Князь равнодушно замолк. \n",
      "Анна Павловна, с свойственною ей придворною и женскою ловкостью и быстротою такта, захотела и щелконуть князя за то, что он дерзнул так отозваться о лице, рекомендованном императрице, и в то же время утешить его. \n",
      "Mais à propos de votre famille, 16  — сказала она, — знаете ли, что ваша дочь с тех пор, как выезжает, fait les délices de tout le monde. \n",
      "On la trouve belle, comme le jour. \n",
      "Князь наклонился в знак уважения и признательности. \n",
      "Я часто думаю, — продолжала Анна Павловна после минутного молчания, придвигаясь к князю и ласково улыбаясь ему, как будто выказывая этим, что политические и светские разговоры кончены и теперь начинается задушевный: — я часто думаю, как иногда несправедливо распределяется счастие жизни. \n",
      "За чтò вам судьба дала таких двух славных детей (исключая Анатоля, вашего меньшого, я его не люблю, — вставила она безапелляционно, приподняв брови) — таких прелестных детей? \n",
      "А вы, право, менее всех цените их и потому их не стòите. \n",
      "И она улыбнулась своею восторженною улыбкой. \n",
      "Que voulez-vous? \n",
      "Lafater aurait dit que je n’ai pas la bosse de la paternité, 18  — сказал князь. \n",
      "Перестаньте шутить. \n",
      "Я хотела серьезно поговорить с вами. \n",
      "Знаете, я недовольна вашим меньшим сыном. \n",
      "Между нами будь сказано (лицо ее приняло грустное выражение), о нем говорили у ее величества и жалеют вас... \n",
      "Князь не отвечал, но она молча, значительно глядя на него, ждала ответа. \n",
      "Князь Василий поморщился. \n",
      "Чтò ж мне делать? \n",
      "Вы знаете, я сделал для их воспитания все, чтò может отец, и оба вышли des imbéciles. \n",
      "Ипполит, по крайней мере, покойный дурак, а Анатоль — беспокойный. \n",
      "Вот одно различие, — сказал он, улыбаясь более неестественно и одушевленно, чем обыкновенно, и при этом особенно резко выказывая в сложившихся около его рта морщинах что-то неожиданно-грубое и неприятное. \n",
      "И зачем родятся дети у таких людей, как вы? \n",
      "Ежели бы вы не были отец, я бы ни в чем не могла упрекнуть вас, — сказала Анна Павловна, задумчиво поднимая глаза. \n",
      "Je suie votre 20  верный раб, et à vous seule je puis l’avouer. \n",
      "Мои дети — ce sont les entraves de mon existence. \n",
      "Это мой крест. \n",
      "Я так себе объясняю. \n",
      "Que voulez vous?.. \n",
      "Он помолчал, выражая жестом свою покорность жестокой судьбе. \n",
      "Анна Павловна задумалась. \n",
      "Вы никогда не думали о том, чтобы женить вашего блудного сына Анатоля. \n",
      "Говорят, — сказала она, — что старые девицы ont la manie des mariages. \n",
      "Я еще не чувствую за собою этой слабости, но у меня есть одна petite personne, 24  которая очень несчастлива с отцом, une parente à nous, une princesse 25  Болконская. \n",
      "Князь Василий не отвечал, хотя с свойственною светским людям быстротой соображения и памяти показал движением головы, что он принял к соображению эти сведения. \n",
      "Нет, вы знаете ли, что этот Анатоль мне стòит 40 000 в год, — сказал он, видимо, не в силах удерживать печальный ход своих мыслей. \n",
      "Он помолчал. \n",
      "Чтò будет через пять лет, если это пойдет так? \n",
      "Voilà l’avantage d’être père. \n",
      "Она богата, ваша княжна? \n",
      "Отец очень богат и скуп. \n",
      "Он живет в деревне. \n",
      "Знаете, этот известный князь Болконский, отставленный еще при покойном императоре и прозванный «прусским королем». \n",
      "Он очень умный человек, но со странностями и тяжелый. \n",
      "La pauvre petite est malheureuse, comme les pierres. \n",
      "У нее брат, вот чтò недавно женился на Lise Мейнен, адъютант Кутузова. \n",
      "Он будет нынче у меня. \n",
      "Ecoutez, chère Annette, 28  — сказал князь, взяв вдруг свою собеседницу за руку и пригибая ее почему-то книзу, — Arrangez-moi cette affaire et je suis votre 29  вернейший раб à tout jamais ( pan,  comme mon староста m’écrit des 30  донесенья: покой-ер-п). \n",
      "Она хорошей фамилии и богата. \n",
      "Всё, чтò мне нужно. \n",
      "И он с теми свободными и фамильярными, грациозными движениями, которые его отличали, взял за руку фрейлину, поцеловал ее и, поцеловав, помахал фрейлинскою рукой, развалившись на креслах и глядя в сторону. \n",
      "Attendez, 31  — сказала Анна Павловна, соображая. \n",
      "Я нынче же поговорю Lise (la femme du jeune Болконский). \n",
      "И, может быть, это уладится. \n",
      "Ce sera dans votre famille, que je ferai mon apprentissage de vieille fille. \n"
     ]
    }
   ],
   "source": [
    "for sentence in tolstoi_chap1_sentences:\n",
    "    print(sentence)"
   ]
  },
  {
   "cell_type": "code",
   "execution_count": 218,
   "metadata": {},
   "outputs": [],
   "source": [
    "result = \"\\n\".join([\"\".join(sentence) for sentence in tolstoi_chap1_sentences])"
   ]
  },
  {
   "cell_type": "code",
   "execution_count": 219,
   "metadata": {},
   "outputs": [
    {
     "data": {
      "text/plain": [
       "'ЧАСТЬ ПЕРВАЯ. \\nI. \\nEh bien, mon prince. \\nGênes et Lucques ne sont plus que des apanages, des поместья, de la famille Buonaparte. \\nNon, je vous préviens, que si vous ne me dites pas, que nous avons la guerre, si vous vous permettez encore de pallier toutes les infamies, toutes les atrocités de cet Antichrist (ma parole, j’y crois) — je ne vous connais plus, vous n’êtes plus mon ami, vous n’êtes plus мой верный раб, comme vous dites. \\nНу, здравствуйте, здравствуйте. \\nJe vois que je vous fais peur, 2  садитесь и рассказывайте. \\nТак говорила в июле 1805 года известная Анна Павловна Шерер, фрейлина и приближенная императрицы Марии Феодоровны, встречая важного и чиновного князя Василия, первого приехавшего на ее вечер. \\nАнна Павловна кашляла несколько дней, у нее был  грипп , как она говорила  (грипп  был тогда новое слово, употреблявшееся только редкими). \\nSi vous n’avez rien de mieux à faire, M. \\nAnnette Scherer». \\nDieu, quelle virulente sortie! \\nОн говорил на том изысканном французском языке, на котором не только говорили, но и думали наши деды, и с теми тихими, покровительственными интонациями, которые свойственны состаревшемуcя в свете и при дворе значительному человеку. \\nОн подошел к Анне Павловне, поцеловал ее руку, подставив ей свою надушенную и сияющую лысину, и покойно уселся на диване. \\nAvant tout dites moi, comment vous allez, chère amie? \\nУспокойте меня, — сказал он, не изменяя голоса и тоном, в котором из-за приличия и участия просвечивало равнодушие и даже насмешка. \\nКак можно быть здоровой... \\nРазве можно, имея чувство, оставаться спокойною в наше время? \\nАнна Павловна. \\nВы весь вечер у меня, надеюсь? \\nА праздник английского посланника? \\nНынче середа. \\nМне надо показаться там, — сказал князь. \\nДочь заедет за мной и повезет меня. \\nЯ думала, что нынешний праздник отменен. \\nJe vous avoue que toutes ces fêtes et tous ces feux d’artifice commencent à devenir insipides. \\nЕжели бы знали, что вы этого хотите, праздник бы отменили, — сказал князь, по привычке, как заведенные часы, говоря вещи, которым он и не хотел, чтобы верили. \\nNe me tourmentez pas. \\nEh bien, qu’a-t-on décidé par rapport à la dépêche de Novosilzoff? \\nVous savez tout. \\nКак вам сказать? \\nQu’a-t-on décidé? \\nOn a décidé que Buonaparte a brûlé ses vaisseaux, et je crois que nous sommes en train de brûler les notres. \\nКнязь Василий говорил всегда лениво, как актер говорит роль старой пиесы. \\nАнна Павловна Шерер, напротив, несмотря на свои сорок лет, была преисполнена оживления и порывов. \\nБыть энтузиасткой сделалось ее общественным положением, и иногда, когда ей даже того не хотелось, она, чтобы не обмануть ожиданий людей, знавших ее, делалась энтузиасткой. \\nСдержанная улыбка, игравшая постоянно на лице Анны Павловны, хотя и не шла к ее отжившим чертам, выражала, как у избалованных детей, постоянное сознание своего милого недостатка, от которого она не хочет, не может и не находит нужным исправляться. \\nВ середине разговора про политические действия Анна Павловна разгорячилась. \\nАх, не говорите мне про Австрию! \\nЯ ничего не понимаю, может быть, но Австрия никогда не хотела и не хочет войны. \\nОна предает нас. \\nРоссия одна должна быть спасительницей Европы. \\nНаш благодетель знает свое высокое призвание и будет верен ему. \\nВот одно, во чтò я верю. \\nНашему доброму и чудному государю предстоит величайшая роль в мире, и он так добродетелен и хорош, что Бог не оставит его, и он исполнит свое призвание задавить гидру революции, которая теперь еще ужаснее в лице этого убийцы и злодея. \\nМы одни должны искупить кровь праведника. \\nНа кого нам надеяться, я вас спрашиваю?.. \\nАнглия с своим коммерческим духом не поймет и не может понять всю высоту души императора Александра. \\nОна отказалась очистить Мальту. \\nОна хочет видеть, ищет заднюю мысль наших действий. \\nЧтò они сказали Новосильцову?.. \\nНичего. \\nОни не поняли, они не могут понять самоотвержения нашего императора, который ничего не хочет для себя и всё хочет для блага мира. \\nИ чтò они обещали? \\nНичего. \\nИ чтò обещали, и того не будет! \\nПруссия уже объявила, что Бонапарте непобедим и что вся Европа ничего не может против него... \\nИ я не верю ни в одном слове ни Гарденбергу, ни Гаугвицу. \\nCette fameuse neutralité prussienne, ce n’est qu’un piège. \\nЯ верю в одного Бога и в высокую судьбу нашего милого императора. \\nОн спасет Европу!.. \\nОна вдруг остановилась с улыбкой насмешки над своею горячностью. \\nЯ думаю, — сказал князь улыбаясь, — что ежели бы вас послали вместо нашего милого Винценгероде, вы бы взяли приступом согласие прусского короля. \\nВы так красноречивы. \\nВы дадите мне чаю? \\nСейчас. \\nA propos, — прибавила она, опять успокоиваясь, — нынче у меня два очень интересные человека, le vicomte de Mortemart, il est allié aux Montmorency par les Rohans, 10  одна из лучших фамилий Франции. \\nЭто один из хороших эмигрантов, из настоящих. \\nИ потом l’abbé Morіo: 11  вы знаете этот глубокий ум? \\nОн был принят государем. \\nВы знаете? \\nА! \\nЯ очень рад буду, — сказал князь. \\nСкажите, — прибавил он, как будто только что вспомнив чтò-то и особенно-небрежно, тогда как то, о чем он спрашивал, было главною целью его посещения, — правда, что l’impératrice-mère 12  желает назначения барона Функе первым секретарем в Вену? \\nC’est un pauvre sire, ce baron, à ce qu’il paraît. \\nКнязь Василий желал определить сына на это место, которое через императрицу Марию Феодоровну старались доставить барону. \\nАнна Павловна почти закрыла глаза в знак того, что ни она, ни кто другой не могут судить про то, чтò угодно или нравится императрице. \\nMonsieur le baron de Funke a été recommandé à l’impératrice-mère par sa soeur, 14  — только сказала она грустным, сухим тоном. \\nВ то время, как Анна Павловна назвала императрицу, лицо ее вдруг представило глубокое и искреннее выражение преданности и уважения, соединенное с грустью, чтò с ней бывало каждый раз, когда она в разговоре упоминала о своей высокой покровительнице. \\nОна сказала, что ее вели чество изволила оказать барону Функе beaucoup d’estime, 15  и опять взгляд ее подернулся грустью. \\nКнязь равнодушно замолк. \\nАнна Павловна, с свойственною ей придворною и женскою ловкостью и быстротою такта, захотела и щелконуть князя за то, что он дерзнул так отозваться о лице, рекомендованном императрице, и в то же время утешить его. \\nMais à propos de votre famille, 16  — сказала она, — знаете ли, что ваша дочь с тех пор, как выезжает, fait les délices de tout le monde. \\nOn la trouve belle, comme le jour. \\nКнязь наклонился в знак уважения и признательности. \\nЯ часто думаю, — продолжала Анна Павловна после минутного молчания, придвигаясь к князю и ласково улыбаясь ему, как будто выказывая этим, что политические и светские разговоры кончены и теперь начинается задушевный: — я часто думаю, как иногда несправедливо распределяется счастие жизни. \\nЗа чтò вам судьба дала таких двух славных детей (исключая Анатоля, вашего меньшого, я его не люблю, — вставила она безапелляционно, приподняв брови) — таких прелестных детей? \\nА вы, право, менее всех цените их и потому их не стòите. \\nИ она улыбнулась своею восторженною улыбкой. \\nQue voulez-vous? \\nLafater aurait dit que je n’ai pas la bosse de la paternité, 18  — сказал князь. \\nПерестаньте шутить. \\nЯ хотела серьезно поговорить с вами. \\nЗнаете, я недовольна вашим меньшим сыном. \\nМежду нами будь сказано (лицо ее приняло грустное выражение), о нем говорили у ее величества и жалеют вас... \\nКнязь не отвечал, но она молча, значительно глядя на него, ждала ответа. \\nКнязь Василий поморщился. \\nЧтò ж мне делать? \\nВы знаете, я сделал для их воспитания все, чтò может отец, и оба вышли des imbéciles. \\nИпполит, по крайней мере, покойный дурак, а Анатоль — беспокойный. \\nВот одно различие, — сказал он, улыбаясь более неестественно и одушевленно, чем обыкновенно, и при этом особенно резко выказывая в сложившихся около его рта морщинах что-то неожиданно-грубое и неприятное. \\nИ зачем родятся дети у таких людей, как вы? \\nЕжели бы вы не были отец, я бы ни в чем не могла упрекнуть вас, — сказала Анна Павловна, задумчиво поднимая глаза. \\nJe suie votre 20  верный раб, et à vous seule je puis l’avouer. \\nМои дети — ce sont les entraves de mon existence. \\nЭто мой крест. \\nЯ так себе объясняю. \\nQue voulez vous?.. \\nОн помолчал, выражая жестом свою покорность жестокой судьбе. \\nАнна Павловна задумалась. \\nВы никогда не думали о том, чтобы женить вашего блудного сына Анатоля. \\nГоворят, — сказала она, — что старые девицы ont la manie des mariages. \\nЯ еще не чувствую за собою этой слабости, но у меня есть одна petite personne, 24  которая очень несчастлива с отцом, une parente à nous, une princesse 25  Болконская. \\nКнязь Василий не отвечал, хотя с свойственною светским людям быстротой соображения и памяти показал движением головы, что он принял к соображению эти сведения. \\nНет, вы знаете ли, что этот Анатоль мне стòит 40 000 в год, — сказал он, видимо, не в силах удерживать печальный ход своих мыслей. \\nОн помолчал. \\nЧтò будет через пять лет, если это пойдет так? \\nVoilà l’avantage d’être père. \\nОна богата, ваша княжна? \\nОтец очень богат и скуп. \\nОн живет в деревне. \\nЗнаете, этот известный князь Болконский, отставленный еще при покойном императоре и прозванный «прусским королем». \\nОн очень умный человек, но со странностями и тяжелый. \\nLa pauvre petite est malheureuse, comme les pierres. \\nУ нее брат, вот чтò недавно женился на Lise Мейнен, адъютант Кутузова. \\nОн будет нынче у меня. \\nEcoutez, chère Annette, 28  — сказал князь, взяв вдруг свою собеседницу за руку и пригибая ее почему-то книзу, — Arrangez-moi cette affaire et je suis votre 29  вернейший раб à tout jamais ( pan,  comme mon староста m’écrit des 30  донесенья: покой-ер-п). \\nОна хорошей фамилии и богата. \\nВсё, чтò мне нужно. \\nИ он с теми свободными и фамильярными, грациозными движениями, которые его отличали, взял за руку фрейлину, поцеловал ее и, поцеловав, помахал фрейлинскою рукой, развалившись на креслах и глядя в сторону. \\nAttendez, 31  — сказала Анна Павловна, соображая. \\nЯ нынче же поговорю Lise (la femme du jeune Болконский). \\nИ, может быть, это уладится. \\nCe sera dans votre famille, que je ferai mon apprentissage de vieille fille. '"
      ]
     },
     "execution_count": 219,
     "metadata": {},
     "output_type": "execute_result"
    }
   ],
   "source": [
    "result"
   ]
  },
  {
   "cell_type": "code",
   "execution_count": 220,
   "metadata": {},
   "outputs": [],
   "source": [
    "with open('./data/0.tolstoy.txt', 'w') as fh:\n",
    "    fh.write(result)"
   ]
  },
  {
   "cell_type": "code",
   "execution_count": 261,
   "metadata": {},
   "outputs": [
    {
     "data": {
      "text/plain": [
       "134"
      ]
     },
     "execution_count": 261,
     "metadata": {},
     "output_type": "execute_result"
    }
   ],
   "source": [
    "len(tolstoi_chap1_sentences)"
   ]
  },
  {
   "cell_type": "code",
   "execution_count": null,
   "metadata": {},
   "outputs": [],
   "source": []
  }
 ],
 "metadata": {
  "kernelspec": {
   "display_name": "wrpc",
   "language": "python",
   "name": "wrpc"
  },
  "language_info": {
   "codemirror_mode": {
    "name": "ipython",
    "version": 3
   },
   "file_extension": ".py",
   "mimetype": "text/x-python",
   "name": "python",
   "nbconvert_exporter": "python",
   "pygments_lexer": "ipython3",
   "version": "3.7.9"
  }
 },
 "nbformat": 4,
 "nbformat_minor": 5
}
