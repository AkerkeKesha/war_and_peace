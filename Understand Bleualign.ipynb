{
 "cells": [
  {
   "cell_type": "code",
   "execution_count": null,
   "metadata": {},
   "outputs": [],
   "source": []
  },
  {
   "cell_type": "code",
   "execution_count": 1,
   "metadata": {},
   "outputs": [],
   "source": [
    "# For me, such a peak was the Nadelhorn.\n",
    "s15 = \"Ein solcher Gipfel war fur mich das Nadelhorn.\""
   ]
  },
  {
   "cell_type": "code",
   "execution_count": null,
   "metadata": {},
   "outputs": [],
   "source": [
    "# such a summit was for me the nadelhorn.\n",
    "tprime15 = \"un tel sommet etait pour moi le nadelhorn .\""
   ]
  },
  {
   "cell_type": "code",
   "execution_count": 4,
   "metadata": {},
   "outputs": [],
   "source": [
    "# BLEU = 0.002\n",
    "t16 = \"Tel fut pour moi le Nadelhorn , mais apre`s avoir personnifie ́ la montagne comme ne peut manquer de le faire celui qui s’ est souvent mesure ́ a` elle , je m’ em de dire que la cause principale des avatarsqui vont eˆtre rapporte ́s doit eˆtre recherche ́e dans le comportement humain, ce que de ́montreront a` l’ e ́vidence les propos suivants.\""
   ]
  },
  {
   "cell_type": "code",
   "execution_count": 5,
   "metadata": {},
   "outputs": [
    {
     "data": {
      "text/plain": [
       "'Tel fut pour moi le Nadelhorn , mais apre`s avoir personnifie ́ la montagne comme ne peut manquer de le faire celui qui s’ est souvent mesure ́ a` elle , je m’ em de dire que la cause principale des avatarsqui vont eˆtre rapporte ́s doit eˆtre recherche ́e dans le comportement humain, ce que de ́montreront a` l’ e ́vidence les propos suivants.'"
      ]
     },
     "execution_count": 5,
     "metadata": {},
     "output_type": "execute_result"
    }
   ],
   "source": [
    "t16"
   ]
  },
  {
   "cell_type": "markdown",
   "metadata": {},
   "source": [
    "Such was for me the Nadelhorn, but after having personified the mountain, as one who has often measured himself against it cannot fail to do, I don't want to say that the main cause of that will be reported must be investigated in human behavior, which the following statements will clearly demonstrate."
   ]
  },
  {
   "cell_type": "code",
   "execution_count": null,
   "metadata": {},
   "outputs": [],
   "source": [
    "# BLEU = 0.236\n",
    "t275 = \"Pour moi l’ affaire e ́tait dans le sac :\""
   ]
  },
  {
   "cell_type": "markdown",
   "metadata": {},
   "source": [
    "2-2 alignment"
   ]
  },
  {
   "cell_type": "code",
   "execution_count": null,
   "metadata": {},
   "outputs": [],
   "source": [
    "# \"The break is over and I have to do something again: Dare to try again. \"\n",
    "\"Die Pause ist um, und ich muss wieder etwas tun: \\n\n",
    "Den nachsten Versuch wagen .\""
   ]
  },
  {
   "cell_type": "code",
   "execution_count": null,
   "metadata": {},
   "outputs": [],
   "source": [
    "# The break is over. \\ n Act again, risk the next try.\n",
    "\"La pause est termine ́e . \\n Agir de nouveau , risquer l’ essai suivant .\""
   ]
  }
 ],
 "metadata": {
  "kernelspec": {
   "display_name": "wrpc",
   "language": "python",
   "name": "wrpc"
  },
  "language_info": {
   "codemirror_mode": {
    "name": "ipython",
    "version": 3
   },
   "file_extension": ".py",
   "mimetype": "text/x-python",
   "name": "python",
   "nbconvert_exporter": "python",
   "pygments_lexer": "ipython3",
   "version": "3.7.12"
  }
 },
 "nbformat": 4,
 "nbformat_minor": 4
}
