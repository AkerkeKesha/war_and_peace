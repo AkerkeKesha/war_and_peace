{
 "cells": [
  {
   "cell_type": "code",
   "execution_count": 1,
   "metadata": {},
   "outputs": [],
   "source": [
    "with open('../data/0.tolstoy.txt') as fh:\n",
    "    source = fh.read()"
   ]
  },
  {
   "cell_type": "code",
   "execution_count": 4,
   "metadata": {},
   "outputs": [
    {
     "data": {
      "text/plain": [
       "['В середине разговора про политические действия Анна Павловна разгорячилась.',\n",
       " '— Ах, не говорите мне про Австрию!',\n",
       " 'Я ничего не понимаю, может быть, но Австрия никогда не хотела и не хочет войны.',\n",
       " 'Она предает нас.',\n",
       " 'Россия одна должна быть спасительницей Европы.',\n",
       " 'Наш благодетель знает свое высокое призвание и будет верен ему.',\n",
       " 'Вот одно, во чтò я верю.',\n",
       " 'Нашему доброму и чудному государю предстоит величайшая роль в мире, и он так добродетелен и хорош, что Бог не оставит его, и он исполнит свое призвание задавить гидру революции, которая теперь еще ужаснее в лице этого убийцы и злодея.',\n",
       " 'Мы одни должны искупить кровь праведника.',\n",
       " 'На кого нам надеяться, я вас спрашиваю?..',\n",
       " 'Англия с своим коммерческим духом не поймет и не может понять всю высоту души императора Александра.',\n",
       " 'Она отказалась очистить Мальту.',\n",
       " 'Она хочет видеть, ищет заднюю мысль наших действий.',\n",
       " 'Чтò они сказали Новосильцову?..',\n",
       " 'Ничего.',\n",
       " 'Они не поняли, они не могут понять самоотвержения нашего императора, который ничего не хочет для себя и всё хочет для блага мира.',\n",
       " 'И чтò они обещали?',\n",
       " 'Ничего.',\n",
       " 'И чтò обещали, и того не будет!',\n",
       " 'Пруссия уже объявила, что Бонапарте непобедим и что вся Европа ничего не может против него...',\n",
       " 'И я не верю ни в одном слове ни Гарденбергу, ни Гаугвицу.',\n",
       " 'Cette fameuse neutralité prussienne, ce n’est qu’un piège.',\n",
       " 'Я верю в одного Бога и в высокую судьбу нашего милого императора.',\n",
       " 'Он спасет Европу!..',\n",
       " '— Она вдруг остановилась с улыбкой насмешки над своею горячностью.',\n",
       " '— Я думаю, — сказал князь улыбаясь, — что ежели бы вас послали вместо нашего милого Винценгероде, вы бы взяли приступом согласие прусского короля.',\n",
       " 'Вы так красноречивы.',\n",
       " 'Вы дадите мне чаю?',\n",
       " '— Сейчас.',\n",
       " 'A propos, — прибавила она, опять успокоиваясь, — нынче у меня два очень интересные человека, le vicomte de Mortemart, il est allié aux Montmorency par les Rohans,  одна из лучших фамилий Франции.',\n",
       " 'Это один из хороших эмигрантов, из настоящих.',\n",
       " 'И потом l’abbé Morіo:  вы знаете этот глубокий ум?',\n",
       " 'Он был принят государем.',\n",
       " 'Вы знаете?',\n",
       " '— А!',\n",
       " 'Я очень рад буду, — сказал князь.',\n",
       " '— Скажите, — прибавил он, как будто только что вспомнив чтò-то и особенно-небрежно, тогда как то, о чем он спрашивал, было главною целью его посещения, — правда, что l’impératrice-mère  желает назначения барона Функе первым секретарем в Вену?',\n",
       " 'C’est un pauvre sire, ce baron, à ce qu’il paraît.',\n",
       " '— Князь Василий желал определить сына на это место, которое через императрицу Марию Феодоровну старались доставить барону.',\n",
       " 'Анна Павловна почти закрыла глаза в знак того, что ни она, ни кто другой не могут судить про то, чтò угодно или нравится императрице.',\n",
       " '— Monsieur le baron de Funke a été recommandé à l’impératrice-mère par sa soeur,  — только сказала она грустным, сухим тоном.',\n",
       " 'В то время, как Анна Павловна назвала императрицу, лицо ее вдруг представило глубокое и искреннее выражение преданности и уважения, соединенное с грустью, чтò с ней бывало каждый раз, когда она в разговоре упоминала о своей высокой покровительнице.',\n",
       " 'Она сказала, что ее вели чество изволила оказать барону Функе beaucoup d’estime,  и опять взгляд ее подернулся грустью.',\n",
       " 'Князь равнодушно замолк.',\n",
       " 'Анна Павловна, с свойственною ей придворною и женскою ловкостью и быстротою такта, захотела и щелконуть князя за то, что он дерзнул так отозваться о лице, рекомендованном императрице, и в то же время утешить его.',\n",
       " '— Mais à propos de votre famille,  — сказала она, — знаете ли, что ваша дочь с тех пор, как выезжает, fait les délices de tout le monde.',\n",
       " 'On la trouve belle, comme le jour.',\n",
       " 'Князь наклонился в знак уважения и признательности.',\n",
       " '— Я часто думаю, — продолжала Анна Павловна после минутного молчания, придвигаясь к князю и ласково улыбаясь ему, как будто выказывая этим, что политические и светские разговоры кончены и теперь начинается задушевный: — я часто думаю, как иногда несправедливо распределяется счастие жизни.']"
      ]
     },
     "execution_count": 4,
     "metadata": {},
     "output_type": "execute_result"
    }
   ],
   "source": [
    "source.split(\"\\n\")[36:85]"
   ]
  },
  {
   "cell_type": "code",
   "execution_count": 5,
   "metadata": {},
   "outputs": [],
   "source": [
    "with open('../data/manually_fixed.txt') as fh:\n",
    "    mt = fh.read()"
   ]
  },
  {
   "cell_type": "code",
   "execution_count": 6,
   "metadata": {},
   "outputs": [
    {
     "data": {
      "text/plain": [
       "['In the middle of a conversation about political actions, Anna Pavlovna flared up.',\n",
       " \"- Oh, don't tell me about Austria!\",\n",
       " 'I don’t understand anything, maybe, but Austria never wanted and does not want war.',\n",
       " 'She betrays us.',\n",
       " 'Russia alone should be the savior of Europe.',\n",
       " 'Our benefactor knows his high calling and will be faithful to it.',\n",
       " 'This is one thing I believe in.',\n",
       " 'Our kind and wonderful sovereign will have the greatest role in the world, and he is so virtuous and good that God will not leave him, and he will fulfill his calling to crush the hydra of the revolution, which is now even more terrible in the person of this murderer and villain.',\n",
       " 'We alone must atone for the blood of the righteous.',\n",
       " 'Who can we hope for, I ask you? ..',\n",
       " 'England with its commercial spirit does not understand and cannot understand the full height of the soul of Emperor Alexander.',\n",
       " 'She refused to clear Malta.',\n",
       " 'She wants to see, is looking for an afterthought of our actions.',\n",
       " 'What did they say to Novosiltsov? ..',\n",
       " 'Nothing.',\n",
       " 'They did not understand, they cannot understand the selflessness of our emperor, who wants nothing for himself and wants everything for the good of the world.',\n",
       " 'And what did they promise?',\n",
       " 'Nothing.',\n",
       " 'And what they promised, and that will not happen!',\n",
       " 'Prussia has already declared that Bonaparte is invincible and that all of Europe can do nothing against him ...',\n",
       " 'And I do not believe in a single word of either Hardenberg or Gaugwitz.',\n",
       " 'This famous Prussian neutrality is just a trap.',\n",
       " 'I believe in one God and in the high destiny of our dear emperor.',\n",
       " 'He will save Europe! ..',\n",
       " 'She suddenly stopped with a smile of mockery at her fervor.',\n",
       " '“I think,” said the prince, smiling, “that if you were sent instead of our dear Vincennerode, you would have taken the consent of the Prussian king by storm.',\n",
       " 'You are so eloquent.',\n",
       " 'Will you give me some tea?',\n",
       " '- Now.',\n",
       " 'In regards to, ”she added, calming down again,“ today I have two very interesting people, the Vicomte de Mortemart, he was allied to Montmorency by the Rohans, one of the best surnames in France.',\n",
       " 'This is one of the good immigrants, real ones.',\n",
       " 'And then Abbot Morіo: do you know this deep mind?',\n",
       " 'He was received by the sovereign.',\n",
       " 'You know?',\n",
       " '- A!',\n",
       " 'I will be very glad, - said the prince.',\n",
       " '\"Tell me,\" he added, as if just remembering something and especially carelessly, while what he asked about was the main purpose of his visit, \" it is true that the empress-mother wishes Baron Funke to be appointed first secretary to Vienna?',\n",
       " \"He's a poor sire, that baron, it seems.\",\n",
       " '- Prince Vasily wanted to assign his son to this place, which they tried to deliver to the baron through Empress Maria Feodorovna.',\n",
       " 'Anna Pavlovna almost closed her eyes as a sign that neither she nor anyone else could judge what the empress liked or liked.',\n",
       " '- Baron de Funke was recommended to the Empress-Mother by his sister, she only said in a sad, dry tone.',\n",
       " 'While Anna Pavlovna named the empress, her face suddenly presented a deep and sincere expression of devotion and respect, combined with sadness, which happened to her every time she mentioned her high patroness in a conversation.',\n",
       " 'She said that Her Majesty had deigned to show Baron Funke much esteem, and again her gaze was shaken with sadness.',\n",
       " 'The prince fell silent indifferently.',\n",
       " 'Anna Pavlovna, with her characteristic courtly and female dexterity and speed of tact, wanted to snap the prince because he dared to say so about the person recommended to the empress, and at the same time to console him.',\n",
       " '“But about your family,” she said, “do you know that your daughter, since she leaves, delights everyone.',\n",
       " 'We find her beautiful, like the day.',\n",
       " 'The prince bent down in respect and gratitude.',\n",
       " \"“I often think,” Anna Pavlovna continued after a moment's silence, moving closer to the prince and smiling affectionately at him, as if showing by this that political and social conversations were over and now a sincere one was beginning: “I often think how the happiness of life is sometimes unfairly distributed.\"]"
      ]
     },
     "execution_count": 6,
     "metadata": {},
     "output_type": "execute_result"
    }
   ],
   "source": [
    "mt.split(\"\\n\")[36:85]"
   ]
  },
  {
   "cell_type": "code",
   "execution_count": null,
   "metadata": {},
   "outputs": [],
   "source": [
    "# part IX page 694"
   ]
  },
  {
   "cell_type": "code",
   "execution_count": 8,
   "metadata": {},
   "outputs": [],
   "source": [
    "with open('../data/passage_enemy.txt') as fh:\n",
    "    passages = fh.read()"
   ]
  },
  {
   "cell_type": "code",
   "execution_count": 11,
   "metadata": {},
   "outputs": [
    {
     "data": {
      "text/plain": [
       "['В этот самый день был военный совет, на котором участвовали все члены гофкригсрата и оба императора.',\n",
       " 'На совете, в противность мнению стариков — Кутузова и князя Шварценберга, было решено немедленно наступать и дать генеральное сражение Бонапарту.',\n",
       " 'Военный совет только что кончился, когда князь Андрей, сопутствуемый Борисом, пришел во дворец отыскивать князя Долгорукова.',\n",
       " 'Еще все лица главной квартиры находились под обаянием сегодняшнего, победоносного для партии молодых, военного совета.',\n",
       " 'Голоса медлителей, советовавших ожидать еще чего-то не наступая, так единодушно были заглушены и доводы их опровергнуты несомненными доказательствами выгод наступления, что то, о чем толковалось в совете, будущее сражение и, без сомнения, победа, казались уже не будущим, а прошедшим.',\n",
       " 'Все выгоды были на нашей стороне.',\n",
       " 'Огромные силы, без сомнения, превосходившие силы Наполеона, были стянуты в одно место; войска были одушевлены присутствием императоров и рвались в дело; стратегический пункт, на котором приходилось действовать, был до малейших подробностей известен австрийскому генералу Вейротеру, руководившему войска (как бы счастливая случайность сделала то, что австрийские войска в прошлом году были на маневрах именно на тех полях, на которых теперь предстояло сразиться с французом); до малейших подробностей была известна и передана на картах предлежащая местность, и Бонапарте, видимо, ослабленный, ничего не предпринимал.']"
      ]
     },
     "execution_count": 11,
     "metadata": {},
     "output_type": "execute_result"
    }
   ],
   "source": [
    "passages.split(\"\\n\")"
   ]
  },
  {
   "cell_type": "code",
   "execution_count": 12,
   "metadata": {},
   "outputs": [],
   "source": [
    "with open('../data/passage_enemy_translated.txt') as fh:\n",
    "    transated_passages = fh.read()"
   ]
  },
  {
   "cell_type": "code",
   "execution_count": 13,
   "metadata": {},
   "outputs": [
    {
     "data": {
      "text/plain": [
       "['On this very day there was a council of war, which was attended by all members of the gofkriegsrat and both emperors.',\n",
       " 'At the council, contrary to the opinion of the old men - Kutuzov and Prince Schwarzenberg, it was decided to immediately attack and give a general battle to Bonaparte.',\n",
       " 'The council of war had just ended when Prince Andrey, accompanied by Boris, came to the palace to look for Prince Dolgorukov.',\n",
       " \"All the faces of the main apartment were still under the charm of today's military council, victorious for the party of young people.\",\n",
       " 'The voices of the procrastinators, advising to expect something else without coming, were so unanimously drowned out and their arguments were refuted by undoubted evidence of the benefits of the offensive, that what was interpreted in the council, the future battle and, no doubt, victory, seemed no longer the future, but the past. ...',\n",
       " 'All the benefits were on our side.',\n",
       " 'Huge forces, no doubt superior to those of Napoleon, were concentrated in one place; the troops were animated by the presence of the emperors and rushed to work; the strategic point at which it was necessary to act was known to the smallest details of the Austrian general Weyrother, who was in charge of the troops (as if by a happy coincidence, the Austrian troops were on maneuvers last year on those fields on which they now had to fight the French); up to the smallest details, the surrounding area was known and conveyed on the maps, and Bonaparte, apparently weakened, did nothing.']"
      ]
     },
     "execution_count": 13,
     "metadata": {},
     "output_type": "execute_result"
    }
   ],
   "source": [
    "transated_passages.split(\"\\n\")"
   ]
  },
  {
   "cell_type": "code",
   "execution_count": null,
   "metadata": {},
   "outputs": [],
   "source": []
  }
 ],
 "metadata": {
  "kernelspec": {
   "display_name": "wrpc",
   "language": "python",
   "name": "wrpc"
  },
  "language_info": {
   "codemirror_mode": {
    "name": "ipython",
    "version": 3
   },
   "file_extension": ".py",
   "mimetype": "text/x-python",
   "name": "python",
   "nbconvert_exporter": "python",
   "pygments_lexer": "ipython3",
   "version": "3.7.12"
  }
 },
 "nbformat": 4,
 "nbformat_minor": 4
}
