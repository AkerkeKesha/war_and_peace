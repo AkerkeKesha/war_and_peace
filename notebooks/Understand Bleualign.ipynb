{
 "cells": [
  {
   "cell_type": "code",
   "execution_count": null,
   "metadata": {},
   "outputs": [],
   "source": []
  },
  {
   "cell_type": "code",
   "execution_count": 1,
   "metadata": {},
   "outputs": [],
   "source": [
    "# For me, such a peak was the Nadelhorn.\n",
    "s15 = \"Ein solcher Gipfel war fur mich das Nadelhorn.\""
   ]
  },
  {
   "cell_type": "code",
   "execution_count": null,
   "metadata": {},
   "outputs": [],
   "source": [
    "# such a summit was for me the nadelhorn.\n",
    "tprime15 = \"un tel sommet etait pour moi le nadelhorn .\""
   ]
  },
  {
   "cell_type": "code",
   "execution_count": 4,
   "metadata": {},
   "outputs": [],
   "source": [
    "# BLEU = 0.002\n",
    "t16 = \"Tel fut pour moi le Nadelhorn , mais apre`s avoir personnifie ́ la montagne comme ne peut manquer de le faire celui qui s’ est souvent mesure ́ a` elle , je m’ em de dire que la cause principale des avatarsqui vont eˆtre rapporte ́s doit eˆtre recherche ́e dans le comportement humain, ce que de ́montreront a` l’ e ́vidence les propos suivants.\""
   ]
  },
  {
   "cell_type": "code",
   "execution_count": 5,
   "metadata": {},
   "outputs": [
    {
     "data": {
      "text/plain": [
       "'Tel fut pour moi le Nadelhorn , mais apre`s avoir personnifie ́ la montagne comme ne peut manquer de le faire celui qui s’ est souvent mesure ́ a` elle , je m’ em de dire que la cause principale des avatarsqui vont eˆtre rapporte ́s doit eˆtre recherche ́e dans le comportement humain, ce que de ́montreront a` l’ e ́vidence les propos suivants.'"
      ]
     },
     "execution_count": 5,
     "metadata": {},
     "output_type": "execute_result"
    }
   ],
   "source": [
    "t16"
   ]
  },
  {
   "cell_type": "markdown",
   "metadata": {},
   "source": [
    "Such was for me the Nadelhorn, but after having personified the mountain, as one who has often measured himself against it cannot fail to do, I don't want to say that the main cause of that will be reported must be investigated in human behavior, which the following statements will clearly demonstrate."
   ]
  },
  {
   "cell_type": "code",
   "execution_count": null,
   "metadata": {},
   "outputs": [],
   "source": [
    "# BLEU = 0.236\n",
    "t275 = \"Pour moi l’ affaire e ́tait dans le sac :\""
   ]
  },
  {
   "cell_type": "markdown",
   "metadata": {},
   "source": [
    "2-2 alignment"
   ]
  },
  {
   "cell_type": "code",
   "execution_count": null,
   "metadata": {},
   "outputs": [],
   "source": [
    "# \"The break is over and I have to do something again: Dare to try again. \"\n",
    "\"Die Pause ist um, und ich muss wieder etwas tun: \\n\n",
    "Den nachsten Versuch wagen .\""
   ]
  },
  {
   "cell_type": "code",
   "execution_count": null,
   "metadata": {},
   "outputs": [],
   "source": [
    "# The break is over. \\ n Act again, risk the next try.\n",
    "\"La pause est termine ́e . \\n Agir de nouveau , risquer l’ essai suivant .\""
   ]
  },
  {
   "cell_type": "code",
   "execution_count": 1,
   "metadata": {},
   "outputs": [],
   "source": [
    "#Gale and Church"
   ]
  },
  {
   "cell_type": "code",
   "execution_count": null,
   "metadata": {},
   "outputs": [],
   "source": [
    "%load_ext autoreload\n",
    "%autoreload 2"
   ]
  },
  {
   "cell_type": "code",
   "execution_count": 37,
   "metadata": {},
   "outputs": [],
   "source": [
    "with open('./data/0.tolstoy.txt') as fh:\n",
    "    source = fh.read()"
   ]
  },
  {
   "cell_type": "code",
   "execution_count": 38,
   "metadata": {},
   "outputs": [],
   "source": [
    "sents = source.split(\"\\n\")"
   ]
  },
  {
   "cell_type": "code",
   "execution_count": 39,
   "metadata": {},
   "outputs": [
    {
     "name": "stdout",
     "output_type": "stream",
     "text": [
      "source text has 283 sentences\n"
     ]
    }
   ],
   "source": [
    "print(f\"source text has {len(sents)} sentences\")"
   ]
  },
  {
   "cell_type": "code",
   "execution_count": 40,
   "metadata": {},
   "outputs": [],
   "source": [
    "with open('./data/5.maude.txt') as fh:\n",
    "    target = fh.read()"
   ]
  },
  {
   "cell_type": "code",
   "execution_count": 41,
   "metadata": {},
   "outputs": [],
   "source": [
    "target_sents = target.split(\"\\n\")"
   ]
  },
  {
   "cell_type": "code",
   "execution_count": 42,
   "metadata": {},
   "outputs": [
    {
     "name": "stdout",
     "output_type": "stream",
     "text": [
      "target maude text has 289 sentences\n"
     ]
    }
   ],
   "source": [
    "print(f\"target maude text has {len(target_sents)} sentences\")"
   ]
  },
  {
   "cell_type": "code",
   "execution_count": 43,
   "metadata": {},
   "outputs": [],
   "source": [
    "with open('./data/tolstoy_translated.txt') as fh:\n",
    "    mt = fh.read()"
   ]
  },
  {
   "cell_type": "code",
   "execution_count": 46,
   "metadata": {},
   "outputs": [
    {
     "data": {
      "text/plain": [
       "283"
      ]
     },
     "execution_count": 46,
     "metadata": {},
     "output_type": "execute_result"
    }
   ],
   "source": [
    "mt_sents =  mt.split(\"\\n\")\n",
    "len(mt_sents)"
   ]
  },
  {
   "cell_type": "code",
   "execution_count": 47,
   "metadata": {},
   "outputs": [],
   "source": [
    "with open('./data/outputfile-t') as fh:\n",
    "    result = fh.read()"
   ]
  },
  {
   "cell_type": "code",
   "execution_count": 48,
   "metadata": {},
   "outputs": [],
   "source": [
    "result_sentences = result.split(\"\\n\")"
   ]
  },
  {
   "cell_type": "code",
   "execution_count": 27,
   "metadata": {},
   "outputs": [
    {
     "data": {
      "text/plain": [
       "39"
      ]
     },
     "execution_count": 27,
     "metadata": {},
     "output_type": "execute_result"
    }
   ],
   "source": [
    "283-244"
   ]
  },
  {
   "cell_type": "code",
   "execution_count": 30,
   "metadata": {},
   "outputs": [
    {
     "data": {
      "text/plain": [
       "['Well, Prince, so Genoa and Lucca are now just family estates of the Buonapartes.',\n",
       " 'I see I have frightened you- sit down and tell me all the news.',\n",
       " '\"  It was in July, 1805, and the speaker was the well-known Anna Pavlovna Scherer, maid of honor and favorite of the Empress Marya Fedorovna. With these words she greeted Prince Vasili Kuragin, a man of high rank and importance, who was the first to arrive at her reception.',\n",
       " 'Anna Pavlovna had had a cough for some days. She was, as she said, suffering from la grippe; grippe being then a new word in St.',\n",
       " 'All her invitations without exception, written in French, and delivered by a scarlet-liveried footman that morning, ran as follows:  \"If you have nothing better to do, Count [or Prince], and if the prospect of spending an evening with a poor invalid is not too terrible, I shall be very charmed to see you tonight between 7 and 10- Annette Scherer. \"  \"Heavens!',\n",
       " 'what a virulent attack!\"',\n",
       " 'replied the prince, not in the least disconcerted by this reception. He had just entered, wearing an embroidered court uniform, knee breeches, and shoes, and had stars on his breast and a serene expression on his flat face.',\n",
       " 'He spoke in that refined French in which our grandfathers not only spoke but thought, and with the gentle, patronizing intonation natural to a man of importance who had grown old in society and at court.',\n",
       " 'He went up to Anna Pavlovna, kissed her hand, presenting to her his bald, scented, and shining head, and complacently seated himself on the sofa.',\n",
       " '\"First of all, dear friend, tell me how you are.']"
      ]
     },
     "execution_count": 30,
     "metadata": {},
     "output_type": "execute_result"
    }
   ],
   "source": [
    "result_sentences[:10]"
   ]
  },
  {
   "cell_type": "code",
   "execution_count": 32,
   "metadata": {},
   "outputs": [
    {
     "data": {
      "text/plain": [
       "['— Eh bien, mon prince.',\n",
       " 'Gênes et Lucques ne sont plus que des apanages, des поместья, de la famille Buonaparte.',\n",
       " 'Non, je vous préviens, que si vous ne me dites pas, que nous avons la guerre, si vous vous permettez encore de pallier toutes les infamies, toutes les atrocités de cet Antichrist (ma parole, j’y crois) — je ne vous connais plus, vous n’êtes plus mon ami, vous n’êtes plus мой верный раб, comme vous dites.',\n",
       " 'Ну, здравствуйте, здравствуйте.',\n",
       " 'Je vois que je vous fais peur,  садитесь и рассказывайте.',\n",
       " 'Так говорила в июле 1805 года известная Анна Павловна Шерер, фрейлина и приближенная императрицы Марии Феодоровны, встречая важного и чиновного князя Василия, первого приехавшего на ее вечер.',\n",
       " 'Анна Павловна кашляла несколько дней, у нее был  грипп , как она говорила  (грипп  был тогда новое слово, употреблявшееся только редкими).',\n",
       " 'В записочках, разосланных утром с красным лакеем, было написано без различия во всех:   «Si vous n’avez rien de mieux à faire, M. le comte (или mon prince), et si la perspective de passer la soirée chez une pauvre malade ne vous effraye pas trop, je serai charmée de vous voir chez moi entre 7 et 10 heures.',\n",
       " 'Annette Scherer».',\n",
       " '— Dieu, quelle virulente sortie!']"
      ]
     },
     "execution_count": 32,
     "metadata": {},
     "output_type": "execute_result"
    }
   ],
   "source": [
    "sents[:10]"
   ]
  },
  {
   "cell_type": "code",
   "execution_count": 49,
   "metadata": {},
   "outputs": [
    {
     "data": {
      "text/plain": [
       "['Well, Prince, so Genoa and Lucca are now just family estates of the Buonapartes.',\n",
       " \"But I warn you, if you don't tell me that this means war, if you still try to defend the infamies and horrors perpetrated by that Antichrist- I really believe he is Antichrist- I will have nothing more to do with you and you are no longer my friend, no longer my 'faithful slave,' as you call yourself!\",\n",
       " 'But how do you do?',\n",
       " 'I see I have frightened you- sit down and tell me all the news.',\n",
       " '\"  It was in July, 1805, and the speaker was the well-known Anna Pavlovna Scherer, maid of honor and favorite of the Empress Marya Fedorovna.',\n",
       " 'With these words she greeted Prince Vasili Kuragin, a man of high rank and importance, who was the first to arrive at her reception.',\n",
       " 'Anna Pavlovna had had a cough for some days.',\n",
       " 'She was, as she said, suffering from la grippe; grippe being then a new word in St.',\n",
       " 'Petersburg, used only by the elite.',\n",
       " 'All her invitations without exception, written in French, and delivered by a scarlet-liveried footman that morning, ran as follows:  \"If you have nothing better to do, Count [or Prince], and if the prospect of spending an evening with a poor invalid is not too terrible, I shall be very charmed to see you tonight between 7 and 10- Annette Scherer.']"
      ]
     },
     "execution_count": 49,
     "metadata": {},
     "output_type": "execute_result"
    }
   ],
   "source": [
    "target_sents[:10]"
   ]
  },
  {
   "cell_type": "code",
   "execution_count": null,
   "metadata": {},
   "outputs": [],
   "source": []
  }
 ],
 "metadata": {
  "kernelspec": {
   "display_name": "wrpc",
   "language": "python",
   "name": "wrpc"
  },
  "language_info": {
   "codemirror_mode": {
    "name": "ipython",
    "version": 3
   },
   "file_extension": ".py",
   "mimetype": "text/x-python",
   "name": "python",
   "nbconvert_exporter": "python",
   "pygments_lexer": "ipython3",
   "version": "3.7.12"
  }
 },
 "nbformat": 4,
 "nbformat_minor": 4
}
