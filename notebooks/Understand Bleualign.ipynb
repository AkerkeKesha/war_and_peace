{
 "cells": [
  {
   "cell_type": "code",
   "execution_count": 79,
   "metadata": {},
   "outputs": [
    {
     "name": "stdout",
     "output_type": "stream",
     "text": [
      "The autoreload extension is already loaded. To reload it, use:\n",
      "  %reload_ext autoreload\n"
     ]
    }
   ],
   "source": [
    "%load_ext autoreload\n",
    "%autoreload 2"
   ]
  },
  {
   "cell_type": "code",
   "execution_count": 80,
   "metadata": {},
   "outputs": [],
   "source": [
    "def get_sentences_from(filename):\n",
    "    with open(filename) as fh:\n",
    "        text = fh.read()\n",
    "    sentences = text.split(\"\\n\")\n",
    "    return sentences"
   ]
  },
  {
   "cell_type": "code",
   "execution_count": 81,
   "metadata": {},
   "outputs": [],
   "source": [
    "def print_text(paragraph):\n",
    "    for ind, sent in enumerate(paragraph):\n",
    "        print(f\"{ind} => {sent}\")"
   ]
  },
  {
   "cell_type": "markdown",
   "metadata": {},
   "source": [
    "### Let's explore first ten sentences in the original text"
   ]
  },
  {
   "cell_type": "code",
   "execution_count": 84,
   "metadata": {},
   "outputs": [
    {
     "name": "stdout",
     "output_type": "stream",
     "text": [
      "0 => — Eh bien, mon prince.\n",
      "1 => Gênes et Lucques ne sont plus que des apanages, des поместья, de la famille Buonaparte.\n",
      "2 => Non, je vous préviens, que si vous ne me dites pas, que nous avons la guerre, si vous vous permettez encore de pallier toutes les infamies, toutes les atrocités de cet Antichrist (ma parole, j’y crois) — je ne vous connais plus, vous n’êtes plus mon ami, vous n’êtes plus мой верный раб, comme vous dites.\n",
      "3 => Ну, здравствуйте, здравствуйте.\n",
      "4 => Je vois que je vous fais peur,  садитесь и рассказывайте.\n",
      "5 => Так говорила в июле 1805 года известная Анна Павловна Шерер, фрейлина и приближенная императрицы Марии Феодоровны, встречая важного и чиновного князя Василия, первого приехавшего на ее вечер.\n",
      "6 => Анна Павловна кашляла несколько дней, у нее был  грипп , как она говорила  (грипп  был тогда новое слово, употреблявшееся только редкими).\n",
      "7 => В записочках, разосланных утром с красным лакеем, было написано без различия во всех:   «Si vous n’avez rien de mieux à faire, M. le comte (или mon prince), et si la perspective de passer la soirée chez une pauvre malade ne vous effraye pas trop, je serai charmée de vous voir chez moi entre 7 et 10 heures.\n",
      "8 => Annette Scherer».\n",
      "9 => — Dieu, quelle virulente sortie!\n"
     ]
    }
   ],
   "source": [
    "tolstoy_sentences = get_sentences_from('../data/0.tolstoy.txt')\n",
    "print_text(tolstoy_sentences[:10])"
   ]
  },
  {
   "cell_type": "code",
   "execution_count": 85,
   "metadata": {},
   "outputs": [
    {
     "name": "stdout",
     "output_type": "stream",
     "text": [
      "tolstoy originally has 283 sentences\n"
     ]
    }
   ],
   "source": [
    "print(f\"tolstoy originally has {len(tolstoy_sentences)} sentences\")"
   ]
  },
  {
   "cell_type": "markdown",
   "metadata": {},
   "source": [
    "### See now sentences in Maude's translation"
   ]
  },
  {
   "cell_type": "code",
   "execution_count": 87,
   "metadata": {},
   "outputs": [
    {
     "name": "stdout",
     "output_type": "stream",
     "text": [
      "0 => Well, Prince, so Genoa and Lucca are now just family estates of the Buonapartes.\n",
      "1 => But I warn you, if you don't tell me that this means war, if you still try to defend the infamies and horrors perpetrated by that Antichrist- I really believe he is Antichrist- I will have nothing more to do with you and you are no longer my friend, no longer my 'faithful slave,' as you call yourself!\n",
      "2 => But how do you do?\n",
      "3 => I see I have frightened you- sit down and tell me all the news.\n",
      "4 => \"  It was in July, 1805, and the speaker was the well-known Anna Pavlovna Scherer, maid of honor and favorite of the Empress Marya Fedorovna.\n",
      "5 => With these words she greeted Prince Vasili Kuragin, a man of high rank and importance, who was the first to arrive at her reception.\n",
      "6 => Anna Pavlovna had had a cough for some days.\n",
      "7 => She was, as she said, suffering from la grippe; grippe being then a new word in St.Petersburg, used only by the elite.\n",
      "8 => All her invitations without exception, written in French, and delivered by a scarlet-liveried footman that morning, ran as follows:  \"If you have nothing better to do, Count [or Prince], and if the prospect of spending an evening with a poor invalid is not too terrible, I shall be very charmed to see you tonight between 7 and 10- Annette Scherer.\n",
      "9 => \"  \"Heavens!\n"
     ]
    }
   ],
   "source": [
    "maude_sentences = get_sentences_from('../data/5.maude.txt')\n",
    "print_text(maude_sentences[:10])"
   ]
  },
  {
   "cell_type": "code",
   "execution_count": 92,
   "metadata": {},
   "outputs": [
    {
     "name": "stdout",
     "output_type": "stream",
     "text": [
      "maude has 289 sentences. That is 6 more\n"
     ]
    }
   ],
   "source": [
    "print(f\"maude has {len(maude_sents)} sentences. That is {len(maude_sents) - len(tolstoy_sentences)} more\")"
   ]
  },
  {
   "cell_type": "markdown",
   "metadata": {},
   "source": [
    "##### sentence 0 and 1 in the original are merged into one in maude. Hence, sentence indices are now shifted, i.e. tolstoy[2] = maude[1]...etc"
   ]
  },
  {
   "cell_type": "code",
   "execution_count": 95,
   "metadata": {},
   "outputs": [
    {
     "name": "stdout",
     "output_type": "stream",
     "text": [
      "— Eh bien, mon prince. Gênes et Lucques ne sont plus que des apanages, des поместья, de la famille Buonaparte.\n",
      "Well, Prince, so Genoa and Lucca are now just family estates of the Buonapartes.\n"
     ]
    }
   ],
   "source": [
    "print(tolstoy_sentences[0] + \" \" + tolstoy_sentences[1])\n",
    "print(maude_sentences[0])"
   ]
  },
  {
   "cell_type": "code",
   "execution_count": 98,
   "metadata": {},
   "outputs": [
    {
     "name": "stdout",
     "output_type": "stream",
     "text": [
      "Non, je vous préviens, que si vous ne me dites pas, que nous avons la guerre, si vous vous permettez encore de pallier toutes les infamies, toutes les atrocités de cet Antichrist (ma parole, j’y crois) — je ne vous connais plus, vous n’êtes plus mon ami, vous n’êtes plus мой верный раб, comme vous dites.\n",
      "==\n",
      "But I warn you, if you don't tell me that this means war, if you still try to defend the infamies and horrors perpetrated by that Antichrist- I really believe he is Antichrist- I will have nothing more to do with you and you are no longer my friend, no longer my 'faithful slave,' as you call yourself!\n"
     ]
    }
   ],
   "source": [
    "print(tolstoy_sentences[2] + \"\\n==\\n\" + maude_sentences[1])"
   ]
  },
  {
   "cell_type": "code",
   "execution_count": 100,
   "metadata": {},
   "outputs": [
    {
     "name": "stdout",
     "output_type": "stream",
     "text": [
      "Ну, здравствуйте, здравствуйте.\n",
      "==\n",
      "But how do you do?\n"
     ]
    }
   ],
   "source": [
    "print(tolstoy_sentences[3] + \"\\n==\\n\" + maude_sentences[2])"
   ]
  },
  {
   "cell_type": "code",
   "execution_count": 101,
   "metadata": {},
   "outputs": [
    {
     "name": "stdout",
     "output_type": "stream",
     "text": [
      "Je vois que je vous fais peur,  садитесь и рассказывайте.\n",
      "==\n",
      "I see I have frightened you- sit down and tell me all the news.\n"
     ]
    }
   ],
   "source": [
    "print(tolstoy_sentences[4] + \"\\n==\\n\" + maude_sentences[3])"
   ]
  },
  {
   "cell_type": "markdown",
   "metadata": {},
   "source": [
    "At tolstoy[5] = maude[4], however, we see tolstoy had two ideas, maude decided to split them. Therefore, now tolstoy[5] == maude[4] + maude[5]. Then shifted, tolstoy[6] = maude[6]"
   ]
  },
  {
   "cell_type": "code",
   "execution_count": 102,
   "metadata": {},
   "outputs": [
    {
     "name": "stdout",
     "output_type": "stream",
     "text": [
      "Так говорила в июле 1805 года известная Анна Павловна Шерер, фрейлина и приближенная императрицы Марии Феодоровны, встречая важного и чиновного князя Василия, первого приехавшего на ее вечер.\n",
      "==\n",
      "\"  It was in July, 1805, and the speaker was the well-known Anna Pavlovna Scherer, maid of honor and favorite of the Empress Marya Fedorovna.\n"
     ]
    }
   ],
   "source": [
    "print(tolstoy_sentences[5] + \"\\n==\\n\" + maude_sentences[4])"
   ]
  },
  {
   "cell_type": "code",
   "execution_count": 108,
   "metadata": {},
   "outputs": [
    {
     "name": "stdout",
     "output_type": "stream",
     "text": [
      "Так говорила в июле 1805 года известная Анна Павловна Шерер, фрейлина и приближенная императрицы Марии Феодоровны, встречая важного и чиновного князя Василия, первого приехавшего на ее вечер.\n",
      " == \n",
      "\"  It was in July, 1805, and the speaker was the well-known Anna Pavlovna Scherer, maid of honor and favorite of the Empress Marya Fedorovna. With these words she greeted Prince Vasili Kuragin, a man of high rank and importance, who was the first to arrive at her reception.\n"
     ]
    }
   ],
   "source": [
    "print(tolstoy_sentences[5] + \"\\n == \\n\" + maude_sentences[4] + \" \" + maude_sentences[5])"
   ]
  },
  {
   "cell_type": "code",
   "execution_count": 109,
   "metadata": {},
   "outputs": [
    {
     "name": "stdout",
     "output_type": "stream",
     "text": [
      "Анна Павловна кашляла несколько дней, у нее был  грипп , как она говорила  (грипп  был тогда новое слово, употреблявшееся только редкими).\n",
      "==\n",
      "Anna Pavlovna had had a cough for some days.\n"
     ]
    }
   ],
   "source": [
    "print(tolstoy_sentences[6] + \"\\n==\\n\" + maude_sentences[6])"
   ]
  },
  {
   "cell_type": "markdown",
   "metadata": {},
   "source": [
    "Now, maude decided to split tolstoy's sentences into two parts. tostoy[6] = maude[6] + maude[7]"
   ]
  },
  {
   "cell_type": "code",
   "execution_count": 110,
   "metadata": {},
   "outputs": [
    {
     "name": "stdout",
     "output_type": "stream",
     "text": [
      "Анна Павловна кашляла несколько дней, у нее был  грипп , как она говорила  (грипп  был тогда новое слово, употреблявшееся только редкими).\n",
      " == \n",
      "Anna Pavlovna had had a cough for some days. She was, as she said, suffering from la grippe; grippe being then a new word in St.Petersburg, used only by the elite.\n"
     ]
    }
   ],
   "source": [
    "print(tolstoy_sentences[6] + \"\\n == \\n\" + maude_sentences[6] + \" \" + maude_sentences[7])"
   ]
  },
  {
   "cell_type": "markdown",
   "metadata": {},
   "source": [
    "Maude here adds some new idea for reader to see complete picture.  To clearly emphasize the elite/rare/high group of people, he states the city name (St.Petersburg) as background info."
   ]
  },
  {
   "cell_type": "code",
   "execution_count": 114,
   "metadata": {},
   "outputs": [
    {
     "name": "stdout",
     "output_type": "stream",
     "text": [
      "В записочках, разосланных утром с красным лакеем, было написано без различия во всех:   «Si vous n’avez rien de mieux à faire, M. le comte (или mon prince), et si la perspective de passer la soirée chez une pauvre malade ne vous effraye pas trop, je serai charmée de vous voir chez moi entre 7 et 10 heures. Annette Scherer».\n",
      "==\n",
      "All her invitations without exception, written in French, and delivered by a scarlet-liveried footman that morning, ran as follows:  \"If you have nothing better to do, Count [or Prince], and if the prospect of spending an evening with a poor invalid is not too terrible, I shall be very charmed to see you tonight between 7 and 10- Annette Scherer.\n"
     ]
    }
   ],
   "source": [
    "print(tolstoy_sentences[7] + \" \" + tolstoy_sentences[8] + \"\\n==\\n\" + maude_sentences[8])"
   ]
  },
  {
   "cell_type": "code",
   "execution_count": 116,
   "metadata": {},
   "outputs": [
    {
     "name": "stdout",
     "output_type": "stream",
     "text": [
      "— Dieu, quelle virulente sortie!\n",
      "==\n",
      "\"  \"Heavens!what a virulent attack!\"\n"
     ]
    }
   ],
   "source": [
    "print(tolstoy_sentences[9] + \"\\n==\\n\" + maude_sentences[9] + maude_sentences[10])"
   ]
  },
  {
   "cell_type": "code",
   "execution_count": 118,
   "metadata": {},
   "outputs": [
    {
     "name": "stdout",
     "output_type": "stream",
     "text": [
      "— отвечал, нисколько не смутясь такою встречей, вошедший князь, в придворном, шитом мундире, в чулках, башмаках, и звездах, с светлым выражением плоского лица.\n",
      "==\n",
      "replied the prince, not in the least disconcerted by this reception. He had just entered, wearing an embroidered court uniform, knee breeches, and shoes, and had stars on his breast and a serene expression on his flat face.\n"
     ]
    }
   ],
   "source": [
    "print(tolstoy_sentences[10] + \"\\n==\\n\" + maude_sentences[11] + \" \" + maude_sentences[12] )"
   ]
  },
  {
   "cell_type": "markdown",
   "metadata": {},
   "source": [
    "#### The file tolstoy_sentences has simple MT from Russian to English, ignoring French"
   ]
  },
  {
   "cell_type": "code",
   "execution_count": 103,
   "metadata": {},
   "outputs": [
    {
     "name": "stdout",
     "output_type": "stream",
     "text": [
      "0 => - Eh bien, mon prince.\n",
      "1 => Gênes et Lucques ne sont plus que des apanages, des estates, de la famille Buonaparte.\n",
      "2 => Non, je vous préviens, que si vous ne me dites pas, que nous avons la guerre, si vous vous permettez encore de pallier toutes les infamies, toutes les atrocités de cet Antichrist (ma parole, j'y crois) - je ne vous connais plus, vous n'êtes plus mon ami, vous n'êtes plus my faithful slave, comme vous dites.\n",
      "3 => Well, hello, hello.\n",
      "4 => Je vois que je vous fais peur, sit down and talk.\n",
      "5 => This is what the famous Anna Pavlovna Sherer, a lady-in-waiting and close associate of Empress Maria Feodorovna, spoke in July 1805, when meeting the important and official Prince Vasily, who was the first to come to her evening.\n",
      "6 => Anna Pavlovna coughed for several days, she had the flu, as she said (flu was then a new word, used only rarely).\n",
      "7 => In the notes sent out in the morning with the red footman, it was written without distinction in all: “Si vous n'avez rien de mieux à faire, M. le comte (or mon prince), et si la perspective de passer la soirée chez une pauvre malade ne vous effraye pas trop, je serai charmée de vous voir chez moi entre 7 et 10 heures.\n",
      "8 => Annette Scherer \".\n",
      "9 => - Dieu, quelle virulente sortie!\n"
     ]
    }
   ],
   "source": [
    "machine_translations = get_sentences_from('../data/tolstoy_translated.txt')\n",
    "print_text(machine_translations[:10])"
   ]
  },
  {
   "cell_type": "code",
   "execution_count": 119,
   "metadata": {},
   "outputs": [
    {
     "name": "stdout",
     "output_type": "stream",
     "text": [
      "0 => Well, Prince, so Genoa and Lucca are now just family estates of the Buonapartes.\n",
      "1 => I see I have frightened you- sit down and tell me all the news.\n",
      "2 => \"  It was in July, 1805, and the speaker was the well-known Anna Pavlovna Scherer, maid of honor and favorite of the Empress Marya Fedorovna. With these words she greeted Prince Vasili Kuragin, a man of high rank and importance, who was the first to arrive at her reception.\n",
      "3 => Anna Pavlovna had had a cough for some days. She was, as she said, suffering from la grippe; grippe being then a new word in St.\n",
      "4 => All her invitations without exception, written in French, and delivered by a scarlet-liveried footman that morning, ran as follows:  \"If you have nothing better to do, Count [or Prince], and if the prospect of spending an evening with a poor invalid is not too terrible, I shall be very charmed to see you tonight between 7 and 10- Annette Scherer. \"  \"Heavens!\n",
      "5 => what a virulent attack!\"\n",
      "6 => replied the prince, not in the least disconcerted by this reception. He had just entered, wearing an embroidered court uniform, knee breeches, and shoes, and had stars on his breast and a serene expression on his flat face.\n",
      "7 => He spoke in that refined French in which our grandfathers not only spoke but thought, and with the gentle, patronizing intonation natural to a man of importance who had grown old in society and at court.\n",
      "8 => He went up to Anna Pavlovna, kissed her hand, presenting to her his bald, scented, and shining head, and complacently seated himself on the sofa.\n",
      "9 => \"First of all, dear friend, tell me how you are.\n"
     ]
    }
   ],
   "source": [
    "target_aligned = get_sentences_from('../data/outputfile-t')\n",
    "print_text(target_aligned[:10])"
   ]
  },
  {
   "cell_type": "code",
   "execution_count": 121,
   "metadata": {},
   "outputs": [
    {
     "name": "stdout",
     "output_type": "stream",
     "text": [
      "0 => Ну, здравствуйте, здравствуйте.\n",
      "1 => Je vois que je vous fais peur,  садитесь и рассказывайте.\n",
      "2 => Так говорила в июле 1805 года известная Анна Павловна Шерер, фрейлина и приближенная императрицы Марии Феодоровны, встречая важного и чиновного князя Василия, первого приехавшего на ее вечер.\n",
      "3 => Анна Павловна кашляла несколько дней, у нее был  грипп , как она говорила  (грипп  был тогда новое слово, употреблявшееся только редкими).\n",
      "4 => В записочках, разосланных утром с красным лакеем, было написано без различия во всех:   «Si vous n’avez rien de mieux à faire, M. le comte (или mon prince), et si la perspective de passer la soirée chez une pauvre malade ne vous effraye pas trop, je serai charmée de vous voir chez moi entre 7 et 10 heures. Annette Scherer».\n",
      "5 => — Dieu, quelle virulente sortie!\n",
      "6 => — отвечал, нисколько не смутясь такою встречей, вошедший князь, в придворном, шитом мундире, в чулках, башмаках, и звездах, с светлым выражением плоского лица.\n",
      "7 => Он говорил на том изысканном французском языке, на котором не только говорили, но и думали наши деды, и с теми тихими, покровительственными интонациями, которые свойственны состаревшемуcя в свете и при дворе значительному человеку.\n",
      "8 => Он подошел к Анне Павловне, поцеловал ее руку, подставив ей свою надушенную и сияющую лысину, и покойно уселся на диване.\n",
      "9 => — Avant tout dites moi, comment vous allez, chère amie?\n"
     ]
    }
   ],
   "source": [
    "source_aligned = get_sentences_from('../data/outputfile-s')\n",
    "print_text(source_aligned[:10])"
   ]
  },
  {
   "cell_type": "code",
   "execution_count": 122,
   "metadata": {},
   "outputs": [
    {
     "data": {
      "text/plain": [
       "39"
      ]
     },
     "execution_count": 122,
     "metadata": {},
     "output_type": "execute_result"
    }
   ],
   "source": [
    "# the result has less sentences than mt/original, bleualign changes the order and elimates some ideas, even if they are quite good match\n",
    "283 - len(result_sentences)"
   ]
  },
  {
   "cell_type": "code",
   "execution_count": 123,
   "metadata": {},
   "outputs": [
    {
     "data": {
      "text/plain": [
       "['— Eh bien, mon prince.',\n",
       " 'Gênes et Lucques ne sont plus que des apanages, des поместья, de la famille Buonaparte.',\n",
       " 'Non, je vous préviens, que si vous ne me dites pas, que nous avons la guerre, si vous vous permettez encore de pallier toutes les infamies, toutes les atrocités de cet Antichrist (ma parole, j’y crois) — je ne vous connais plus, vous n’êtes plus mon ami, vous n’êtes plus мой верный раб, comme vous dites.',\n",
       " 'Ну, здравствуйте, здравствуйте.',\n",
       " 'Je vois que je vous fais peur,  садитесь и рассказывайте.',\n",
       " 'Так говорила в июле 1805 года известная Анна Павловна Шерер, фрейлина и приближенная императрицы Марии Феодоровны, встречая важного и чиновного князя Василия, первого приехавшего на ее вечер.',\n",
       " 'Анна Павловна кашляла несколько дней, у нее был  грипп , как она говорила  (грипп  был тогда новое слово, употреблявшееся только редкими).',\n",
       " 'В записочках, разосланных утром с красным лакеем, было написано без различия во всех:   «Si vous n’avez rien de mieux à faire, M. le comte (или mon prince), et si la perspective de passer la soirée chez une pauvre malade ne vous effraye pas trop, je serai charmée de vous voir chez moi entre 7 et 10 heures.',\n",
       " 'Annette Scherer».',\n",
       " '— Dieu, quelle virulente sortie!']"
      ]
     },
     "execution_count": 123,
     "metadata": {},
     "output_type": "execute_result"
    }
   ],
   "source": [
    "tolstoy_sentences[:10]"
   ]
  },
  {
   "cell_type": "code",
   "execution_count": 33,
   "metadata": {},
   "outputs": [
    {
     "data": {
      "text/plain": [
       "['Ну, здравствуйте, здравствуйте.',\n",
       " 'Je vois que je vous fais peur,  садитесь и рассказывайте.',\n",
       " 'Так говорила в июле 1805 года известная Анна Павловна Шерер, фрейлина и приближенная императрицы Марии Феодоровны, встречая важного и чиновного князя Василия, первого приехавшего на ее вечер.',\n",
       " 'Анна Павловна кашляла несколько дней, у нее был  грипп , как она говорила  (грипп  был тогда новое слово, употреблявшееся только редкими).',\n",
       " 'В записочках, разосланных утром с красным лакеем, было написано без различия во всех:   «Si vous n’avez rien de mieux à faire, M. le comte (или mon prince), et si la perspective de passer la soirée chez une pauvre malade ne vous effraye pas trop, je serai charmée de vous voir chez moi entre 7 et 10 heures. Annette Scherer».',\n",
       " '— Dieu, quelle virulente sortie!',\n",
       " '— отвечал, нисколько не смутясь такою встречей, вошедший князь, в придворном, шитом мундире, в чулках, башмаках, и звездах, с светлым выражением плоского лица.',\n",
       " 'Он говорил на том изысканном французском языке, на котором не только говорили, но и думали наши деды, и с теми тихими, покровительственными интонациями, которые свойственны состаревшемуcя в свете и при дворе значительному человеку.',\n",
       " 'Он подошел к Анне Павловне, поцеловал ее руку, подставив ей свою надушенную и сияющую лысину, и покойно уселся на диване.',\n",
       " '— Avant tout dites moi, comment vous allez, chère amie?']"
      ]
     },
     "execution_count": 33,
     "metadata": {},
     "output_type": "execute_result"
    }
   ],
   "source": [
    "source_aligned[:10]"
   ]
  },
  {
   "cell_type": "code",
   "execution_count": 124,
   "metadata": {},
   "outputs": [
    {
     "data": {
      "text/plain": [
       "['Well, Prince, so Genoa and Lucca are now just family estates of the Buonapartes.',\n",
       " 'I see I have frightened you- sit down and tell me all the news.',\n",
       " '\"  It was in July, 1805, and the speaker was the well-known Anna Pavlovna Scherer, maid of honor and favorite of the Empress Marya Fedorovna. With these words she greeted Prince Vasili Kuragin, a man of high rank and importance, who was the first to arrive at her reception.',\n",
       " 'Anna Pavlovna had had a cough for some days. She was, as she said, suffering from la grippe; grippe being then a new word in St.',\n",
       " 'All her invitations without exception, written in French, and delivered by a scarlet-liveried footman that morning, ran as follows:  \"If you have nothing better to do, Count [or Prince], and if the prospect of spending an evening with a poor invalid is not too terrible, I shall be very charmed to see you tonight between 7 and 10- Annette Scherer. \"  \"Heavens!',\n",
       " 'what a virulent attack!\"',\n",
       " 'replied the prince, not in the least disconcerted by this reception. He had just entered, wearing an embroidered court uniform, knee breeches, and shoes, and had stars on his breast and a serene expression on his flat face.',\n",
       " 'He spoke in that refined French in which our grandfathers not only spoke but thought, and with the gentle, patronizing intonation natural to a man of importance who had grown old in society and at court.',\n",
       " 'He went up to Anna Pavlovna, kissed her hand, presenting to her his bald, scented, and shining head, and complacently seated himself on the sofa.',\n",
       " '\"First of all, dear friend, tell me how you are.']"
      ]
     },
     "execution_count": 124,
     "metadata": {},
     "output_type": "execute_result"
    }
   ],
   "source": [
    "target_aligned[:10]"
   ]
  },
  {
   "cell_type": "markdown",
   "metadata": {},
   "source": [
    "#### I will manually translate french to english in addition to standard russian to english translation to see if that helps\n",
    "##### manually_fixed.txt is the machine-manual-translation"
   ]
  },
  {
   "cell_type": "code",
   "execution_count": 78,
   "metadata": {},
   "outputs": [
    {
     "name": "stdout",
     "output_type": "stream",
     "text": [
      "0 => - Well, my prince.\n",
      "1 => Genoa and Lucca are no more than appanages, estates of the Buonaparte family.\n",
      "2 => No, I warn you, that if you do not tell me, that we have war, if you still allow yourselves to palliate all the infamies, all the atrocities of this Antichrist (my word, I believe it) - I do not know more, you are no longer my friend, you are no longer my faithful slave, as you say.\n",
      "3 => Well, hello, hello.\n",
      "4 => I see that I scare you, sit down and talk.\n",
      "5 => This is what the famous Anna Pavlovna Sherer, a lady-in-waiting and close associate of Empress Maria Feodorovna, spoke in July 1805, when meeting the important and official Prince Vasily, who was the first to come to her evening.\n",
      "6 => Anna Pavlovna coughed for several days, she had the flu, as she said (flu was then a new word, used only rarely).\n",
      "7 => In the notes sent out in the morning with the red footman, it was written without distinction in all: “If you have nothing better to do, M. le comte (or my prince), and if the prospect of spending the evening with a poor patient does not frighten you too much, I will be delighted to see you at my place between 7 and 10 hours.\n",
      "8 => Annette Scherer \".\n",
      "9 => - God, what a virulent exit!\n"
     ]
    }
   ],
   "source": [
    "manual_mt_sentences = get_sentences_from('../data/manually_fixed.txt')\n",
    "print_text(manual_mt_sentences[:10])"
   ]
  },
  {
   "cell_type": "code",
   "execution_count": 125,
   "metadata": {},
   "outputs": [
    {
     "name": "stdout",
     "output_type": "stream",
     "text": [
      "0 => Gênes et Lucques ne sont plus que des apanages, des поместья, de la famille Buonaparte.\n",
      "1 => Non, je vous préviens, que si vous ne me dites pas, que nous avons la guerre, si vous vous permettez encore de pallier toutes les infamies, toutes les atrocités de cet Antichrist (ma parole, j’y crois) — je ne vous connais plus, vous n’êtes plus mon ami, vous n’êtes plus мой верный раб, comme vous dites.\n",
      "2 => Je vois que je vous fais peur,  садитесь и рассказывайте.\n",
      "3 => Так говорила в июле 1805 года известная Анна Павловна Шерер, фрейлина и приближенная императрицы Марии Феодоровны, встречая важного и чиновного князя Василия, первого приехавшего на ее вечер.\n",
      "4 => Анна Павловна кашляла несколько дней, у нее был  грипп , как она говорила  (грипп  был тогда новое слово, употреблявшееся только редкими).\n",
      "5 => В записочках, разосланных утром с красным лакеем, было написано без различия во всех:   «Si vous n’avez rien de mieux à faire, M. le comte (или mon prince), et si la perspective de passer la soirée chez une pauvre malade ne vous effraye pas trop, je serai charmée de vous voir chez moi entre 7 et 10 heures.\n",
      "6 => Annette Scherer».\n",
      "7 => — Dieu, quelle virulente sortie!\n",
      "8 => — отвечал, нисколько не смутясь такою встречей, вошедший князь, в придворном, шитом мундире, в чулках, башмаках, и звездах, с светлым выражением плоского лица.\n",
      "9 => Он говорил на том изысканном французском языке, на котором не только говорили, но и думали наши деды, и с теми тихими, покровительственными интонациями, которые свойственны состаревшемуcя в свете и при дворе значительному человеку.\n"
     ]
    }
   ],
   "source": [
    "another_source_aligned = get_sentences_from('../data/secondtrial-s')\n",
    "print_text(another_source_aligned[:10])"
   ]
  },
  {
   "cell_type": "code",
   "execution_count": 126,
   "metadata": {},
   "outputs": [
    {
     "name": "stdout",
     "output_type": "stream",
     "text": [
      "0 => Well, Prince, so Genoa and Lucca are now just family estates of the Buonapartes.\n",
      "1 => But I warn you, if you don't tell me that this means war, if you still try to defend the infamies and horrors perpetrated by that Antichrist- I really believe he is Antichrist- I will have nothing more to do with you and you are no longer my friend, no longer my 'faithful slave,' as you call yourself! But how do you do?\n",
      "2 => I see I have frightened you- sit down and tell me all the news.\n",
      "3 => \"  It was in July, 1805, and the speaker was the well-known Anna Pavlovna Scherer, maid of honor and favorite of the Empress Marya Fedorovna. With these words she greeted Prince Vasili Kuragin, a man of high rank and importance, who was the first to arrive at her reception.\n",
      "4 => Anna Pavlovna had had a cough for some days. She was, as she said, suffering from la grippe; grippe being then a new word in St.\n",
      "5 => All her invitations without exception, written in French, and delivered by a scarlet-liveried footman that morning, ran as follows:  \"If you have nothing better to do, Count [or Prince], and if the prospect of spending an evening with a poor invalid is not too terrible, I shall be very charmed to see you tonight between 7 and 10- Annette Scherer.\n",
      "6 => \"  \"Heavens!\n",
      "7 => what a virulent attack!\"\n",
      "8 => replied the prince, not in the least disconcerted by this reception. He had just entered, wearing an embroidered court uniform, knee breeches, and shoes, and had stars on his breast and a serene expression on his flat face.\n",
      "9 => He spoke in that refined French in which our grandfathers not only spoke but thought, and with the gentle, patronizing intonation natural to a man of importance who had grown old in society and at court.\n"
     ]
    }
   ],
   "source": [
    "another_target_aligned = get_sentences_from('../data/secondtrial-t')\n",
    "print_text(another_target_aligned[:10])"
   ]
  },
  {
   "cell_type": "code",
   "execution_count": null,
   "metadata": {},
   "outputs": [],
   "source": []
  }
 ],
 "metadata": {
  "kernelspec": {
   "display_name": "wrpc",
   "language": "python",
   "name": "wrpc"
  },
  "language_info": {
   "codemirror_mode": {
    "name": "ipython",
    "version": 3
   },
   "file_extension": ".py",
   "mimetype": "text/x-python",
   "name": "python",
   "nbconvert_exporter": "python",
   "pygments_lexer": "ipython3",
   "version": "3.7.12"
  }
 },
 "nbformat": 4,
 "nbformat_minor": 4
}
