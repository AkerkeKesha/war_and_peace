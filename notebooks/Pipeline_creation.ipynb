{
 "cells": [
  {
   "cell_type": "code",
   "execution_count": 1,
   "metadata": {},
   "outputs": [],
   "source": [
    "%load_ext autoreload\n",
    "%autoreload 2"
   ]
  },
  {
   "cell_type": "code",
   "execution_count": 2,
   "metadata": {},
   "outputs": [],
   "source": [
    "import epub_reader as e\n",
    "from utils import get_raw_file\n",
    "import ebooklib\n",
    "from ebooklib import epub\n",
    "from bs4 import BeautifulSoup\n",
    "import spacy\n",
    "import re"
   ]
  },
  {
   "cell_type": "code",
   "execution_count": 3,
   "metadata": {},
   "outputs": [
    {
     "data": {
      "text/plain": [
       "'/Users/akerke/Desktop/Masterstudium/4.Semester/MasterThesis/war_and_peace/raw_data/0.tolstoy/voina-i-mir.epub'"
      ]
     },
     "execution_count": 3,
     "metadata": {},
     "output_type": "execute_result"
    }
   ],
   "source": [
    "tolstoy_epub = get_raw_file('0.tolstoy','voina-i-mir.epub')\n",
    "tolstoy_epub"
   ]
  },
  {
   "cell_type": "code",
   "execution_count": 4,
   "metadata": {},
   "outputs": [
    {
     "data": {
      "text/plain": [
       "402"
      ]
     },
     "execution_count": 4,
     "metadata": {},
     "output_type": "execute_result"
    }
   ],
   "source": [
    "chapters = e.epub2text(tolstoy_epub)\n",
    "len(chapters)"
   ]
  },
  {
   "cell_type": "code",
   "execution_count": 65,
   "metadata": {},
   "outputs": [
    {
     "name": "stdout",
     "output_type": "stream",
     "text": [
      "367\n"
     ]
    }
   ],
   "source": [
    "# chapters[367] # this is the final chapter\n",
    "for idx, chap in enumerate(output):\n",
    "    if 'Конец.' in chap:\n",
    "        print(idx)"
   ]
  },
  {
   "cell_type": "code",
   "execution_count": 6,
   "metadata": {},
   "outputs": [],
   "source": [
    "from utils import chapter_sentencizer"
   ]
  },
  {
   "cell_type": "code",
   "execution_count": 15,
   "metadata": {},
   "outputs": [],
   "source": [
    "# raw_text = ''.join([chap for chap in chapters[3:367]])"
   ]
  },
  {
   "cell_type": "code",
   "execution_count": null,
   "metadata": {},
   "outputs": [],
   "source": []
  },
  {
   "cell_type": "code",
   "execution_count": 7,
   "metadata": {},
   "outputs": [],
   "source": [
    "# only first three chapters are processed\n",
    "# sentencize each chapter separately, then append the text in the text file\n",
    "\n",
    "for chap in chapters[3:6]:\n",
    "    chap = chap.replace('\\n', ' ')\n",
    "    text = chapter_sentencizer(chap)\n",
    "    with open(\"./data/test.txt\", \"a\") as fh:\n",
    "        fh.write(text)"
   ]
  },
  {
   "cell_type": "code",
   "execution_count": 8,
   "metadata": {},
   "outputs": [],
   "source": [
    "with open(\"./data/test.txt\", \"r\") as fh:\n",
    "    test = fh.read()"
   ]
  },
  {
   "cell_type": "code",
   "execution_count": 10,
   "metadata": {},
   "outputs": [
    {
     "data": {
      "text/plain": [
       "'еру, что этого не нужно спрашивать.\\nОн что-то хотел сказать еще, но в это время поднялся князь Василий с дочерью, и мужчины встали, чтобы дать им дорогу.\\n— Вы меня извините, мой милый виконт, — сказал князь Василий французу, ласково притягивая его за рукав вниз к стулу, чтоб он не вставал.\\n— Этот несчастный праздник у посланника лишает меня удовольствия и прерывает вас.\\nОчень мне грустно покидать ваш восхитительный вечер, — сказал он Анне Павловне.\\nДочь его, княжна Элен, слегка придерживая складки платья, пошла между стульев, и улыбка сияла еще светлее на ее прекрасном лице.\\nПьер смотрел почти испуганными, восторженными глазами на эту красавицу, когда она проходила мимо его.\\n— Очень хороша, — сказал князь Андрей.\\n— Очень, — сказал Пьер.\\nПроходя мимо, князь Василий схватил Пьера за руку и обратился к Анне Павловне.\\n— Образуйте мне этого медведя, — сказал он.\\n— Вот он месяц живет у меня, и в первый раз я его вижу в свете.\\nНичто так не нужно молодому.\\nчеловеку, как общество умных женщин.\\n'"
      ]
     },
     "execution_count": 10,
     "metadata": {},
     "output_type": "execute_result"
    }
   ],
   "source": [
    "test[-1000:]"
   ]
  },
  {
   "cell_type": "code",
   "execution_count": 11,
   "metadata": {},
   "outputs": [],
   "source": [
    "from utils import get_clean_file\n",
    "from machine_translation import marian_translate\n",
    "import time"
   ]
  },
  {
   "cell_type": "code",
   "execution_count": 12,
   "metadata": {},
   "outputs": [
    {
     "name": "stdout",
     "output_type": "stream",
     "text": [
      "/Users/akerke/Desktop/Masterstudium/4.Semester/MasterThesis/war_and_peace/data/test.txt\n",
      "283 sentences to feed\n"
     ]
    }
   ],
   "source": [
    "start_time = time.time()\n",
    "clean_file_path = get_clean_file('test.txt')\n",
    "print(clean_file_path)\n",
    "with open(clean_file_path, 'r') as fh:\n",
    "    tolstoy_texts = fh.readlines()\n",
    "print(f\"{len(tolstoy_texts)} sentences to feed\")"
   ]
  },
  {
   "cell_type": "code",
   "execution_count": null,
   "metadata": {},
   "outputs": [],
   "source": [
    "tolstoy_translated = marian_translate(tolstoy_texts)\n",
    "print(f\"{len(tolstoy_translated)} sentences translated\")\n",
    "for sentence in tolstoy_translated:\n",
    "    with open('./data/tolstoy_translated.txt', 'a') as fh:\n",
    "        fh.write(f\"{sentence}\\n\")\n",
    "print(f\"{time.time() - start_time} seconds to translate\")"
   ]
  },
  {
   "cell_type": "code",
   "execution_count": null,
   "metadata": {},
   "outputs": [],
   "source": []
  }
 ],
 "metadata": {
  "kernelspec": {
   "display_name": "wrpc",
   "language": "python",
   "name": "wrpc"
  },
  "language_info": {
   "codemirror_mode": {
    "name": "ipython",
    "version": 3
   },
   "file_extension": ".py",
   "mimetype": "text/x-python",
   "name": "python",
   "nbconvert_exporter": "python",
   "pygments_lexer": "ipython3",
   "version": "3.7.12"
  }
 },
 "nbformat": 4,
 "nbformat_minor": 5
}
