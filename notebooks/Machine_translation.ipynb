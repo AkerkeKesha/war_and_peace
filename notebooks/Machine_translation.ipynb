{
 "cells": [
  {
   "cell_type": "markdown",
   "metadata": {},
   "source": [
    "### Code below needed for colab settings"
   ]
  },
  {
   "cell_type": "code",
   "execution_count": null,
   "metadata": {},
   "outputs": [],
   "source": [
    "import os, sys\n",
    "from google.colab import drive\n",
    "drive.mount('/content/gdrive')"
   ]
  },
  {
   "cell_type": "code",
   "execution_count": null,
   "metadata": {},
   "outputs": [],
   "source": [
    "PROJECT_PATH = '/content/gdrive/My Drive/Studium TU Berlin/Abalgabekova: Master Thesis/war_and_peace'"
   ]
  },
  {
   "cell_type": "code",
   "execution_count": null,
   "metadata": {},
   "outputs": [],
   "source": [
    "cd \"{PROJECT_PATH}\""
   ]
  },
  {
   "cell_type": "code",
   "execution_count": 1,
   "metadata": {},
   "outputs": [
    {
     "name": "stdout",
     "output_type": "stream",
     "text": [
      "/Users/akerke/Desktop/Masterstudium/4.Semester/MasterThesis/war_and_peace/notebooks\n"
     ]
    }
   ],
   "source": [
    "!pwd"
   ]
  },
  {
   "cell_type": "code",
   "execution_count": 3,
   "metadata": {},
   "outputs": [],
   "source": [
    "import sys\n",
    "sys.path.append(PROJECT_PATH)"
   ]
  },
  {
   "cell_type": "code",
   "execution_count": null,
   "metadata": {},
   "outputs": [],
   "source": [
    "!pip install -U spacy "
   ]
  },
  {
   "cell_type": "code",
   "execution_count": null,
   "metadata": {},
   "outputs": [],
   "source": [
    "!python -m spacy download ru_core_news_sm"
   ]
  },
  {
   "cell_type": "code",
   "execution_count": null,
   "metadata": {},
   "outputs": [],
   "source": [
    "!pip install sentencepiece"
   ]
  },
  {
   "cell_type": "code",
   "execution_count": null,
   "metadata": {},
   "outputs": [],
   "source": [
    "!pip install transformers"
   ]
  },
  {
   "cell_type": "code",
   "execution_count": 7,
   "metadata": {},
   "outputs": [
    {
     "data": {
      "text/plain": [
       "'/Users/akerke/Desktop/Masterstudium/4.Semester/MasterThesis/war_and_peace/raw_data/0.tolstoy/voina-i-mir.epub'"
      ]
     },
     "execution_count": 7,
     "metadata": {},
     "output_type": "execute_result"
    }
   ],
   "source": [
    "# tolstoy_epub = get_raw_file('0.tolstoy','voina-i-mir.epub')\n",
    "# tolstoy_epub"
   ]
  },
  {
   "cell_type": "code",
   "execution_count": 7,
   "metadata": {},
   "outputs": [],
   "source": [
    "# sentencize each chapter separately, then append the text in the text file\n",
    "# save output of all appended chapters of original in test_machine_translation.txt file\n",
    "# for chap in chapters[3:368]:\n",
    "#     chap = chap.replace('\\n', ' ')\n",
    "#     text = chapter_sentencizer(chap)\n",
    "#     with open(\"./data/test_machine_translation.txt\", \"a\") as fh:\n",
    "#         fh.write(text)"
   ]
  },
  {
   "cell_type": "code",
   "execution_count": 8,
   "metadata": {},
   "outputs": [],
   "source": [
    "# check what you are going to translate\n",
    "with open(\"./data/test_machine_translation.txt\", \"r\") as fh:\n",
    "    test = fh.read()\n",
    "test[-100:]"
   ]
  },
  {
   "cell_type": "code",
   "execution_count": 9,
   "metadata": {},
   "outputs": [],
   "source": [
    "from utils import get_clean_file\n",
    "from machine_translation import marian_translate\n",
    "import time"
   ]
  },
  {
   "cell_type": "code",
   "execution_count": 12,
   "metadata": {},
   "outputs": [
    {
     "name": "stdout",
     "output_type": "stream",
     "text": [
      "/Users/akerke/Desktop/Masterstudium/4.Semester/MasterThesis/war_and_peace/data/test.txt\n",
      "283 sentences to feed\n"
     ]
    }
   ],
   "source": [
    "# machine translation begins\n",
    "start_time = time.time()\n",
    "clean_file_path = get_clean_file('test_machine_translation.txt')\n",
    "print(clean_file_path)\n",
    "with open(clean_file_path, 'r') as fh:\n",
    "    tolstoy_texts = fh.readlines()\n",
    "print(f\"{len(tolstoy_texts)} sentences to feed\")\n",
    "tolstoy_translated = marian_translate(tolstoy_texts)\n",
    "print(f\"{len(tolstoy_translated)} sentences translated\")\n",
    "for sentence in tolstoy_translated:\n",
    "    with open('./data/colab_tolstoy_translated.txt', 'a') as fh:\n",
    "        fh.write(f\"{sentence}\\n\")\n",
    "print(f\"{time.time() - start_time} seconds to translate\")"
   ]
  },
  {
   "cell_type": "code",
   "execution_count": null,
   "metadata": {},
   "outputs": [],
   "source": []
  }
 ],
 "metadata": {
  "kernelspec": {
   "display_name": "wrpc",
   "language": "python",
   "name": "wrpc"
  },
  "language_info": {
   "codemirror_mode": {
    "name": "ipython",
    "version": 3
   },
   "file_extension": ".py",
   "mimetype": "text/x-python",
   "name": "python",
   "nbconvert_exporter": "python",
   "pygments_lexer": "ipython3",
   "version": "3.7.12"
  }
 },
 "nbformat": 4,
 "nbformat_minor": 5
}
