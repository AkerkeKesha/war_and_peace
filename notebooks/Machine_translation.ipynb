{
 "cells": [
  {
   "cell_type": "markdown",
   "metadata": {},
   "source": [
    "### Code below needed for colab settings"
   ]
  },
  {
   "cell_type": "code",
   "execution_count": null,
   "metadata": {},
   "outputs": [],
   "source": [
    "import os, sys\n",
    "from google.colab import drive\n",
    "drive.mount('/content/gdrive')"
   ]
  },
  {
   "cell_type": "code",
   "execution_count": null,
   "metadata": {},
   "outputs": [],
   "source": [
    "PROJECT_PATH = '/content/gdrive/My Drive/Studium TU Berlin/Abalgabekova: Master Thesis/war_and_peace'"
   ]
  },
  {
   "cell_type": "code",
   "execution_count": null,
   "metadata": {},
   "outputs": [],
   "source": [
    "cd \"{PROJECT_PATH}\""
   ]
  },
  {
   "cell_type": "code",
   "execution_count": null,
   "metadata": {},
   "outputs": [],
   "source": [
    "import sys\n",
    "sys.path.append(PROJECT_PATH)"
   ]
  },
  {
   "cell_type": "code",
   "execution_count": null,
   "metadata": {},
   "outputs": [],
   "source": [
    "# this is supposed to be installed once\n",
    "!pip install -r requirements.txt"
   ]
  },
  {
   "cell_type": "code",
   "execution_count": null,
   "metadata": {},
   "outputs": [],
   "source": [
    "!python -m spacy download en_core_web_sm"
   ]
  },
  {
   "cell_type": "code",
   "execution_count": null,
   "metadata": {},
   "outputs": [],
   "source": [
    "# pip install -U spacy \n",
    "!python -m spacy download ru_core_news_sm"
   ]
  },
  {
   "cell_type": "code",
   "execution_count": null,
   "metadata": {},
   "outputs": [],
   "source": [
    "# store packages in GDrive\n",
    "!pip freeze --local > /content/gdrive/My\\ Drive/colab_installed.txt"
   ]
  },
  {
   "cell_type": "code",
   "execution_count": null,
   "metadata": {},
   "outputs": [],
   "source": [
    "# from google.colab import drive\n",
    "# drive.mount('/content/gdrive')\n",
    "pip install --upgrade --force-reinstall 'cat /content/gdrive/My\\ Drive/colab_installed.txt'"
   ]
  },
  {
   "cell_type": "code",
   "execution_count": 1,
   "metadata": {},
   "outputs": [],
   "source": [
    "from bs4 import BeautifulSoup\n",
    "import spacy\n",
    "import re"
   ]
  },
  {
   "cell_type": "code",
   "execution_count": 4,
   "metadata": {},
   "outputs": [],
   "source": [
    "import ebooklib\n",
    "from ebooklib import epub"
   ]
  },
  {
   "cell_type": "code",
   "execution_count": 6,
   "metadata": {},
   "outputs": [
    {
     "ename": "ModuleNotFoundError",
     "evalue": "No module named 'utils'",
     "output_type": "error",
     "traceback": [
      "\u001b[0;31m---------------------------------------------------------------------------\u001b[0m",
      "\u001b[0;31mModuleNotFoundError\u001b[0m                       Traceback (most recent call last)",
      "\u001b[0;32m/var/folders/6c/ld0n2vfs2yzgyxqzb68xqzbw0000gp/T/ipykernel_86957/1371733187.py\u001b[0m in \u001b[0;36m<module>\u001b[0;34m\u001b[0m\n\u001b[0;32m----> 1\u001b[0;31m \u001b[0;32mfrom\u001b[0m \u001b[0mutils\u001b[0m \u001b[0;32mimport\u001b[0m \u001b[0mget_raw_file\u001b[0m\u001b[0;34m\u001b[0m\u001b[0;34m\u001b[0m\u001b[0m\n\u001b[0m",
      "\u001b[0;31mModuleNotFoundError\u001b[0m: No module named 'utils'"
     ]
    }
   ],
   "source": [
    "from utils import get_raw_file\n",
    "import epub_reader\n",
    "from utils import chapter_sentencizer"
   ]
  },
  {
   "cell_type": "code",
   "execution_count": 3,
   "metadata": {},
   "outputs": [
    {
     "data": {
      "text/plain": [
       "'/Users/akerke/Desktop/Masterstudium/4.Semester/MasterThesis/war_and_peace/raw_data/0.tolstoy/voina-i-mir.epub'"
      ]
     },
     "execution_count": 3,
     "metadata": {},
     "output_type": "execute_result"
    }
   ],
   "source": [
    "tolstoy_epub = get_raw_file('0.tolstoy','voina-i-mir.epub')\n",
    "tolstoy_epub"
   ]
  },
  {
   "cell_type": "code",
   "execution_count": 4,
   "metadata": {},
   "outputs": [
    {
     "data": {
      "text/plain": [
       "402"
      ]
     },
     "execution_count": 4,
     "metadata": {},
     "output_type": "execute_result"
    }
   ],
   "source": [
    "chapters = epub_reader.epub2text(tolstoy_epub)\n",
    "len(chapters)"
   ]
  },
  {
   "cell_type": "code",
   "execution_count": 65,
   "metadata": {},
   "outputs": [
    {
     "name": "stdout",
     "output_type": "stream",
     "text": [
      "367\n"
     ]
    }
   ],
   "source": [
    "# chapters[367] # this is the final chapter\n",
    "for idx, chap in enumerate(chapters):\n",
    "    if 'Конец.' in chap:\n",
    "        print(idx)"
   ]
  },
  {
   "cell_type": "code",
   "execution_count": 6,
   "metadata": {},
   "outputs": [],
   "source": [
    "from utils import chapter_sentencizer"
   ]
  },
  {
   "cell_type": "code",
   "execution_count": 7,
   "metadata": {},
   "outputs": [],
   "source": [
    "# sentencize each chapter separately, then append the text in the text file\n",
    "\n",
    "for chap in chapters[3:368]:\n",
    "    chap = chap.replace('\\n', ' ')\n",
    "    text = chapter_sentencizer(chap)\n",
    "    with open(\"./data/test_machine_translation.txt\", \"a\") as fh:\n",
    "        fh.write(text)"
   ]
  },
  {
   "cell_type": "code",
   "execution_count": 8,
   "metadata": {},
   "outputs": [],
   "source": [
    "with open(\"./data/test_machine_translation.txt\", \"r\") as fh:\n",
    "    test = fh.read()\n",
    "test[-100:]"
   ]
  },
  {
   "cell_type": "code",
   "execution_count": 11,
   "metadata": {},
   "outputs": [],
   "source": [
    "from utils import get_clean_file\n",
    "from machine_translation import marian_translate\n",
    "import time"
   ]
  },
  {
   "cell_type": "code",
   "execution_count": 12,
   "metadata": {},
   "outputs": [
    {
     "name": "stdout",
     "output_type": "stream",
     "text": [
      "/Users/akerke/Desktop/Masterstudium/4.Semester/MasterThesis/war_and_peace/data/test.txt\n",
      "283 sentences to feed\n"
     ]
    }
   ],
   "source": [
    "start_time = time.time()\n",
    "clean_file_path = get_clean_file('test_machine_translation.txt')\n",
    "print(clean_file_path)\n",
    "with open(clean_file_path, 'r') as fh:\n",
    "    tolstoy_texts = fh.readlines()\n",
    "print(f\"{len(tolstoy_texts)} sentences to feed\")\n",
    "tolstoy_translated = marian_translate(tolstoy_texts)\n",
    "print(f\"{len(tolstoy_translated)} sentences translated\")\n",
    "for sentence in tolstoy_translated:\n",
    "    with open('./data/colab_tolstoy_translated.txt', 'a') as fh:\n",
    "        fh.write(f\"{sentence}\\n\")\n",
    "print(f\"{time.time() - start_time} seconds to translate\")"
   ]
  }
 ],
 "metadata": {
  "kernelspec": {
   "display_name": "wrpc",
   "language": "python",
   "name": "wrpc"
  },
  "language_info": {
   "codemirror_mode": {
    "name": "ipython",
    "version": 3
   },
   "file_extension": ".py",
   "mimetype": "text/x-python",
   "name": "python",
   "nbconvert_exporter": "python",
   "pygments_lexer": "ipython3",
   "version": "3.7.12"
  }
 },
 "nbformat": 4,
 "nbformat_minor": 5
}
